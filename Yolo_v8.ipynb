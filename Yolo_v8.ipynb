{
 "cells": [
  {
   "cell_type": "code",
   "execution_count": 10,
   "metadata": {},
   "outputs": [],
   "source": [
    "import cv2 as cv\n"
   ]
  },
  {
   "cell_type": "code",
   "execution_count": 1,
   "metadata": {},
   "outputs": [
    {
     "name": "stdout",
     "output_type": "stream",
     "text": [
      "Downloading https://github.com/ultralytics/assets/releases/download/v8.2.0/yolov8n.pt to 'yolov8n.pt'...\n",
      "⚠️ Download failure, retrying 1/3 https://github.com/ultralytics/assets/releases/download/v8.2.0/yolov8n.pt...\n"
     ]
    },
    {
     "name": "stderr",
     "output_type": "stream",
     "text": [
      "######################################################################## 100.0%###########################################################       93.4%\n"
     ]
    }
   ],
   "source": [
    "from ultralytics import YOLO\n",
    "\n",
    "model = YOLO('yolov8n.pt')  # Load YOLOv8 nano model"
   ]
  },
  {
   "cell_type": "code",
   "execution_count": 5,
   "metadata": {},
   "outputs": [
    {
     "name": "stdout",
     "output_type": "stream",
     "text": [
      "Ultralytics YOLOv8.2.103 🚀 Python-3.9.13 torch-2.4.1 CPU (Apple M1)\n",
      "\u001b[34m\u001b[1mengine/trainer: \u001b[0mtask=detect, mode=train, model=yolov8n.pt, data=/Users/apurvpandey/Documents/Ai4spro/Try_1/dataset/data.yaml, epochs=100, time=None, patience=100, batch=16, imgsz=640, save=True, save_period=-1, cache=False, device=None, workers=8, project=None, name=yolov8_custom, exist_ok=False, pretrained=True, optimizer=auto, verbose=True, seed=0, deterministic=True, single_cls=False, rect=False, cos_lr=False, close_mosaic=10, resume=False, amp=True, fraction=1.0, profile=False, freeze=None, multi_scale=False, overlap_mask=True, mask_ratio=4, dropout=0.0, val=True, split=val, save_json=False, save_hybrid=False, conf=None, iou=0.7, max_det=300, half=False, dnn=False, plots=True, source=None, vid_stride=1, stream_buffer=False, visualize=False, augment=False, agnostic_nms=False, classes=None, retina_masks=False, embed=None, show=False, save_frames=False, save_txt=False, save_conf=False, save_crop=False, show_labels=True, show_conf=True, show_boxes=True, line_width=None, format=torchscript, keras=False, optimize=False, int8=False, dynamic=False, simplify=True, opset=None, workspace=4, nms=False, lr0=0.01, lrf=0.01, momentum=0.937, weight_decay=0.0005, warmup_epochs=3.0, warmup_momentum=0.8, warmup_bias_lr=0.1, box=7.5, cls=0.5, dfl=1.5, pose=12.0, kobj=1.0, label_smoothing=0.0, nbs=64, hsv_h=0.015, hsv_s=0.7, hsv_v=0.4, degrees=0.0, translate=0.1, scale=0.5, shear=0.0, perspective=0.0, flipud=0.0, fliplr=0.5, bgr=0.0, mosaic=1.0, mixup=0.0, copy_paste=0.0, auto_augment=randaugment, erasing=0.4, crop_fraction=1.0, cfg=None, tracker=botsort.yaml, save_dir=runs/detect/yolov8_custom\n",
      "Overriding model.yaml nc=80 with nc=1\n",
      "\n",
      "                   from  n    params  module                                       arguments                     \n",
      "  0                  -1  1       464  ultralytics.nn.modules.conv.Conv             [3, 16, 3, 2]                 \n",
      "  1                  -1  1      4672  ultralytics.nn.modules.conv.Conv             [16, 32, 3, 2]                \n",
      "  2                  -1  1      7360  ultralytics.nn.modules.block.C2f             [32, 32, 1, True]             \n",
      "  3                  -1  1     18560  ultralytics.nn.modules.conv.Conv             [32, 64, 3, 2]                \n",
      "  4                  -1  2     49664  ultralytics.nn.modules.block.C2f             [64, 64, 2, True]             \n",
      "  5                  -1  1     73984  ultralytics.nn.modules.conv.Conv             [64, 128, 3, 2]               \n",
      "  6                  -1  2    197632  ultralytics.nn.modules.block.C2f             [128, 128, 2, True]           \n",
      "  7                  -1  1    295424  ultralytics.nn.modules.conv.Conv             [128, 256, 3, 2]              \n",
      "  8                  -1  1    460288  ultralytics.nn.modules.block.C2f             [256, 256, 1, True]           \n",
      "  9                  -1  1    164608  ultralytics.nn.modules.block.SPPF            [256, 256, 5]                 \n",
      " 10                  -1  1         0  torch.nn.modules.upsampling.Upsample         [None, 2, 'nearest']          \n",
      " 11             [-1, 6]  1         0  ultralytics.nn.modules.conv.Concat           [1]                           \n",
      " 12                  -1  1    148224  ultralytics.nn.modules.block.C2f             [384, 128, 1]                 \n",
      " 13                  -1  1         0  torch.nn.modules.upsampling.Upsample         [None, 2, 'nearest']          \n",
      " 14             [-1, 4]  1         0  ultralytics.nn.modules.conv.Concat           [1]                           \n",
      " 15                  -1  1     37248  ultralytics.nn.modules.block.C2f             [192, 64, 1]                  \n",
      " 16                  -1  1     36992  ultralytics.nn.modules.conv.Conv             [64, 64, 3, 2]                \n",
      " 17            [-1, 12]  1         0  ultralytics.nn.modules.conv.Concat           [1]                           \n",
      " 18                  -1  1    123648  ultralytics.nn.modules.block.C2f             [192, 128, 1]                 \n",
      " 19                  -1  1    147712  ultralytics.nn.modules.conv.Conv             [128, 128, 3, 2]              \n",
      " 20             [-1, 9]  1         0  ultralytics.nn.modules.conv.Concat           [1]                           \n",
      " 21                  -1  1    493056  ultralytics.nn.modules.block.C2f             [384, 256, 1]                 \n",
      " 22        [15, 18, 21]  1    751507  ultralytics.nn.modules.head.Detect           [1, [64, 128, 256]]           \n",
      "Model summary: 225 layers, 3,011,043 parameters, 3,011,027 gradients, 8.2 GFLOPs\n",
      "\n",
      "Transferred 319/355 items from pretrained weights\n",
      "Freezing layer 'model.22.dfl.conv.weight'\n"
     ]
    },
    {
     "name": "stderr",
     "output_type": "stream",
     "text": [
      "\u001b[34m\u001b[1mtrain: \u001b[0mScanning /Users/apurvpandey/Documents/Ai4spro/Try_1/dataset/train/labels... 140 images, 3 backgrounds, 0 corrupt: 100%|██████████| 140/140 [00:00<00:00, 705.48it/s]\n"
     ]
    },
    {
     "name": "stdout",
     "output_type": "stream",
     "text": [
      "\u001b[34m\u001b[1mtrain: \u001b[0mNew cache created: /Users/apurvpandey/Documents/Ai4spro/Try_1/dataset/train/labels.cache\n"
     ]
    },
    {
     "name": "stderr",
     "output_type": "stream",
     "text": [
      "\u001b[34m\u001b[1mval: \u001b[0mScanning /Users/apurvpandey/Documents/Ai4spro/Try_1/dataset/valid/labels... 40 images, 0 backgrounds, 0 corrupt: 100%|██████████| 40/40 [00:00<00:00, 2853.66it/s]"
     ]
    },
    {
     "name": "stdout",
     "output_type": "stream",
     "text": [
      "\u001b[34m\u001b[1mval: \u001b[0mNew cache created: /Users/apurvpandey/Documents/Ai4spro/Try_1/dataset/valid/labels.cache\n"
     ]
    },
    {
     "name": "stderr",
     "output_type": "stream",
     "text": [
      "\n"
     ]
    },
    {
     "name": "stdout",
     "output_type": "stream",
     "text": [
      "Plotting labels to runs/detect/yolov8_custom/labels.jpg... \n",
      "\u001b[34m\u001b[1moptimizer:\u001b[0m 'optimizer=auto' found, ignoring 'lr0=0.01' and 'momentum=0.937' and determining best 'optimizer', 'lr0' and 'momentum' automatically... \n",
      "\u001b[34m\u001b[1moptimizer:\u001b[0m AdamW(lr=0.002, momentum=0.9) with parameter groups 57 weight(decay=0.0), 64 weight(decay=0.0005), 63 bias(decay=0.0)\n",
      "Image sizes 640 train, 640 val\n",
      "Using 0 dataloader workers\n",
      "Logging results to \u001b[1mruns/detect/yolov8_custom\u001b[0m\n",
      "Starting training for 100 epochs...\n",
      "\n",
      "      Epoch    GPU_mem   box_loss   cls_loss   dfl_loss  Instances       Size\n"
     ]
    },
    {
     "name": "stderr",
     "output_type": "stream",
     "text": [
      "      1/100         0G     0.8212      2.323      1.338         32        640: 100%|██████████| 9/9 [01:01<00:00,  6.81s/it]\n",
      "                 Class     Images  Instances      Box(P          R      mAP50  mAP50-95): 100%|██████████| 2/2 [00:07<00:00,  3.66s/it]"
     ]
    },
    {
     "name": "stdout",
     "output_type": "stream",
     "text": [
      "                   all         40         40    0.00333          1      0.949      0.772\n"
     ]
    },
    {
     "name": "stderr",
     "output_type": "stream",
     "text": [
      "\n"
     ]
    },
    {
     "name": "stdout",
     "output_type": "stream",
     "text": [
      "\n",
      "      Epoch    GPU_mem   box_loss   cls_loss   dfl_loss  Instances       Size\n"
     ]
    },
    {
     "name": "stderr",
     "output_type": "stream",
     "text": [
      "      2/100         0G     0.6798      1.371      1.225         24        640: 100%|██████████| 9/9 [01:04<00:00,  7.16s/it]\n",
      "                 Class     Images  Instances      Box(P          R      mAP50  mAP50-95): 100%|██████████| 2/2 [00:06<00:00,  3.26s/it]"
     ]
    },
    {
     "name": "stdout",
     "output_type": "stream",
     "text": [
      "                   all         40         40          1      0.327      0.964      0.752\n"
     ]
    },
    {
     "name": "stderr",
     "output_type": "stream",
     "text": [
      "\n"
     ]
    },
    {
     "name": "stdout",
     "output_type": "stream",
     "text": [
      "\n",
      "      Epoch    GPU_mem   box_loss   cls_loss   dfl_loss  Instances       Size\n"
     ]
    },
    {
     "name": "stderr",
     "output_type": "stream",
     "text": [
      "      3/100         0G     0.7275      1.179      1.285         28        640: 100%|██████████| 9/9 [01:05<00:00,  7.33s/it]\n",
      "                 Class     Images  Instances      Box(P          R      mAP50  mAP50-95): 100%|██████████| 2/2 [00:06<00:00,  3.24s/it]"
     ]
    },
    {
     "name": "stdout",
     "output_type": "stream",
     "text": [
      "                   all         40         40      0.926      0.627      0.878       0.56\n"
     ]
    },
    {
     "name": "stderr",
     "output_type": "stream",
     "text": [
      "\n"
     ]
    },
    {
     "name": "stdout",
     "output_type": "stream",
     "text": [
      "\n",
      "      Epoch    GPU_mem   box_loss   cls_loss   dfl_loss  Instances       Size\n"
     ]
    },
    {
     "name": "stderr",
     "output_type": "stream",
     "text": [
      "      4/100         0G     0.6956       1.17      1.204         35        640: 100%|██████████| 9/9 [01:04<00:00,  7.19s/it]\n",
      "                 Class     Images  Instances      Box(P          R      mAP50  mAP50-95): 100%|██████████| 2/2 [00:06<00:00,  3.29s/it]"
     ]
    },
    {
     "name": "stdout",
     "output_type": "stream",
     "text": [
      "                   all         40         40      0.961       0.61      0.846      0.437\n"
     ]
    },
    {
     "name": "stderr",
     "output_type": "stream",
     "text": [
      "\n"
     ]
    },
    {
     "name": "stdout",
     "output_type": "stream",
     "text": [
      "\n",
      "      Epoch    GPU_mem   box_loss   cls_loss   dfl_loss  Instances       Size\n"
     ]
    },
    {
     "name": "stderr",
     "output_type": "stream",
     "text": [
      "      5/100         0G     0.7148       1.08        1.2         33        640: 100%|██████████| 9/9 [01:05<00:00,  7.27s/it]\n",
      "                 Class     Images  Instances      Box(P          R      mAP50  mAP50-95): 100%|██████████| 2/2 [00:06<00:00,  3.28s/it]"
     ]
    },
    {
     "name": "stdout",
     "output_type": "stream",
     "text": [
      "                   all         40         40      0.779        0.6      0.774      0.425\n"
     ]
    },
    {
     "name": "stderr",
     "output_type": "stream",
     "text": [
      "\n"
     ]
    },
    {
     "name": "stdout",
     "output_type": "stream",
     "text": [
      "\n",
      "      Epoch    GPU_mem   box_loss   cls_loss   dfl_loss  Instances       Size\n"
     ]
    },
    {
     "name": "stderr",
     "output_type": "stream",
     "text": [
      "      6/100         0G      0.757      1.034      1.236         31        640: 100%|██████████| 9/9 [01:02<00:00,  6.98s/it]\n",
      "                 Class     Images  Instances      Box(P          R      mAP50  mAP50-95): 100%|██████████| 2/2 [00:06<00:00,  3.23s/it]"
     ]
    },
    {
     "name": "stdout",
     "output_type": "stream",
     "text": [
      "                   all         40         40      0.837       0.65      0.807       0.47\n"
     ]
    },
    {
     "name": "stderr",
     "output_type": "stream",
     "text": [
      "\n"
     ]
    },
    {
     "name": "stdout",
     "output_type": "stream",
     "text": [
      "\n",
      "      Epoch    GPU_mem   box_loss   cls_loss   dfl_loss  Instances       Size\n"
     ]
    },
    {
     "name": "stderr",
     "output_type": "stream",
     "text": [
      "      7/100         0G     0.6928     0.9666      1.161         19        640: 100%|██████████| 9/9 [01:05<00:00,  7.30s/it]\n",
      "                 Class     Images  Instances      Box(P          R      mAP50  mAP50-95): 100%|██████████| 2/2 [00:06<00:00,  3.33s/it]"
     ]
    },
    {
     "name": "stdout",
     "output_type": "stream",
     "text": [
      "                   all         40         40       0.68      0.675      0.789      0.455\n"
     ]
    },
    {
     "name": "stderr",
     "output_type": "stream",
     "text": [
      "\n"
     ]
    },
    {
     "name": "stdout",
     "output_type": "stream",
     "text": [
      "\n",
      "      Epoch    GPU_mem   box_loss   cls_loss   dfl_loss  Instances       Size\n"
     ]
    },
    {
     "name": "stderr",
     "output_type": "stream",
     "text": [
      "      8/100         0G     0.6914      0.957      1.189         25        640: 100%|██████████| 9/9 [01:06<00:00,  7.40s/it]\n",
      "                 Class     Images  Instances      Box(P          R      mAP50  mAP50-95): 100%|██████████| 2/2 [00:06<00:00,  3.26s/it]"
     ]
    },
    {
     "name": "stdout",
     "output_type": "stream",
     "text": [
      "                   all         40         40      0.414        0.6      0.559      0.253\n"
     ]
    },
    {
     "name": "stderr",
     "output_type": "stream",
     "text": [
      "\n"
     ]
    },
    {
     "name": "stdout",
     "output_type": "stream",
     "text": [
      "\n",
      "      Epoch    GPU_mem   box_loss   cls_loss   dfl_loss  Instances       Size\n"
     ]
    },
    {
     "name": "stderr",
     "output_type": "stream",
     "text": [
      "      9/100         0G      0.743      1.008      1.241         22        640: 100%|██████████| 9/9 [01:06<00:00,  7.43s/it]\n",
      "                 Class     Images  Instances      Box(P          R      mAP50  mAP50-95): 100%|██████████| 2/2 [00:06<00:00,  3.29s/it]"
     ]
    },
    {
     "name": "stdout",
     "output_type": "stream",
     "text": [
      "                   all         40         40      0.739       0.65      0.734      0.383\n"
     ]
    },
    {
     "name": "stderr",
     "output_type": "stream",
     "text": [
      "\n"
     ]
    },
    {
     "name": "stdout",
     "output_type": "stream",
     "text": [
      "\n",
      "      Epoch    GPU_mem   box_loss   cls_loss   dfl_loss  Instances       Size\n"
     ]
    },
    {
     "name": "stderr",
     "output_type": "stream",
     "text": [
      "     10/100         0G     0.7993      1.027      1.289         33        640: 100%|██████████| 9/9 [01:07<00:00,  7.49s/it]\n",
      "                 Class     Images  Instances      Box(P          R      mAP50  mAP50-95): 100%|██████████| 2/2 [00:06<00:00,  3.32s/it]"
     ]
    },
    {
     "name": "stdout",
     "output_type": "stream",
     "text": [
      "                   all         40         40      0.585       0.45      0.467      0.245\n"
     ]
    },
    {
     "name": "stderr",
     "output_type": "stream",
     "text": [
      "\n"
     ]
    },
    {
     "name": "stdout",
     "output_type": "stream",
     "text": [
      "\n",
      "      Epoch    GPU_mem   box_loss   cls_loss   dfl_loss  Instances       Size\n"
     ]
    },
    {
     "name": "stderr",
     "output_type": "stream",
     "text": [
      "     11/100         0G     0.7507     0.9071       1.27         22        640: 100%|██████████| 9/9 [01:06<00:00,  7.40s/it]\n",
      "                 Class     Images  Instances      Box(P          R      mAP50  mAP50-95): 100%|██████████| 2/2 [00:06<00:00,  3.38s/it]"
     ]
    },
    {
     "name": "stdout",
     "output_type": "stream",
     "text": [
      "                   all         40         40      0.653      0.725      0.763      0.403\n"
     ]
    },
    {
     "name": "stderr",
     "output_type": "stream",
     "text": [
      "\n"
     ]
    },
    {
     "name": "stdout",
     "output_type": "stream",
     "text": [
      "\n",
      "      Epoch    GPU_mem   box_loss   cls_loss   dfl_loss  Instances       Size\n"
     ]
    },
    {
     "name": "stderr",
     "output_type": "stream",
     "text": [
      "     12/100         0G     0.7702     0.8999      1.224         28        640: 100%|██████████| 9/9 [01:06<00:00,  7.40s/it]\n",
      "                 Class     Images  Instances      Box(P          R      mAP50  mAP50-95): 100%|██████████| 2/2 [00:06<00:00,  3.18s/it]"
     ]
    },
    {
     "name": "stdout",
     "output_type": "stream",
     "text": [
      "                   all         40         40      0.748      0.825      0.887      0.595\n"
     ]
    },
    {
     "name": "stderr",
     "output_type": "stream",
     "text": [
      "\n"
     ]
    },
    {
     "name": "stdout",
     "output_type": "stream",
     "text": [
      "\n",
      "      Epoch    GPU_mem   box_loss   cls_loss   dfl_loss  Instances       Size\n"
     ]
    },
    {
     "name": "stderr",
     "output_type": "stream",
     "text": [
      "     13/100         0G     0.7496     0.8798      1.214         31        640: 100%|██████████| 9/9 [01:06<00:00,  7.40s/it]\n",
      "                 Class     Images  Instances      Box(P          R      mAP50  mAP50-95): 100%|██████████| 2/2 [00:06<00:00,  3.22s/it]"
     ]
    },
    {
     "name": "stdout",
     "output_type": "stream",
     "text": [
      "                   all         40         40      0.726        0.9      0.829      0.586\n"
     ]
    },
    {
     "name": "stderr",
     "output_type": "stream",
     "text": [
      "\n"
     ]
    },
    {
     "name": "stdout",
     "output_type": "stream",
     "text": [
      "\n",
      "      Epoch    GPU_mem   box_loss   cls_loss   dfl_loss  Instances       Size\n"
     ]
    },
    {
     "name": "stderr",
     "output_type": "stream",
     "text": [
      "     14/100         0G     0.7904     0.9345      1.244         25        640: 100%|██████████| 9/9 [01:07<00:00,  7.53s/it]\n",
      "                 Class     Images  Instances      Box(P          R      mAP50  mAP50-95): 100%|██████████| 2/2 [00:07<00:00,  3.58s/it]"
     ]
    },
    {
     "name": "stdout",
     "output_type": "stream",
     "text": [
      "                   all         40         40      0.761        0.7      0.828      0.489\n"
     ]
    },
    {
     "name": "stderr",
     "output_type": "stream",
     "text": [
      "\n"
     ]
    },
    {
     "name": "stdout",
     "output_type": "stream",
     "text": [
      "\n",
      "      Epoch    GPU_mem   box_loss   cls_loss   dfl_loss  Instances       Size\n"
     ]
    },
    {
     "name": "stderr",
     "output_type": "stream",
     "text": [
      "     15/100         0G     0.6894     0.8696      1.192         26        640: 100%|██████████| 9/9 [01:07<00:00,  7.53s/it]\n",
      "                 Class     Images  Instances      Box(P          R      mAP50  mAP50-95): 100%|██████████| 2/2 [00:06<00:00,  3.19s/it]"
     ]
    },
    {
     "name": "stdout",
     "output_type": "stream",
     "text": [
      "                   all         40         40        0.6      0.751      0.676      0.395\n"
     ]
    },
    {
     "name": "stderr",
     "output_type": "stream",
     "text": [
      "\n"
     ]
    },
    {
     "name": "stdout",
     "output_type": "stream",
     "text": [
      "\n",
      "      Epoch    GPU_mem   box_loss   cls_loss   dfl_loss  Instances       Size\n"
     ]
    },
    {
     "name": "stderr",
     "output_type": "stream",
     "text": [
      "     16/100         0G     0.8536     0.9121      1.275         24        640: 100%|██████████| 9/9 [01:07<00:00,  7.49s/it]\n",
      "                 Class     Images  Instances      Box(P          R      mAP50  mAP50-95): 100%|██████████| 2/2 [00:06<00:00,  3.18s/it]"
     ]
    },
    {
     "name": "stdout",
     "output_type": "stream",
     "text": [
      "                   all         40         40      0.776      0.694       0.78       0.52\n"
     ]
    },
    {
     "name": "stderr",
     "output_type": "stream",
     "text": [
      "\n"
     ]
    },
    {
     "name": "stdout",
     "output_type": "stream",
     "text": [
      "\n",
      "      Epoch    GPU_mem   box_loss   cls_loss   dfl_loss  Instances       Size\n"
     ]
    },
    {
     "name": "stderr",
     "output_type": "stream",
     "text": [
      "     17/100         0G     0.8143     0.8814      1.295         22        640: 100%|██████████| 9/9 [01:05<00:00,  7.26s/it]\n",
      "                 Class     Images  Instances      Box(P          R      mAP50  mAP50-95): 100%|██████████| 2/2 [00:06<00:00,  3.15s/it]"
     ]
    },
    {
     "name": "stdout",
     "output_type": "stream",
     "text": [
      "                   all         40         40      0.614       0.75      0.779       0.54\n"
     ]
    },
    {
     "name": "stderr",
     "output_type": "stream",
     "text": [
      "\n"
     ]
    },
    {
     "name": "stdout",
     "output_type": "stream",
     "text": [
      "\n",
      "      Epoch    GPU_mem   box_loss   cls_loss   dfl_loss  Instances       Size\n"
     ]
    },
    {
     "name": "stderr",
     "output_type": "stream",
     "text": [
      "     18/100         0G     0.8662      0.841      1.274         35        640: 100%|██████████| 9/9 [01:05<00:00,  7.26s/it]\n",
      "                 Class     Images  Instances      Box(P          R      mAP50  mAP50-95): 100%|██████████| 2/2 [00:06<00:00,  3.20s/it]"
     ]
    },
    {
     "name": "stdout",
     "output_type": "stream",
     "text": [
      "                   all         40         40      0.553      0.675       0.64      0.354\n"
     ]
    },
    {
     "name": "stderr",
     "output_type": "stream",
     "text": [
      "\n"
     ]
    },
    {
     "name": "stdout",
     "output_type": "stream",
     "text": [
      "\n",
      "      Epoch    GPU_mem   box_loss   cls_loss   dfl_loss  Instances       Size\n"
     ]
    },
    {
     "name": "stderr",
     "output_type": "stream",
     "text": [
      "     19/100         0G     0.7579     0.7948      1.245         32        640: 100%|██████████| 9/9 [01:06<00:00,  7.34s/it]\n",
      "                 Class     Images  Instances      Box(P          R      mAP50  mAP50-95): 100%|██████████| 2/2 [00:06<00:00,  3.19s/it]"
     ]
    },
    {
     "name": "stdout",
     "output_type": "stream",
     "text": [
      "                   all         40         40      0.515      0.775      0.606       0.46\n"
     ]
    },
    {
     "name": "stderr",
     "output_type": "stream",
     "text": [
      "\n"
     ]
    },
    {
     "name": "stdout",
     "output_type": "stream",
     "text": [
      "\n",
      "      Epoch    GPU_mem   box_loss   cls_loss   dfl_loss  Instances       Size\n"
     ]
    },
    {
     "name": "stderr",
     "output_type": "stream",
     "text": [
      "     20/100         0G     0.6816     0.7488      1.159         29        640: 100%|██████████| 9/9 [01:05<00:00,  7.33s/it]\n",
      "                 Class     Images  Instances      Box(P          R      mAP50  mAP50-95): 100%|██████████| 2/2 [00:06<00:00,  3.48s/it]"
     ]
    },
    {
     "name": "stdout",
     "output_type": "stream",
     "text": [
      "                   all         40         40      0.868      0.656      0.836      0.508\n"
     ]
    },
    {
     "name": "stderr",
     "output_type": "stream",
     "text": [
      "\n"
     ]
    },
    {
     "name": "stdout",
     "output_type": "stream",
     "text": [
      "\n",
      "      Epoch    GPU_mem   box_loss   cls_loss   dfl_loss  Instances       Size\n"
     ]
    },
    {
     "name": "stderr",
     "output_type": "stream",
     "text": [
      "     21/100         0G     0.7395     0.7552      1.215         31        640: 100%|██████████| 9/9 [01:06<00:00,  7.41s/it]\n",
      "                 Class     Images  Instances      Box(P          R      mAP50  mAP50-95): 100%|██████████| 2/2 [00:06<00:00,  3.24s/it]"
     ]
    },
    {
     "name": "stdout",
     "output_type": "stream",
     "text": [
      "                   all         40         40      0.797       0.85      0.924      0.591\n"
     ]
    },
    {
     "name": "stderr",
     "output_type": "stream",
     "text": [
      "\n"
     ]
    },
    {
     "name": "stdout",
     "output_type": "stream",
     "text": [
      "\n",
      "      Epoch    GPU_mem   box_loss   cls_loss   dfl_loss  Instances       Size\n"
     ]
    },
    {
     "name": "stderr",
     "output_type": "stream",
     "text": [
      "     22/100         0G     0.7306     0.7199      1.188         23        640: 100%|██████████| 9/9 [01:06<00:00,  7.43s/it]\n",
      "                 Class     Images  Instances      Box(P          R      mAP50  mAP50-95): 100%|██████████| 2/2 [00:06<00:00,  3.24s/it]"
     ]
    },
    {
     "name": "stdout",
     "output_type": "stream",
     "text": [
      "                   all         40         40      0.847      0.975      0.959      0.682\n"
     ]
    },
    {
     "name": "stderr",
     "output_type": "stream",
     "text": [
      "\n"
     ]
    },
    {
     "name": "stdout",
     "output_type": "stream",
     "text": [
      "\n",
      "      Epoch    GPU_mem   box_loss   cls_loss   dfl_loss  Instances       Size\n"
     ]
    },
    {
     "name": "stderr",
     "output_type": "stream",
     "text": [
      "     23/100         0G     0.7334     0.7094      1.224         29        640: 100%|██████████| 9/9 [01:05<00:00,  7.26s/it]\n",
      "                 Class     Images  Instances      Box(P          R      mAP50  mAP50-95): 100%|██████████| 2/2 [00:06<00:00,  3.22s/it]"
     ]
    },
    {
     "name": "stdout",
     "output_type": "stream",
     "text": [
      "                   all         40         40      0.925          1      0.992      0.802\n"
     ]
    },
    {
     "name": "stderr",
     "output_type": "stream",
     "text": [
      "\n"
     ]
    },
    {
     "name": "stdout",
     "output_type": "stream",
     "text": [
      "\n",
      "      Epoch    GPU_mem   box_loss   cls_loss   dfl_loss  Instances       Size\n"
     ]
    },
    {
     "name": "stderr",
     "output_type": "stream",
     "text": [
      "     24/100         0G      0.728     0.7103      1.192         28        640: 100%|██████████| 9/9 [01:06<00:00,  7.38s/it]\n",
      "                 Class     Images  Instances      Box(P          R      mAP50  mAP50-95): 100%|██████████| 2/2 [00:06<00:00,  3.21s/it]"
     ]
    },
    {
     "name": "stdout",
     "output_type": "stream",
     "text": [
      "                   all         40         40       0.95          1      0.992      0.839\n"
     ]
    },
    {
     "name": "stderr",
     "output_type": "stream",
     "text": [
      "\n"
     ]
    },
    {
     "name": "stdout",
     "output_type": "stream",
     "text": [
      "\n",
      "      Epoch    GPU_mem   box_loss   cls_loss   dfl_loss  Instances       Size\n"
     ]
    },
    {
     "name": "stderr",
     "output_type": "stream",
     "text": [
      "     25/100         0G     0.6625     0.6653      1.166         30        640: 100%|██████████| 9/9 [01:07<00:00,  7.45s/it]\n",
      "                 Class     Images  Instances      Box(P          R      mAP50  mAP50-95): 100%|██████████| 2/2 [00:06<00:00,  3.19s/it]"
     ]
    },
    {
     "name": "stdout",
     "output_type": "stream",
     "text": [
      "                   all         40         40      0.979      0.925      0.987      0.848\n"
     ]
    },
    {
     "name": "stderr",
     "output_type": "stream",
     "text": [
      "\n"
     ]
    },
    {
     "name": "stdout",
     "output_type": "stream",
     "text": [
      "\n",
      "      Epoch    GPU_mem   box_loss   cls_loss   dfl_loss  Instances       Size\n"
     ]
    },
    {
     "name": "stderr",
     "output_type": "stream",
     "text": [
      "     26/100         0G     0.6843     0.6702      1.163         24        640: 100%|██████████| 9/9 [01:07<00:00,  7.47s/it]\n",
      "                 Class     Images  Instances      Box(P          R      mAP50  mAP50-95): 100%|██████████| 2/2 [00:06<00:00,  3.44s/it]"
     ]
    },
    {
     "name": "stdout",
     "output_type": "stream",
     "text": [
      "                   all         40         40      0.971      0.925      0.977      0.768\n"
     ]
    },
    {
     "name": "stderr",
     "output_type": "stream",
     "text": [
      "\n"
     ]
    },
    {
     "name": "stdout",
     "output_type": "stream",
     "text": [
      "\n",
      "      Epoch    GPU_mem   box_loss   cls_loss   dfl_loss  Instances       Size\n"
     ]
    },
    {
     "name": "stderr",
     "output_type": "stream",
     "text": [
      "     27/100         0G     0.7194     0.6625      1.192         23        640: 100%|██████████| 9/9 [01:06<00:00,  7.39s/it]\n",
      "                 Class     Images  Instances      Box(P          R      mAP50  mAP50-95): 100%|██████████| 2/2 [00:06<00:00,  3.27s/it]"
     ]
    },
    {
     "name": "stdout",
     "output_type": "stream",
     "text": [
      "                   all         40         40      0.895        0.9      0.966      0.727\n"
     ]
    },
    {
     "name": "stderr",
     "output_type": "stream",
     "text": [
      "\n"
     ]
    },
    {
     "name": "stdout",
     "output_type": "stream",
     "text": [
      "\n",
      "      Epoch    GPU_mem   box_loss   cls_loss   dfl_loss  Instances       Size\n"
     ]
    },
    {
     "name": "stderr",
     "output_type": "stream",
     "text": [
      "     28/100         0G     0.6469     0.6074      1.176         25        640: 100%|██████████| 9/9 [01:06<00:00,  7.36s/it]\n",
      "                 Class     Images  Instances      Box(P          R      mAP50  mAP50-95): 100%|██████████| 2/2 [00:07<00:00,  3.63s/it]"
     ]
    },
    {
     "name": "stdout",
     "output_type": "stream",
     "text": [
      "                   all         40         40       0.95      0.955      0.987      0.798\n"
     ]
    },
    {
     "name": "stderr",
     "output_type": "stream",
     "text": [
      "\n"
     ]
    },
    {
     "name": "stdout",
     "output_type": "stream",
     "text": [
      "\n",
      "      Epoch    GPU_mem   box_loss   cls_loss   dfl_loss  Instances       Size\n"
     ]
    },
    {
     "name": "stderr",
     "output_type": "stream",
     "text": [
      "     29/100         0G     0.6527     0.6211      1.139         29        640: 100%|██████████| 9/9 [01:08<00:00,  7.60s/it]\n",
      "                 Class     Images  Instances      Box(P          R      mAP50  mAP50-95): 100%|██████████| 2/2 [00:06<00:00,  3.38s/it]"
     ]
    },
    {
     "name": "stdout",
     "output_type": "stream",
     "text": [
      "                   all         40         40      0.902      0.925       0.98      0.849\n"
     ]
    },
    {
     "name": "stderr",
     "output_type": "stream",
     "text": [
      "\n"
     ]
    },
    {
     "name": "stdout",
     "output_type": "stream",
     "text": [
      "\n",
      "      Epoch    GPU_mem   box_loss   cls_loss   dfl_loss  Instances       Size\n"
     ]
    },
    {
     "name": "stderr",
     "output_type": "stream",
     "text": [
      "     30/100         0G     0.6177      0.599      1.145         26        640: 100%|██████████| 9/9 [01:07<00:00,  7.52s/it]\n",
      "                 Class     Images  Instances      Box(P          R      mAP50  mAP50-95): 100%|██████████| 2/2 [00:06<00:00,  3.18s/it]"
     ]
    },
    {
     "name": "stdout",
     "output_type": "stream",
     "text": [
      "                   all         40         40          1      0.973      0.994      0.829\n"
     ]
    },
    {
     "name": "stderr",
     "output_type": "stream",
     "text": [
      "\n"
     ]
    },
    {
     "name": "stdout",
     "output_type": "stream",
     "text": [
      "\n",
      "      Epoch    GPU_mem   box_loss   cls_loss   dfl_loss  Instances       Size\n"
     ]
    },
    {
     "name": "stderr",
     "output_type": "stream",
     "text": [
      "     31/100         0G     0.6176     0.6005      1.114         30        640: 100%|██████████| 9/9 [01:07<00:00,  7.47s/it]\n",
      "                 Class     Images  Instances      Box(P          R      mAP50  mAP50-95): 100%|██████████| 2/2 [00:06<00:00,  3.22s/it]"
     ]
    },
    {
     "name": "stdout",
     "output_type": "stream",
     "text": [
      "                   all         40         40      0.938          1      0.992      0.768\n"
     ]
    },
    {
     "name": "stderr",
     "output_type": "stream",
     "text": [
      "\n"
     ]
    },
    {
     "name": "stdout",
     "output_type": "stream",
     "text": [
      "\n",
      "      Epoch    GPU_mem   box_loss   cls_loss   dfl_loss  Instances       Size\n"
     ]
    },
    {
     "name": "stderr",
     "output_type": "stream",
     "text": [
      "     32/100         0G     0.6411     0.5884      1.133         27        640: 100%|██████████| 9/9 [01:05<00:00,  7.32s/it]\n",
      "                 Class     Images  Instances      Box(P          R      mAP50  mAP50-95): 100%|██████████| 2/2 [00:06<00:00,  3.16s/it]"
     ]
    },
    {
     "name": "stdout",
     "output_type": "stream",
     "text": [
      "                   all         40         40      0.952      0.998      0.994      0.819\n"
     ]
    },
    {
     "name": "stderr",
     "output_type": "stream",
     "text": [
      "\n"
     ]
    },
    {
     "name": "stdout",
     "output_type": "stream",
     "text": [
      "\n",
      "      Epoch    GPU_mem   box_loss   cls_loss   dfl_loss  Instances       Size\n"
     ]
    },
    {
     "name": "stderr",
     "output_type": "stream",
     "text": [
      "     33/100         0G     0.6599     0.6001      1.163         32        640: 100%|██████████| 9/9 [01:06<00:00,  7.37s/it]\n",
      "                 Class     Images  Instances      Box(P          R      mAP50  mAP50-95): 100%|██████████| 2/2 [00:06<00:00,  3.19s/it]"
     ]
    },
    {
     "name": "stdout",
     "output_type": "stream",
     "text": [
      "                   all         40         40      0.996          1      0.995      0.867\n"
     ]
    },
    {
     "name": "stderr",
     "output_type": "stream",
     "text": [
      "\n"
     ]
    },
    {
     "name": "stdout",
     "output_type": "stream",
     "text": [
      "\n",
      "      Epoch    GPU_mem   box_loss   cls_loss   dfl_loss  Instances       Size\n"
     ]
    },
    {
     "name": "stderr",
     "output_type": "stream",
     "text": [
      "     34/100         0G      0.612      0.602      1.123         25        640: 100%|██████████| 9/9 [01:08<00:00,  7.58s/it]\n",
      "                 Class     Images  Instances      Box(P          R      mAP50  mAP50-95): 100%|██████████| 2/2 [00:06<00:00,  3.19s/it]"
     ]
    },
    {
     "name": "stdout",
     "output_type": "stream",
     "text": [
      "                   all         40         40      0.998          1      0.995      0.854\n"
     ]
    },
    {
     "name": "stderr",
     "output_type": "stream",
     "text": [
      "\n"
     ]
    },
    {
     "name": "stdout",
     "output_type": "stream",
     "text": [
      "\n",
      "      Epoch    GPU_mem   box_loss   cls_loss   dfl_loss  Instances       Size\n"
     ]
    },
    {
     "name": "stderr",
     "output_type": "stream",
     "text": [
      "     35/100         0G     0.6448     0.5675      1.149         22        640: 100%|██████████| 9/9 [01:06<00:00,  7.43s/it]\n",
      "                 Class     Images  Instances      Box(P          R      mAP50  mAP50-95): 100%|██████████| 2/2 [00:06<00:00,  3.17s/it]"
     ]
    },
    {
     "name": "stdout",
     "output_type": "stream",
     "text": [
      "                   all         40         40      0.999          1      0.995      0.813\n"
     ]
    },
    {
     "name": "stderr",
     "output_type": "stream",
     "text": [
      "\n"
     ]
    },
    {
     "name": "stdout",
     "output_type": "stream",
     "text": [
      "\n",
      "      Epoch    GPU_mem   box_loss   cls_loss   dfl_loss  Instances       Size\n"
     ]
    },
    {
     "name": "stderr",
     "output_type": "stream",
     "text": [
      "     36/100         0G     0.6297     0.5703      1.124         29        640: 100%|██████████| 9/9 [01:06<00:00,  7.37s/it]\n",
      "                 Class     Images  Instances      Box(P          R      mAP50  mAP50-95): 100%|██████████| 2/2 [00:06<00:00,  3.20s/it]"
     ]
    },
    {
     "name": "stdout",
     "output_type": "stream",
     "text": [
      "                   all         40         40      0.998          1      0.995       0.87\n"
     ]
    },
    {
     "name": "stderr",
     "output_type": "stream",
     "text": [
      "\n"
     ]
    },
    {
     "name": "stdout",
     "output_type": "stream",
     "text": [
      "\n",
      "      Epoch    GPU_mem   box_loss   cls_loss   dfl_loss  Instances       Size\n"
     ]
    },
    {
     "name": "stderr",
     "output_type": "stream",
     "text": [
      "     37/100         0G     0.5614     0.5425      1.092         25        640: 100%|██████████| 9/9 [01:08<00:00,  7.63s/it]\n",
      "                 Class     Images  Instances      Box(P          R      mAP50  mAP50-95): 100%|██████████| 2/2 [00:06<00:00,  3.19s/it]"
     ]
    },
    {
     "name": "stdout",
     "output_type": "stream",
     "text": [
      "                   all         40         40      0.996          1      0.995      0.841\n"
     ]
    },
    {
     "name": "stderr",
     "output_type": "stream",
     "text": [
      "\n"
     ]
    },
    {
     "name": "stdout",
     "output_type": "stream",
     "text": [
      "\n",
      "      Epoch    GPU_mem   box_loss   cls_loss   dfl_loss  Instances       Size\n"
     ]
    },
    {
     "name": "stderr",
     "output_type": "stream",
     "text": [
      "     38/100         0G      0.578     0.5157      1.088         32        640: 100%|██████████| 9/9 [01:07<00:00,  7.52s/it]\n",
      "                 Class     Images  Instances      Box(P          R      mAP50  mAP50-95): 100%|██████████| 2/2 [00:06<00:00,  3.14s/it]"
     ]
    },
    {
     "name": "stdout",
     "output_type": "stream",
     "text": [
      "                   all         40         40      0.996          1      0.995      0.871\n"
     ]
    },
    {
     "name": "stderr",
     "output_type": "stream",
     "text": [
      "\n"
     ]
    },
    {
     "name": "stdout",
     "output_type": "stream",
     "text": [
      "\n",
      "      Epoch    GPU_mem   box_loss   cls_loss   dfl_loss  Instances       Size\n"
     ]
    },
    {
     "name": "stderr",
     "output_type": "stream",
     "text": [
      "     39/100         0G     0.5894     0.5306      1.111         23        640: 100%|██████████| 9/9 [01:06<00:00,  7.39s/it]\n",
      "                 Class     Images  Instances      Box(P          R      mAP50  mAP50-95): 100%|██████████| 2/2 [00:06<00:00,  3.32s/it]"
     ]
    },
    {
     "name": "stdout",
     "output_type": "stream",
     "text": [
      "                   all         40         40      0.995          1      0.995      0.881\n"
     ]
    },
    {
     "name": "stderr",
     "output_type": "stream",
     "text": [
      "\n"
     ]
    },
    {
     "name": "stdout",
     "output_type": "stream",
     "text": [
      "\n",
      "      Epoch    GPU_mem   box_loss   cls_loss   dfl_loss  Instances       Size\n"
     ]
    },
    {
     "name": "stderr",
     "output_type": "stream",
     "text": [
      "     40/100         0G     0.5935     0.5215      1.095         27        640: 100%|██████████| 9/9 [01:06<00:00,  7.34s/it]\n",
      "                 Class     Images  Instances      Box(P          R      mAP50  mAP50-95): 100%|██████████| 2/2 [00:06<00:00,  3.19s/it]"
     ]
    },
    {
     "name": "stdout",
     "output_type": "stream",
     "text": [
      "                   all         40         40      0.985          1      0.995      0.895\n"
     ]
    },
    {
     "name": "stderr",
     "output_type": "stream",
     "text": [
      "\n"
     ]
    },
    {
     "name": "stdout",
     "output_type": "stream",
     "text": [
      "\n",
      "      Epoch    GPU_mem   box_loss   cls_loss   dfl_loss  Instances       Size\n"
     ]
    },
    {
     "name": "stderr",
     "output_type": "stream",
     "text": [
      "     41/100         0G     0.5354     0.4811      1.064         26        640: 100%|██████████| 9/9 [01:06<00:00,  7.34s/it]\n",
      "                 Class     Images  Instances      Box(P          R      mAP50  mAP50-95): 100%|██████████| 2/2 [00:06<00:00,  3.19s/it]"
     ]
    },
    {
     "name": "stdout",
     "output_type": "stream",
     "text": [
      "                   all         40         40      0.983          1      0.995      0.897\n"
     ]
    },
    {
     "name": "stderr",
     "output_type": "stream",
     "text": [
      "\n"
     ]
    },
    {
     "name": "stdout",
     "output_type": "stream",
     "text": [
      "\n",
      "      Epoch    GPU_mem   box_loss   cls_loss   dfl_loss  Instances       Size\n"
     ]
    },
    {
     "name": "stderr",
     "output_type": "stream",
     "text": [
      "     42/100         0G     0.5416     0.5048      1.086         28        640: 100%|██████████| 9/9 [01:08<00:00,  7.58s/it]\n",
      "                 Class     Images  Instances      Box(P          R      mAP50  mAP50-95): 100%|██████████| 2/2 [00:06<00:00,  3.28s/it]"
     ]
    },
    {
     "name": "stdout",
     "output_type": "stream",
     "text": [
      "                   all         40         40      0.968          1      0.994      0.902\n"
     ]
    },
    {
     "name": "stderr",
     "output_type": "stream",
     "text": [
      "\n"
     ]
    },
    {
     "name": "stdout",
     "output_type": "stream",
     "text": [
      "\n",
      "      Epoch    GPU_mem   box_loss   cls_loss   dfl_loss  Instances       Size\n"
     ]
    },
    {
     "name": "stderr",
     "output_type": "stream",
     "text": [
      "     43/100         0G     0.5641     0.4957       1.11         28        640: 100%|██████████| 9/9 [01:07<00:00,  7.54s/it]\n",
      "                 Class     Images  Instances      Box(P          R      mAP50  mAP50-95): 100%|██████████| 2/2 [00:06<00:00,  3.23s/it]"
     ]
    },
    {
     "name": "stdout",
     "output_type": "stream",
     "text": [
      "                   all         40         40      0.999          1      0.995      0.899\n"
     ]
    },
    {
     "name": "stderr",
     "output_type": "stream",
     "text": [
      "\n"
     ]
    },
    {
     "name": "stdout",
     "output_type": "stream",
     "text": [
      "\n",
      "      Epoch    GPU_mem   box_loss   cls_loss   dfl_loss  Instances       Size\n"
     ]
    },
    {
     "name": "stderr",
     "output_type": "stream",
     "text": [
      "     44/100         0G     0.5837     0.5182      1.086         36        640: 100%|██████████| 9/9 [01:06<00:00,  7.41s/it]\n",
      "                 Class     Images  Instances      Box(P          R      mAP50  mAP50-95): 100%|██████████| 2/2 [00:06<00:00,  3.22s/it]"
     ]
    },
    {
     "name": "stdout",
     "output_type": "stream",
     "text": [
      "                   all         40         40      0.998          1      0.995      0.875\n"
     ]
    },
    {
     "name": "stderr",
     "output_type": "stream",
     "text": [
      "\n"
     ]
    },
    {
     "name": "stdout",
     "output_type": "stream",
     "text": [
      "\n",
      "      Epoch    GPU_mem   box_loss   cls_loss   dfl_loss  Instances       Size\n"
     ]
    },
    {
     "name": "stderr",
     "output_type": "stream",
     "text": [
      "     45/100         0G     0.5587     0.4838      1.112         22        640: 100%|██████████| 9/9 [01:06<00:00,  7.43s/it]\n",
      "                 Class     Images  Instances      Box(P          R      mAP50  mAP50-95): 100%|██████████| 2/2 [00:06<00:00,  3.30s/it]"
     ]
    },
    {
     "name": "stdout",
     "output_type": "stream",
     "text": [
      "                   all         40         40      0.997          1      0.995      0.858\n"
     ]
    },
    {
     "name": "stderr",
     "output_type": "stream",
     "text": [
      "\n"
     ]
    },
    {
     "name": "stdout",
     "output_type": "stream",
     "text": [
      "\n",
      "      Epoch    GPU_mem   box_loss   cls_loss   dfl_loss  Instances       Size\n"
     ]
    },
    {
     "name": "stderr",
     "output_type": "stream",
     "text": [
      "     46/100         0G     0.5527     0.4896      1.091         26        640: 100%|██████████| 9/9 [01:07<00:00,  7.51s/it]\n",
      "                 Class     Images  Instances      Box(P          R      mAP50  mAP50-95): 100%|██████████| 2/2 [00:06<00:00,  3.21s/it]"
     ]
    },
    {
     "name": "stdout",
     "output_type": "stream",
     "text": [
      "                   all         40         40          1      0.999      0.995      0.767\n"
     ]
    },
    {
     "name": "stderr",
     "output_type": "stream",
     "text": [
      "\n"
     ]
    },
    {
     "name": "stdout",
     "output_type": "stream",
     "text": [
      "\n",
      "      Epoch    GPU_mem   box_loss   cls_loss   dfl_loss  Instances       Size\n"
     ]
    },
    {
     "name": "stderr",
     "output_type": "stream",
     "text": [
      "     47/100         0G     0.5548     0.4859      1.081         21        640: 100%|██████████| 9/9 [01:06<00:00,  7.42s/it]\n",
      "                 Class     Images  Instances      Box(P          R      mAP50  mAP50-95): 100%|██████████| 2/2 [00:06<00:00,  3.24s/it]"
     ]
    },
    {
     "name": "stdout",
     "output_type": "stream",
     "text": [
      "                   all         40         40       0.93          1      0.992      0.818\n"
     ]
    },
    {
     "name": "stderr",
     "output_type": "stream",
     "text": [
      "\n"
     ]
    },
    {
     "name": "stdout",
     "output_type": "stream",
     "text": [
      "\n",
      "      Epoch    GPU_mem   box_loss   cls_loss   dfl_loss  Instances       Size\n"
     ]
    },
    {
     "name": "stderr",
     "output_type": "stream",
     "text": [
      "     48/100         0G     0.5844     0.5229      1.115         26        640: 100%|██████████| 9/9 [01:06<00:00,  7.37s/it]\n",
      "                 Class     Images  Instances      Box(P          R      mAP50  mAP50-95): 100%|██████████| 2/2 [00:06<00:00,  3.22s/it]"
     ]
    },
    {
     "name": "stdout",
     "output_type": "stream",
     "text": [
      "                   all         40         40      0.974      0.975      0.987      0.853\n"
     ]
    },
    {
     "name": "stderr",
     "output_type": "stream",
     "text": [
      "\n"
     ]
    },
    {
     "name": "stdout",
     "output_type": "stream",
     "text": [
      "\n",
      "      Epoch    GPU_mem   box_loss   cls_loss   dfl_loss  Instances       Size\n"
     ]
    },
    {
     "name": "stderr",
     "output_type": "stream",
     "text": [
      "     49/100         0G     0.5516     0.4569      1.061         24        640: 100%|██████████| 9/9 [01:07<00:00,  7.46s/it]\n",
      "                 Class     Images  Instances      Box(P          R      mAP50  mAP50-95): 100%|██████████| 2/2 [00:06<00:00,  3.19s/it]"
     ]
    },
    {
     "name": "stdout",
     "output_type": "stream",
     "text": [
      "                   all         40         40      0.994          1      0.995      0.862\n"
     ]
    },
    {
     "name": "stderr",
     "output_type": "stream",
     "text": [
      "\n"
     ]
    },
    {
     "name": "stdout",
     "output_type": "stream",
     "text": [
      "\n",
      "      Epoch    GPU_mem   box_loss   cls_loss   dfl_loss  Instances       Size\n"
     ]
    },
    {
     "name": "stderr",
     "output_type": "stream",
     "text": [
      "     50/100         0G     0.5269     0.4543       1.05         26        640: 100%|██████████| 9/9 [01:07<00:00,  7.45s/it]\n",
      "                 Class     Images  Instances      Box(P          R      mAP50  mAP50-95): 100%|██████████| 2/2 [00:06<00:00,  3.23s/it]"
     ]
    },
    {
     "name": "stdout",
     "output_type": "stream",
     "text": [
      "                   all         40         40      0.999          1      0.995      0.871\n"
     ]
    },
    {
     "name": "stderr",
     "output_type": "stream",
     "text": [
      "\n"
     ]
    },
    {
     "name": "stdout",
     "output_type": "stream",
     "text": [
      "\n",
      "      Epoch    GPU_mem   box_loss   cls_loss   dfl_loss  Instances       Size\n"
     ]
    },
    {
     "name": "stderr",
     "output_type": "stream",
     "text": [
      "     51/100         0G     0.5441     0.4651      1.099         22        640: 100%|██████████| 9/9 [01:08<00:00,  7.58s/it]\n",
      "                 Class     Images  Instances      Box(P          R      mAP50  mAP50-95): 100%|██████████| 2/2 [00:06<00:00,  3.16s/it]"
     ]
    },
    {
     "name": "stdout",
     "output_type": "stream",
     "text": [
      "                   all         40         40      0.997          1      0.995      0.897\n"
     ]
    },
    {
     "name": "stderr",
     "output_type": "stream",
     "text": [
      "\n"
     ]
    },
    {
     "name": "stdout",
     "output_type": "stream",
     "text": [
      "\n",
      "      Epoch    GPU_mem   box_loss   cls_loss   dfl_loss  Instances       Size\n"
     ]
    },
    {
     "name": "stderr",
     "output_type": "stream",
     "text": [
      "     52/100         0G     0.5577     0.4507      1.103         34        640: 100%|██████████| 9/9 [01:07<00:00,  7.45s/it]\n",
      "                 Class     Images  Instances      Box(P          R      mAP50  mAP50-95): 100%|██████████| 2/2 [00:06<00:00,  3.15s/it]"
     ]
    },
    {
     "name": "stdout",
     "output_type": "stream",
     "text": [
      "                   all         40         40      0.998          1      0.995      0.896\n"
     ]
    },
    {
     "name": "stderr",
     "output_type": "stream",
     "text": [
      "\n"
     ]
    },
    {
     "name": "stdout",
     "output_type": "stream",
     "text": [
      "\n",
      "      Epoch    GPU_mem   box_loss   cls_loss   dfl_loss  Instances       Size\n"
     ]
    },
    {
     "name": "stderr",
     "output_type": "stream",
     "text": [
      "     53/100         0G     0.4861     0.4058      1.062         31        640: 100%|██████████| 9/9 [01:07<00:00,  7.49s/it]\n",
      "                 Class     Images  Instances      Box(P          R      mAP50  mAP50-95): 100%|██████████| 2/2 [00:06<00:00,  3.23s/it]"
     ]
    },
    {
     "name": "stdout",
     "output_type": "stream",
     "text": [
      "                   all         40         40      0.993          1      0.995      0.909\n"
     ]
    },
    {
     "name": "stderr",
     "output_type": "stream",
     "text": [
      "\n"
     ]
    },
    {
     "name": "stdout",
     "output_type": "stream",
     "text": [
      "\n",
      "      Epoch    GPU_mem   box_loss   cls_loss   dfl_loss  Instances       Size\n"
     ]
    },
    {
     "name": "stderr",
     "output_type": "stream",
     "text": [
      "     54/100         0G     0.5183     0.4387      1.073         32        640: 100%|██████████| 9/9 [01:06<00:00,  7.40s/it]\n",
      "                 Class     Images  Instances      Box(P          R      mAP50  mAP50-95): 100%|██████████| 2/2 [00:06<00:00,  3.22s/it]"
     ]
    },
    {
     "name": "stdout",
     "output_type": "stream",
     "text": [
      "                   all         40         40      0.997          1      0.995      0.892\n"
     ]
    },
    {
     "name": "stderr",
     "output_type": "stream",
     "text": [
      "\n"
     ]
    },
    {
     "name": "stdout",
     "output_type": "stream",
     "text": [
      "\n",
      "      Epoch    GPU_mem   box_loss   cls_loss   dfl_loss  Instances       Size\n"
     ]
    },
    {
     "name": "stderr",
     "output_type": "stream",
     "text": [
      "     55/100         0G     0.4945     0.4338      1.049         28        640: 100%|██████████| 9/9 [01:07<00:00,  7.52s/it]\n",
      "                 Class     Images  Instances      Box(P          R      mAP50  mAP50-95): 100%|██████████| 2/2 [00:06<00:00,  3.17s/it]"
     ]
    },
    {
     "name": "stdout",
     "output_type": "stream",
     "text": [
      "                   all         40         40      0.996          1      0.995      0.884\n"
     ]
    },
    {
     "name": "stderr",
     "output_type": "stream",
     "text": [
      "\n"
     ]
    },
    {
     "name": "stdout",
     "output_type": "stream",
     "text": [
      "\n",
      "      Epoch    GPU_mem   box_loss   cls_loss   dfl_loss  Instances       Size\n"
     ]
    },
    {
     "name": "stderr",
     "output_type": "stream",
     "text": [
      "     56/100         0G     0.5067     0.4517      1.044         35        640: 100%|██████████| 9/9 [01:06<00:00,  7.43s/it]\n",
      "                 Class     Images  Instances      Box(P          R      mAP50  mAP50-95): 100%|██████████| 2/2 [00:06<00:00,  3.19s/it]"
     ]
    },
    {
     "name": "stdout",
     "output_type": "stream",
     "text": [
      "                   all         40         40      0.998          1      0.995      0.916\n"
     ]
    },
    {
     "name": "stderr",
     "output_type": "stream",
     "text": [
      "\n"
     ]
    },
    {
     "name": "stdout",
     "output_type": "stream",
     "text": [
      "\n",
      "      Epoch    GPU_mem   box_loss   cls_loss   dfl_loss  Instances       Size\n"
     ]
    },
    {
     "name": "stderr",
     "output_type": "stream",
     "text": [
      "     57/100         0G     0.5341     0.4349      1.091         24        640: 100%|██████████| 9/9 [01:07<00:00,  7.49s/it]\n",
      "                 Class     Images  Instances      Box(P          R      mAP50  mAP50-95): 100%|██████████| 2/2 [00:06<00:00,  3.31s/it]"
     ]
    },
    {
     "name": "stdout",
     "output_type": "stream",
     "text": [
      "                   all         40         40      0.996          1      0.995      0.918\n"
     ]
    },
    {
     "name": "stderr",
     "output_type": "stream",
     "text": [
      "\n"
     ]
    },
    {
     "name": "stdout",
     "output_type": "stream",
     "text": [
      "\n",
      "      Epoch    GPU_mem   box_loss   cls_loss   dfl_loss  Instances       Size\n"
     ]
    },
    {
     "name": "stderr",
     "output_type": "stream",
     "text": [
      "     58/100         0G     0.5114     0.4368      1.039         26        640: 100%|██████████| 9/9 [01:07<00:00,  7.46s/it]\n",
      "                 Class     Images  Instances      Box(P          R      mAP50  mAP50-95): 100%|██████████| 2/2 [00:06<00:00,  3.32s/it]"
     ]
    },
    {
     "name": "stdout",
     "output_type": "stream",
     "text": [
      "                   all         40         40      0.998          1      0.995      0.911\n"
     ]
    },
    {
     "name": "stderr",
     "output_type": "stream",
     "text": [
      "\n"
     ]
    },
    {
     "name": "stdout",
     "output_type": "stream",
     "text": [
      "\n",
      "      Epoch    GPU_mem   box_loss   cls_loss   dfl_loss  Instances       Size\n"
     ]
    },
    {
     "name": "stderr",
     "output_type": "stream",
     "text": [
      "     59/100         0G     0.5314     0.4378      1.059         23        640: 100%|██████████| 9/9 [01:08<00:00,  7.59s/it]\n",
      "                 Class     Images  Instances      Box(P          R      mAP50  mAP50-95): 100%|██████████| 2/2 [00:06<00:00,  3.19s/it]"
     ]
    },
    {
     "name": "stdout",
     "output_type": "stream",
     "text": [
      "                   all         40         40      0.999          1      0.995      0.918\n"
     ]
    },
    {
     "name": "stderr",
     "output_type": "stream",
     "text": [
      "\n"
     ]
    },
    {
     "name": "stdout",
     "output_type": "stream",
     "text": [
      "\n",
      "      Epoch    GPU_mem   box_loss   cls_loss   dfl_loss  Instances       Size\n"
     ]
    },
    {
     "name": "stderr",
     "output_type": "stream",
     "text": [
      "     60/100         0G     0.5325      0.441      1.069         33        640: 100%|██████████| 9/9 [01:07<00:00,  7.49s/it]\n",
      "                 Class     Images  Instances      Box(P          R      mAP50  mAP50-95): 100%|██████████| 2/2 [00:06<00:00,  3.22s/it]"
     ]
    },
    {
     "name": "stdout",
     "output_type": "stream",
     "text": [
      "                   all         40         40      0.999          1      0.995      0.913\n"
     ]
    },
    {
     "name": "stderr",
     "output_type": "stream",
     "text": [
      "\n"
     ]
    },
    {
     "name": "stdout",
     "output_type": "stream",
     "text": [
      "\n",
      "      Epoch    GPU_mem   box_loss   cls_loss   dfl_loss  Instances       Size\n"
     ]
    },
    {
     "name": "stderr",
     "output_type": "stream",
     "text": [
      "     61/100         0G     0.5285     0.4565      1.078         28        640: 100%|██████████| 9/9 [01:07<00:00,  7.50s/it]\n",
      "                 Class     Images  Instances      Box(P          R      mAP50  mAP50-95): 100%|██████████| 2/2 [00:06<00:00,  3.21s/it]"
     ]
    },
    {
     "name": "stdout",
     "output_type": "stream",
     "text": [
      "                   all         40         40      0.998          1      0.995      0.914\n"
     ]
    },
    {
     "name": "stderr",
     "output_type": "stream",
     "text": [
      "\n"
     ]
    },
    {
     "name": "stdout",
     "output_type": "stream",
     "text": [
      "\n",
      "      Epoch    GPU_mem   box_loss   cls_loss   dfl_loss  Instances       Size\n"
     ]
    },
    {
     "name": "stderr",
     "output_type": "stream",
     "text": [
      "     62/100         0G     0.5014     0.4277      1.052         27        640: 100%|██████████| 9/9 [01:07<00:00,  7.52s/it]\n",
      "                 Class     Images  Instances      Box(P          R      mAP50  mAP50-95): 100%|██████████| 2/2 [00:06<00:00,  3.26s/it]"
     ]
    },
    {
     "name": "stdout",
     "output_type": "stream",
     "text": [
      "                   all         40         40      0.998          1      0.995      0.916\n"
     ]
    },
    {
     "name": "stderr",
     "output_type": "stream",
     "text": [
      "\n"
     ]
    },
    {
     "name": "stdout",
     "output_type": "stream",
     "text": [
      "\n",
      "      Epoch    GPU_mem   box_loss   cls_loss   dfl_loss  Instances       Size\n"
     ]
    },
    {
     "name": "stderr",
     "output_type": "stream",
     "text": [
      "     63/100         0G     0.4992     0.4067      1.058         24        640: 100%|██████████| 9/9 [01:07<00:00,  7.52s/it]\n",
      "                 Class     Images  Instances      Box(P          R      mAP50  mAP50-95): 100%|██████████| 2/2 [00:06<00:00,  3.23s/it]"
     ]
    },
    {
     "name": "stdout",
     "output_type": "stream",
     "text": [
      "                   all         40         40      0.997          1      0.995      0.922\n"
     ]
    },
    {
     "name": "stderr",
     "output_type": "stream",
     "text": [
      "\n"
     ]
    },
    {
     "name": "stdout",
     "output_type": "stream",
     "text": [
      "\n",
      "      Epoch    GPU_mem   box_loss   cls_loss   dfl_loss  Instances       Size\n"
     ]
    },
    {
     "name": "stderr",
     "output_type": "stream",
     "text": [
      "     64/100         0G     0.4518     0.3707      1.046         29        640: 100%|██████████| 9/9 [01:07<00:00,  7.47s/it]\n",
      "                 Class     Images  Instances      Box(P          R      mAP50  mAP50-95): 100%|██████████| 2/2 [00:06<00:00,  3.23s/it]"
     ]
    },
    {
     "name": "stdout",
     "output_type": "stream",
     "text": [
      "                   all         40         40      0.998          1      0.995      0.923\n"
     ]
    },
    {
     "name": "stderr",
     "output_type": "stream",
     "text": [
      "\n"
     ]
    },
    {
     "name": "stdout",
     "output_type": "stream",
     "text": [
      "\n",
      "      Epoch    GPU_mem   box_loss   cls_loss   dfl_loss  Instances       Size\n"
     ]
    },
    {
     "name": "stderr",
     "output_type": "stream",
     "text": [
      "     65/100         0G     0.4676     0.4217      1.049         29        640: 100%|██████████| 9/9 [01:07<00:00,  7.49s/it]\n",
      "                 Class     Images  Instances      Box(P          R      mAP50  mAP50-95): 100%|██████████| 2/2 [00:06<00:00,  3.23s/it]"
     ]
    },
    {
     "name": "stdout",
     "output_type": "stream",
     "text": [
      "                   all         40         40      0.998          1      0.995      0.909\n"
     ]
    },
    {
     "name": "stderr",
     "output_type": "stream",
     "text": [
      "\n"
     ]
    },
    {
     "name": "stdout",
     "output_type": "stream",
     "text": [
      "\n",
      "      Epoch    GPU_mem   box_loss   cls_loss   dfl_loss  Instances       Size\n"
     ]
    },
    {
     "name": "stderr",
     "output_type": "stream",
     "text": [
      "     66/100         0G     0.4931     0.3694      1.074         29        640: 100%|██████████| 9/9 [01:06<00:00,  7.44s/it]\n",
      "                 Class     Images  Instances      Box(P          R      mAP50  mAP50-95): 100%|██████████| 2/2 [00:06<00:00,  3.21s/it]"
     ]
    },
    {
     "name": "stdout",
     "output_type": "stream",
     "text": [
      "                   all         40         40      0.999          1      0.995      0.913\n"
     ]
    },
    {
     "name": "stderr",
     "output_type": "stream",
     "text": [
      "\n"
     ]
    },
    {
     "name": "stdout",
     "output_type": "stream",
     "text": [
      "\n",
      "      Epoch    GPU_mem   box_loss   cls_loss   dfl_loss  Instances       Size\n"
     ]
    },
    {
     "name": "stderr",
     "output_type": "stream",
     "text": [
      "     67/100         0G     0.5081     0.4091      1.031         35        640: 100%|██████████| 9/9 [01:09<00:00,  7.67s/it]\n",
      "                 Class     Images  Instances      Box(P          R      mAP50  mAP50-95): 100%|██████████| 2/2 [00:06<00:00,  3.21s/it]"
     ]
    },
    {
     "name": "stdout",
     "output_type": "stream",
     "text": [
      "                   all         40         40      0.998          1      0.995      0.914\n"
     ]
    },
    {
     "name": "stderr",
     "output_type": "stream",
     "text": [
      "\n"
     ]
    },
    {
     "name": "stdout",
     "output_type": "stream",
     "text": [
      "\n",
      "      Epoch    GPU_mem   box_loss   cls_loss   dfl_loss  Instances       Size\n"
     ]
    },
    {
     "name": "stderr",
     "output_type": "stream",
     "text": [
      "     68/100         0G     0.4763     0.3822      1.038         29        640: 100%|██████████| 9/9 [01:07<00:00,  7.53s/it]\n",
      "                 Class     Images  Instances      Box(P          R      mAP50  mAP50-95): 100%|██████████| 2/2 [00:06<00:00,  3.23s/it]"
     ]
    },
    {
     "name": "stdout",
     "output_type": "stream",
     "text": [
      "                   all         40         40      0.999          1      0.995      0.914\n"
     ]
    },
    {
     "name": "stderr",
     "output_type": "stream",
     "text": [
      "\n"
     ]
    },
    {
     "name": "stdout",
     "output_type": "stream",
     "text": [
      "\n",
      "      Epoch    GPU_mem   box_loss   cls_loss   dfl_loss  Instances       Size\n"
     ]
    },
    {
     "name": "stderr",
     "output_type": "stream",
     "text": [
      "     69/100         0G     0.4511      0.411      1.025         26        640: 100%|██████████| 9/9 [01:06<00:00,  7.42s/it]\n",
      "                 Class     Images  Instances      Box(P          R      mAP50  mAP50-95): 100%|██████████| 2/2 [00:06<00:00,  3.24s/it]"
     ]
    },
    {
     "name": "stdout",
     "output_type": "stream",
     "text": [
      "                   all         40         40      0.999          1      0.995      0.958\n"
     ]
    },
    {
     "name": "stderr",
     "output_type": "stream",
     "text": [
      "\n"
     ]
    },
    {
     "name": "stdout",
     "output_type": "stream",
     "text": [
      "\n",
      "      Epoch    GPU_mem   box_loss   cls_loss   dfl_loss  Instances       Size\n"
     ]
    },
    {
     "name": "stderr",
     "output_type": "stream",
     "text": [
      "     70/100         0G     0.4625     0.3938      1.022         27        640: 100%|██████████| 9/9 [01:06<00:00,  7.34s/it]\n",
      "                 Class     Images  Instances      Box(P          R      mAP50  mAP50-95): 100%|██████████| 2/2 [00:06<00:00,  3.25s/it]"
     ]
    },
    {
     "name": "stdout",
     "output_type": "stream",
     "text": [
      "                   all         40         40      0.999          1      0.995      0.949\n"
     ]
    },
    {
     "name": "stderr",
     "output_type": "stream",
     "text": [
      "\n"
     ]
    },
    {
     "name": "stdout",
     "output_type": "stream",
     "text": [
      "\n",
      "      Epoch    GPU_mem   box_loss   cls_loss   dfl_loss  Instances       Size\n"
     ]
    },
    {
     "name": "stderr",
     "output_type": "stream",
     "text": [
      "     71/100         0G     0.4617     0.3958      1.028         33        640: 100%|██████████| 9/9 [01:08<00:00,  7.63s/it]\n",
      "                 Class     Images  Instances      Box(P          R      mAP50  mAP50-95): 100%|██████████| 2/2 [00:06<00:00,  3.22s/it]"
     ]
    },
    {
     "name": "stdout",
     "output_type": "stream",
     "text": [
      "                   all         40         40      0.999          1      0.995      0.933\n"
     ]
    },
    {
     "name": "stderr",
     "output_type": "stream",
     "text": [
      "\n"
     ]
    },
    {
     "name": "stdout",
     "output_type": "stream",
     "text": [
      "\n",
      "      Epoch    GPU_mem   box_loss   cls_loss   dfl_loss  Instances       Size\n"
     ]
    },
    {
     "name": "stderr",
     "output_type": "stream",
     "text": [
      "     72/100         0G     0.4843     0.4129      1.049         24        640: 100%|██████████| 9/9 [01:08<00:00,  7.65s/it]\n",
      "                 Class     Images  Instances      Box(P          R      mAP50  mAP50-95): 100%|██████████| 2/2 [00:06<00:00,  3.21s/it]"
     ]
    },
    {
     "name": "stdout",
     "output_type": "stream",
     "text": [
      "                   all         40         40      0.999          1      0.995      0.939\n"
     ]
    },
    {
     "name": "stderr",
     "output_type": "stream",
     "text": [
      "\n"
     ]
    },
    {
     "name": "stdout",
     "output_type": "stream",
     "text": [
      "\n",
      "      Epoch    GPU_mem   box_loss   cls_loss   dfl_loss  Instances       Size\n"
     ]
    },
    {
     "name": "stderr",
     "output_type": "stream",
     "text": [
      "     73/100         0G     0.4436      0.373      1.019         28        640: 100%|██████████| 9/9 [01:07<00:00,  7.52s/it]\n",
      "                 Class     Images  Instances      Box(P          R      mAP50  mAP50-95): 100%|██████████| 2/2 [00:06<00:00,  3.33s/it]"
     ]
    },
    {
     "name": "stdout",
     "output_type": "stream",
     "text": [
      "                   all         40         40      0.999          1      0.995       0.95\n"
     ]
    },
    {
     "name": "stderr",
     "output_type": "stream",
     "text": [
      "\n"
     ]
    },
    {
     "name": "stdout",
     "output_type": "stream",
     "text": [
      "\n",
      "      Epoch    GPU_mem   box_loss   cls_loss   dfl_loss  Instances       Size\n"
     ]
    },
    {
     "name": "stderr",
     "output_type": "stream",
     "text": [
      "     74/100         0G     0.4493      0.398      1.034         26        640: 100%|██████████| 9/9 [01:06<00:00,  7.43s/it]\n",
      "                 Class     Images  Instances      Box(P          R      mAP50  mAP50-95): 100%|██████████| 2/2 [00:06<00:00,  3.18s/it]"
     ]
    },
    {
     "name": "stdout",
     "output_type": "stream",
     "text": [
      "                   all         40         40      0.999          1      0.995      0.949\n"
     ]
    },
    {
     "name": "stderr",
     "output_type": "stream",
     "text": [
      "\n"
     ]
    },
    {
     "name": "stdout",
     "output_type": "stream",
     "text": [
      "\n",
      "      Epoch    GPU_mem   box_loss   cls_loss   dfl_loss  Instances       Size\n"
     ]
    },
    {
     "name": "stderr",
     "output_type": "stream",
     "text": [
      "     75/100         0G     0.4724     0.3923       1.04         21        640: 100%|██████████| 9/9 [01:06<00:00,  7.44s/it]\n",
      "                 Class     Images  Instances      Box(P          R      mAP50  mAP50-95): 100%|██████████| 2/2 [00:06<00:00,  3.18s/it]"
     ]
    },
    {
     "name": "stdout",
     "output_type": "stream",
     "text": [
      "                   all         40         40      0.998          1      0.995      0.938\n"
     ]
    },
    {
     "name": "stderr",
     "output_type": "stream",
     "text": [
      "\n"
     ]
    },
    {
     "name": "stdout",
     "output_type": "stream",
     "text": [
      "\n",
      "      Epoch    GPU_mem   box_loss   cls_loss   dfl_loss  Instances       Size\n"
     ]
    },
    {
     "name": "stderr",
     "output_type": "stream",
     "text": [
      "     76/100         0G     0.4565     0.3794      1.035         29        640: 100%|██████████| 9/9 [01:05<00:00,  7.30s/it]\n",
      "                 Class     Images  Instances      Box(P          R      mAP50  mAP50-95): 100%|██████████| 2/2 [00:06<00:00,  3.21s/it]"
     ]
    },
    {
     "name": "stdout",
     "output_type": "stream",
     "text": [
      "                   all         40         40      0.998          1      0.995      0.947\n"
     ]
    },
    {
     "name": "stderr",
     "output_type": "stream",
     "text": [
      "\n"
     ]
    },
    {
     "name": "stdout",
     "output_type": "stream",
     "text": [
      "\n",
      "      Epoch    GPU_mem   box_loss   cls_loss   dfl_loss  Instances       Size\n"
     ]
    },
    {
     "name": "stderr",
     "output_type": "stream",
     "text": [
      "     77/100         0G     0.4146     0.3889       1.02         29        640: 100%|██████████| 9/9 [01:08<00:00,  7.58s/it]\n",
      "                 Class     Images  Instances      Box(P          R      mAP50  mAP50-95): 100%|██████████| 2/2 [00:06<00:00,  3.20s/it]"
     ]
    },
    {
     "name": "stdout",
     "output_type": "stream",
     "text": [
      "                   all         40         40      0.999          1      0.995       0.95\n"
     ]
    },
    {
     "name": "stderr",
     "output_type": "stream",
     "text": [
      "\n"
     ]
    },
    {
     "name": "stdout",
     "output_type": "stream",
     "text": [
      "\n",
      "      Epoch    GPU_mem   box_loss   cls_loss   dfl_loss  Instances       Size\n"
     ]
    },
    {
     "name": "stderr",
     "output_type": "stream",
     "text": [
      "     78/100         0G     0.4158     0.3831      1.013         30        640: 100%|██████████| 9/9 [01:12<00:00,  8.02s/it]\n",
      "                 Class     Images  Instances      Box(P          R      mAP50  mAP50-95): 100%|██████████| 2/2 [00:07<00:00,  3.53s/it]"
     ]
    },
    {
     "name": "stdout",
     "output_type": "stream",
     "text": [
      "                   all         40         40      0.999          1      0.995      0.947\n"
     ]
    },
    {
     "name": "stderr",
     "output_type": "stream",
     "text": [
      "\n"
     ]
    },
    {
     "name": "stdout",
     "output_type": "stream",
     "text": [
      "\n",
      "      Epoch    GPU_mem   box_loss   cls_loss   dfl_loss  Instances       Size\n"
     ]
    },
    {
     "name": "stderr",
     "output_type": "stream",
     "text": [
      "     79/100         0G     0.4233     0.3498       1.01         29        640: 100%|██████████| 9/9 [01:16<00:00,  8.47s/it]\n",
      "                 Class     Images  Instances      Box(P          R      mAP50  mAP50-95): 100%|██████████| 2/2 [00:07<00:00,  3.53s/it]"
     ]
    },
    {
     "name": "stdout",
     "output_type": "stream",
     "text": [
      "                   all         40         40      0.999          1      0.995      0.932\n"
     ]
    },
    {
     "name": "stderr",
     "output_type": "stream",
     "text": [
      "\n"
     ]
    },
    {
     "name": "stdout",
     "output_type": "stream",
     "text": [
      "\n",
      "      Epoch    GPU_mem   box_loss   cls_loss   dfl_loss  Instances       Size\n"
     ]
    },
    {
     "name": "stderr",
     "output_type": "stream",
     "text": [
      "     80/100         0G     0.4437     0.3965       1.04         27        640: 100%|██████████| 9/9 [01:13<00:00,  8.18s/it]\n",
      "                 Class     Images  Instances      Box(P          R      mAP50  mAP50-95): 100%|██████████| 2/2 [00:07<00:00,  3.50s/it]"
     ]
    },
    {
     "name": "stdout",
     "output_type": "stream",
     "text": [
      "                   all         40         40      0.998          1      0.995      0.935\n"
     ]
    },
    {
     "name": "stderr",
     "output_type": "stream",
     "text": [
      "\n"
     ]
    },
    {
     "name": "stdout",
     "output_type": "stream",
     "text": [
      "\n",
      "      Epoch    GPU_mem   box_loss   cls_loss   dfl_loss  Instances       Size\n"
     ]
    },
    {
     "name": "stderr",
     "output_type": "stream",
     "text": [
      "     81/100         0G     0.4534     0.3755      1.026         28        640: 100%|██████████| 9/9 [01:15<00:00,  8.43s/it]\n",
      "                 Class     Images  Instances      Box(P          R      mAP50  mAP50-95): 100%|██████████| 2/2 [00:07<00:00,  3.54s/it]"
     ]
    },
    {
     "name": "stdout",
     "output_type": "stream",
     "text": [
      "                   all         40         40      0.991          1      0.995      0.939\n"
     ]
    },
    {
     "name": "stderr",
     "output_type": "stream",
     "text": [
      "\n"
     ]
    },
    {
     "name": "stdout",
     "output_type": "stream",
     "text": [
      "\n",
      "      Epoch    GPU_mem   box_loss   cls_loss   dfl_loss  Instances       Size\n"
     ]
    },
    {
     "name": "stderr",
     "output_type": "stream",
     "text": [
      "     82/100         0G     0.4447     0.3684      1.072         20        640: 100%|██████████| 9/9 [01:13<00:00,  8.15s/it]\n",
      "                 Class     Images  Instances      Box(P          R      mAP50  mAP50-95): 100%|██████████| 2/2 [00:06<00:00,  3.50s/it]"
     ]
    },
    {
     "name": "stdout",
     "output_type": "stream",
     "text": [
      "                   all         40         40      0.975          1      0.995      0.954\n"
     ]
    },
    {
     "name": "stderr",
     "output_type": "stream",
     "text": [
      "\n"
     ]
    },
    {
     "name": "stdout",
     "output_type": "stream",
     "text": [
      "\n",
      "      Epoch    GPU_mem   box_loss   cls_loss   dfl_loss  Instances       Size\n"
     ]
    },
    {
     "name": "stderr",
     "output_type": "stream",
     "text": [
      "     83/100         0G     0.4076      0.361      0.999         32        640: 100%|██████████| 9/9 [01:11<00:00,  7.97s/it]\n",
      "                 Class     Images  Instances      Box(P          R      mAP50  mAP50-95): 100%|██████████| 2/2 [00:07<00:00,  3.51s/it]"
     ]
    },
    {
     "name": "stdout",
     "output_type": "stream",
     "text": [
      "                   all         40         40      0.974          1      0.994      0.957\n"
     ]
    },
    {
     "name": "stderr",
     "output_type": "stream",
     "text": [
      "\n"
     ]
    },
    {
     "name": "stdout",
     "output_type": "stream",
     "text": [
      "\n",
      "      Epoch    GPU_mem   box_loss   cls_loss   dfl_loss  Instances       Size\n"
     ]
    },
    {
     "name": "stderr",
     "output_type": "stream",
     "text": [
      "     84/100         0G     0.4019     0.3587      1.005         28        640: 100%|██████████| 9/9 [01:18<00:00,  8.67s/it]\n",
      "                 Class     Images  Instances      Box(P          R      mAP50  mAP50-95): 100%|██████████| 2/2 [00:06<00:00,  3.47s/it]"
     ]
    },
    {
     "name": "stdout",
     "output_type": "stream",
     "text": [
      "                   all         40         40      0.974          1      0.993      0.966\n"
     ]
    },
    {
     "name": "stderr",
     "output_type": "stream",
     "text": [
      "\n"
     ]
    },
    {
     "name": "stdout",
     "output_type": "stream",
     "text": [
      "\n",
      "      Epoch    GPU_mem   box_loss   cls_loss   dfl_loss  Instances       Size\n"
     ]
    },
    {
     "name": "stderr",
     "output_type": "stream",
     "text": [
      "     85/100         0G     0.4155     0.3585     0.9854         31        640: 100%|██████████| 9/9 [01:16<00:00,  8.48s/it]\n",
      "                 Class     Images  Instances      Box(P          R      mAP50  mAP50-95): 100%|██████████| 2/2 [00:06<00:00,  3.49s/it]"
     ]
    },
    {
     "name": "stdout",
     "output_type": "stream",
     "text": [
      "                   all         40         40      0.974          1      0.992      0.966\n"
     ]
    },
    {
     "name": "stderr",
     "output_type": "stream",
     "text": [
      "\n"
     ]
    },
    {
     "name": "stdout",
     "output_type": "stream",
     "text": [
      "\n",
      "      Epoch    GPU_mem   box_loss   cls_loss   dfl_loss  Instances       Size\n"
     ]
    },
    {
     "name": "stderr",
     "output_type": "stream",
     "text": [
      "     86/100         0G     0.4049     0.3832     0.9842         21        640: 100%|██████████| 9/9 [01:14<00:00,  8.28s/it]\n",
      "                 Class     Images  Instances      Box(P          R      mAP50  mAP50-95): 100%|██████████| 2/2 [00:07<00:00,  3.79s/it]"
     ]
    },
    {
     "name": "stdout",
     "output_type": "stream",
     "text": [
      "                   all         40         40      0.998          1      0.995      0.962\n"
     ]
    },
    {
     "name": "stderr",
     "output_type": "stream",
     "text": [
      "\n"
     ]
    },
    {
     "name": "stdout",
     "output_type": "stream",
     "text": [
      "\n",
      "      Epoch    GPU_mem   box_loss   cls_loss   dfl_loss  Instances       Size\n"
     ]
    },
    {
     "name": "stderr",
     "output_type": "stream",
     "text": [
      "     87/100         0G     0.4287     0.3629       1.01         29        640: 100%|██████████| 9/9 [01:18<00:00,  8.71s/it]\n",
      "                 Class     Images  Instances      Box(P          R      mAP50  mAP50-95): 100%|██████████| 2/2 [00:06<00:00,  3.45s/it]"
     ]
    },
    {
     "name": "stdout",
     "output_type": "stream",
     "text": [
      "                   all         40         40      0.998          1      0.995      0.959\n"
     ]
    },
    {
     "name": "stderr",
     "output_type": "stream",
     "text": [
      "\n"
     ]
    },
    {
     "name": "stdout",
     "output_type": "stream",
     "text": [
      "\n",
      "      Epoch    GPU_mem   box_loss   cls_loss   dfl_loss  Instances       Size\n"
     ]
    },
    {
     "name": "stderr",
     "output_type": "stream",
     "text": [
      "     88/100         0G     0.4169     0.3554      1.026         30        640: 100%|██████████| 9/9 [01:17<00:00,  8.56s/it]\n",
      "                 Class     Images  Instances      Box(P          R      mAP50  mAP50-95): 100%|██████████| 2/2 [00:07<00:00,  3.56s/it]"
     ]
    },
    {
     "name": "stdout",
     "output_type": "stream",
     "text": [
      "                   all         40         40      0.997          1      0.995      0.961\n"
     ]
    },
    {
     "name": "stderr",
     "output_type": "stream",
     "text": [
      "\n"
     ]
    },
    {
     "name": "stdout",
     "output_type": "stream",
     "text": [
      "\n",
      "      Epoch    GPU_mem   box_loss   cls_loss   dfl_loss  Instances       Size\n"
     ]
    },
    {
     "name": "stderr",
     "output_type": "stream",
     "text": [
      "     89/100         0G     0.4121      0.348      1.027         26        640: 100%|██████████| 9/9 [01:09<00:00,  7.68s/it]\n",
      "                 Class     Images  Instances      Box(P          R      mAP50  mAP50-95): 100%|██████████| 2/2 [00:06<00:00,  3.27s/it]"
     ]
    },
    {
     "name": "stdout",
     "output_type": "stream",
     "text": [
      "                   all         40         40      0.997          1      0.995       0.96\n"
     ]
    },
    {
     "name": "stderr",
     "output_type": "stream",
     "text": [
      "\n"
     ]
    },
    {
     "name": "stdout",
     "output_type": "stream",
     "text": [
      "\n",
      "      Epoch    GPU_mem   box_loss   cls_loss   dfl_loss  Instances       Size\n"
     ]
    },
    {
     "name": "stderr",
     "output_type": "stream",
     "text": [
      "     90/100         0G     0.4135     0.3529     0.9993         26        640: 100%|██████████| 9/9 [01:09<00:00,  7.70s/it]\n",
      "                 Class     Images  Instances      Box(P          R      mAP50  mAP50-95): 100%|██████████| 2/2 [00:06<00:00,  3.30s/it]"
     ]
    },
    {
     "name": "stdout",
     "output_type": "stream",
     "text": [
      "                   all         40         40      0.972          1      0.995      0.966\n"
     ]
    },
    {
     "name": "stderr",
     "output_type": "stream",
     "text": [
      "\n"
     ]
    },
    {
     "name": "stdout",
     "output_type": "stream",
     "text": [
      "Closing dataloader mosaic\n",
      "\n",
      "      Epoch    GPU_mem   box_loss   cls_loss   dfl_loss  Instances       Size\n"
     ]
    },
    {
     "name": "stderr",
     "output_type": "stream",
     "text": [
      "     91/100         0G     0.2808     0.3324      0.927         12        640: 100%|██████████| 9/9 [01:07<00:00,  7.55s/it]\n",
      "                 Class     Images  Instances      Box(P          R      mAP50  mAP50-95): 100%|██████████| 2/2 [00:06<00:00,  3.36s/it]"
     ]
    },
    {
     "name": "stdout",
     "output_type": "stream",
     "text": [
      "                   all         40         40      0.997          1      0.995      0.967\n"
     ]
    },
    {
     "name": "stderr",
     "output_type": "stream",
     "text": [
      "\n"
     ]
    },
    {
     "name": "stdout",
     "output_type": "stream",
     "text": [
      "\n",
      "      Epoch    GPU_mem   box_loss   cls_loss   dfl_loss  Instances       Size\n"
     ]
    },
    {
     "name": "stderr",
     "output_type": "stream",
     "text": [
      "     92/100         0G     0.2674     0.3021     0.9226         12        640: 100%|██████████| 9/9 [01:08<00:00,  7.65s/it]\n",
      "                 Class     Images  Instances      Box(P          R      mAP50  mAP50-95): 100%|██████████| 2/2 [00:07<00:00,  3.52s/it]"
     ]
    },
    {
     "name": "stdout",
     "output_type": "stream",
     "text": [
      "                   all         40         40      0.998          1      0.995      0.965\n"
     ]
    },
    {
     "name": "stderr",
     "output_type": "stream",
     "text": [
      "\n"
     ]
    },
    {
     "name": "stdout",
     "output_type": "stream",
     "text": [
      "\n",
      "      Epoch    GPU_mem   box_loss   cls_loss   dfl_loss  Instances       Size\n"
     ]
    },
    {
     "name": "stderr",
     "output_type": "stream",
     "text": [
      "     93/100         0G     0.2544     0.2869     0.9093         11        640: 100%|██████████| 9/9 [01:10<00:00,  7.86s/it]\n",
      "                 Class     Images  Instances      Box(P          R      mAP50  mAP50-95): 100%|██████████| 2/2 [00:06<00:00,  3.28s/it]"
     ]
    },
    {
     "name": "stdout",
     "output_type": "stream",
     "text": [
      "                   all         40         40      0.998          1      0.995      0.965\n"
     ]
    },
    {
     "name": "stderr",
     "output_type": "stream",
     "text": [
      "\n"
     ]
    },
    {
     "name": "stdout",
     "output_type": "stream",
     "text": [
      "\n",
      "      Epoch    GPU_mem   box_loss   cls_loss   dfl_loss  Instances       Size\n"
     ]
    },
    {
     "name": "stderr",
     "output_type": "stream",
     "text": [
      "     94/100         0G     0.2552     0.2892       0.92         12        640: 100%|██████████| 9/9 [01:08<00:00,  7.56s/it]\n",
      "                 Class     Images  Instances      Box(P          R      mAP50  mAP50-95): 100%|██████████| 2/2 [00:06<00:00,  3.35s/it]"
     ]
    },
    {
     "name": "stdout",
     "output_type": "stream",
     "text": [
      "                   all         40         40      0.998          1      0.995      0.967\n"
     ]
    },
    {
     "name": "stderr",
     "output_type": "stream",
     "text": [
      "\n"
     ]
    },
    {
     "name": "stdout",
     "output_type": "stream",
     "text": [
      "\n",
      "      Epoch    GPU_mem   box_loss   cls_loss   dfl_loss  Instances       Size\n"
     ]
    },
    {
     "name": "stderr",
     "output_type": "stream",
     "text": [
      "     95/100         0G     0.2571     0.2935     0.9311         12        640: 100%|██████████| 9/9 [01:08<00:00,  7.65s/it]\n",
      "                 Class     Images  Instances      Box(P          R      mAP50  mAP50-95): 100%|██████████| 2/2 [00:07<00:00,  3.53s/it]"
     ]
    },
    {
     "name": "stdout",
     "output_type": "stream",
     "text": [
      "                   all         40         40      0.998          1      0.995      0.968\n"
     ]
    },
    {
     "name": "stderr",
     "output_type": "stream",
     "text": [
      "\n"
     ]
    },
    {
     "name": "stdout",
     "output_type": "stream",
     "text": [
      "\n",
      "      Epoch    GPU_mem   box_loss   cls_loss   dfl_loss  Instances       Size\n"
     ]
    },
    {
     "name": "stderr",
     "output_type": "stream",
     "text": [
      "     96/100         0G     0.2542     0.2854     0.9195         11        640: 100%|██████████| 9/9 [01:09<00:00,  7.77s/it]\n",
      "                 Class     Images  Instances      Box(P          R      mAP50  mAP50-95): 100%|██████████| 2/2 [00:06<00:00,  3.27s/it]"
     ]
    },
    {
     "name": "stdout",
     "output_type": "stream",
     "text": [
      "                   all         40         40      0.999          1      0.995      0.971\n"
     ]
    },
    {
     "name": "stderr",
     "output_type": "stream",
     "text": [
      "\n"
     ]
    },
    {
     "name": "stdout",
     "output_type": "stream",
     "text": [
      "\n",
      "      Epoch    GPU_mem   box_loss   cls_loss   dfl_loss  Instances       Size\n"
     ]
    },
    {
     "name": "stderr",
     "output_type": "stream",
     "text": [
      "     97/100         0G     0.2547     0.2814     0.9184         11        640: 100%|██████████| 9/9 [01:10<00:00,  7.81s/it]\n",
      "                 Class     Images  Instances      Box(P          R      mAP50  mAP50-95): 100%|██████████| 2/2 [00:06<00:00,  3.34s/it]"
     ]
    },
    {
     "name": "stdout",
     "output_type": "stream",
     "text": [
      "                   all         40         40      0.999          1      0.995      0.971\n"
     ]
    },
    {
     "name": "stderr",
     "output_type": "stream",
     "text": [
      "\n"
     ]
    },
    {
     "name": "stdout",
     "output_type": "stream",
     "text": [
      "\n",
      "      Epoch    GPU_mem   box_loss   cls_loss   dfl_loss  Instances       Size\n"
     ]
    },
    {
     "name": "stderr",
     "output_type": "stream",
     "text": [
      "     98/100         0G     0.2376     0.2707     0.9168         12        640: 100%|██████████| 9/9 [01:09<00:00,  7.67s/it]\n",
      "                 Class     Images  Instances      Box(P          R      mAP50  mAP50-95): 100%|██████████| 2/2 [00:06<00:00,  3.29s/it]"
     ]
    },
    {
     "name": "stdout",
     "output_type": "stream",
     "text": [
      "                   all         40         40      0.999          1      0.995       0.98\n"
     ]
    },
    {
     "name": "stderr",
     "output_type": "stream",
     "text": [
      "\n"
     ]
    },
    {
     "name": "stdout",
     "output_type": "stream",
     "text": [
      "\n",
      "      Epoch    GPU_mem   box_loss   cls_loss   dfl_loss  Instances       Size\n"
     ]
    },
    {
     "name": "stderr",
     "output_type": "stream",
     "text": [
      "     99/100         0G     0.2314     0.2635     0.9005         12        640: 100%|██████████| 9/9 [01:08<00:00,  7.63s/it]\n",
      "                 Class     Images  Instances      Box(P          R      mAP50  mAP50-95): 100%|██████████| 2/2 [00:06<00:00,  3.25s/it]"
     ]
    },
    {
     "name": "stdout",
     "output_type": "stream",
     "text": [
      "                   all         40         40      0.999          1      0.995      0.976\n"
     ]
    },
    {
     "name": "stderr",
     "output_type": "stream",
     "text": [
      "\n"
     ]
    },
    {
     "name": "stdout",
     "output_type": "stream",
     "text": [
      "\n",
      "      Epoch    GPU_mem   box_loss   cls_loss   dfl_loss  Instances       Size\n"
     ]
    },
    {
     "name": "stderr",
     "output_type": "stream",
     "text": [
      "    100/100         0G     0.2364     0.2598     0.8907         12        640: 100%|██████████| 9/9 [01:08<00:00,  7.65s/it]\n",
      "                 Class     Images  Instances      Box(P          R      mAP50  mAP50-95): 100%|██████████| 2/2 [00:06<00:00,  3.21s/it]"
     ]
    },
    {
     "name": "stdout",
     "output_type": "stream",
     "text": [
      "                   all         40         40      0.999          1      0.995      0.972\n"
     ]
    },
    {
     "name": "stderr",
     "output_type": "stream",
     "text": [
      "\n"
     ]
    },
    {
     "name": "stdout",
     "output_type": "stream",
     "text": [
      "\n",
      "100 epochs completed in 2.080 hours.\n",
      "Optimizer stripped from runs/detect/yolov8_custom/weights/last.pt, 6.3MB\n",
      "Optimizer stripped from runs/detect/yolov8_custom/weights/best.pt, 6.3MB\n",
      "\n",
      "Validating runs/detect/yolov8_custom/weights/best.pt...\n",
      "Ultralytics YOLOv8.2.103 🚀 Python-3.9.13 torch-2.4.1 CPU (Apple M1)\n",
      "Model summary (fused): 168 layers, 3,005,843 parameters, 0 gradients, 8.1 GFLOPs\n"
     ]
    },
    {
     "name": "stderr",
     "output_type": "stream",
     "text": [
      "                 Class     Images  Instances      Box(P          R      mAP50  mAP50-95): 100%|██████████| 2/2 [00:06<00:00,  3.14s/it]\n"
     ]
    },
    {
     "name": "stdout",
     "output_type": "stream",
     "text": [
      "                   all         40         40      0.999          1      0.995       0.98\n",
      "Speed: 1.3ms preprocess, 152.6ms inference, 0.0ms loss, 0.3ms postprocess per image\n",
      "Results saved to \u001b[1mruns/detect/yolov8_custom\u001b[0m\n"
     ]
    },
    {
     "data": {
      "text/plain": [
       "ultralytics.utils.metrics.DetMetrics object with attributes:\n",
       "\n",
       "ap_class_index: array([0])\n",
       "box: ultralytics.utils.metrics.Metric object\n",
       "confusion_matrix: <ultralytics.utils.metrics.ConfusionMatrix object at 0x1686ea9a0>\n",
       "curves: ['Precision-Recall(B)', 'F1-Confidence(B)', 'Precision-Confidence(B)', 'Recall-Confidence(B)']\n",
       "curves_results: [[array([          0,    0.001001,    0.002002,    0.003003,    0.004004,    0.005005,    0.006006,    0.007007,    0.008008,    0.009009,     0.01001,    0.011011,    0.012012,    0.013013,    0.014014,    0.015015,    0.016016,    0.017017,    0.018018,    0.019019,     0.02002,    0.021021,    0.022022,    0.023023,\n",
       "          0.024024,    0.025025,    0.026026,    0.027027,    0.028028,    0.029029,     0.03003,    0.031031,    0.032032,    0.033033,    0.034034,    0.035035,    0.036036,    0.037037,    0.038038,    0.039039,     0.04004,    0.041041,    0.042042,    0.043043,    0.044044,    0.045045,    0.046046,    0.047047,\n",
       "          0.048048,    0.049049,     0.05005,    0.051051,    0.052052,    0.053053,    0.054054,    0.055055,    0.056056,    0.057057,    0.058058,    0.059059,     0.06006,    0.061061,    0.062062,    0.063063,    0.064064,    0.065065,    0.066066,    0.067067,    0.068068,    0.069069,     0.07007,    0.071071,\n",
       "          0.072072,    0.073073,    0.074074,    0.075075,    0.076076,    0.077077,    0.078078,    0.079079,     0.08008,    0.081081,    0.082082,    0.083083,    0.084084,    0.085085,    0.086086,    0.087087,    0.088088,    0.089089,     0.09009,    0.091091,    0.092092,    0.093093,    0.094094,    0.095095,\n",
       "          0.096096,    0.097097,    0.098098,    0.099099,      0.1001,      0.1011,      0.1021,      0.1031,      0.1041,     0.10511,     0.10611,     0.10711,     0.10811,     0.10911,     0.11011,     0.11111,     0.11211,     0.11311,     0.11411,     0.11512,     0.11612,     0.11712,     0.11812,     0.11912,\n",
       "           0.12012,     0.12112,     0.12212,     0.12312,     0.12412,     0.12513,     0.12613,     0.12713,     0.12813,     0.12913,     0.13013,     0.13113,     0.13213,     0.13313,     0.13413,     0.13514,     0.13614,     0.13714,     0.13814,     0.13914,     0.14014,     0.14114,     0.14214,     0.14314,\n",
       "           0.14414,     0.14515,     0.14615,     0.14715,     0.14815,     0.14915,     0.15015,     0.15115,     0.15215,     0.15315,     0.15415,     0.15516,     0.15616,     0.15716,     0.15816,     0.15916,     0.16016,     0.16116,     0.16216,     0.16316,     0.16416,     0.16517,     0.16617,     0.16717,\n",
       "           0.16817,     0.16917,     0.17017,     0.17117,     0.17217,     0.17317,     0.17417,     0.17518,     0.17618,     0.17718,     0.17818,     0.17918,     0.18018,     0.18118,     0.18218,     0.18318,     0.18418,     0.18519,     0.18619,     0.18719,     0.18819,     0.18919,     0.19019,     0.19119,\n",
       "           0.19219,     0.19319,     0.19419,      0.1952,      0.1962,      0.1972,      0.1982,      0.1992,      0.2002,      0.2012,      0.2022,      0.2032,      0.2042,     0.20521,     0.20621,     0.20721,     0.20821,     0.20921,     0.21021,     0.21121,     0.21221,     0.21321,     0.21421,     0.21522,\n",
       "           0.21622,     0.21722,     0.21822,     0.21922,     0.22022,     0.22122,     0.22222,     0.22322,     0.22422,     0.22523,     0.22623,     0.22723,     0.22823,     0.22923,     0.23023,     0.23123,     0.23223,     0.23323,     0.23423,     0.23524,     0.23624,     0.23724,     0.23824,     0.23924,\n",
       "           0.24024,     0.24124,     0.24224,     0.24324,     0.24424,     0.24525,     0.24625,     0.24725,     0.24825,     0.24925,     0.25025,     0.25125,     0.25225,     0.25325,     0.25425,     0.25526,     0.25626,     0.25726,     0.25826,     0.25926,     0.26026,     0.26126,     0.26226,     0.26326,\n",
       "           0.26426,     0.26527,     0.26627,     0.26727,     0.26827,     0.26927,     0.27027,     0.27127,     0.27227,     0.27327,     0.27427,     0.27528,     0.27628,     0.27728,     0.27828,     0.27928,     0.28028,     0.28128,     0.28228,     0.28328,     0.28428,     0.28529,     0.28629,     0.28729,\n",
       "           0.28829,     0.28929,     0.29029,     0.29129,     0.29229,     0.29329,     0.29429,      0.2953,      0.2963,      0.2973,      0.2983,      0.2993,      0.3003,      0.3013,      0.3023,      0.3033,      0.3043,     0.30531,     0.30631,     0.30731,     0.30831,     0.30931,     0.31031,     0.31131,\n",
       "           0.31231,     0.31331,     0.31431,     0.31532,     0.31632,     0.31732,     0.31832,     0.31932,     0.32032,     0.32132,     0.32232,     0.32332,     0.32432,     0.32533,     0.32633,     0.32733,     0.32833,     0.32933,     0.33033,     0.33133,     0.33233,     0.33333,     0.33433,     0.33534,\n",
       "           0.33634,     0.33734,     0.33834,     0.33934,     0.34034,     0.34134,     0.34234,     0.34334,     0.34434,     0.34535,     0.34635,     0.34735,     0.34835,     0.34935,     0.35035,     0.35135,     0.35235,     0.35335,     0.35435,     0.35536,     0.35636,     0.35736,     0.35836,     0.35936,\n",
       "           0.36036,     0.36136,     0.36236,     0.36336,     0.36436,     0.36537,     0.36637,     0.36737,     0.36837,     0.36937,     0.37037,     0.37137,     0.37237,     0.37337,     0.37437,     0.37538,     0.37638,     0.37738,     0.37838,     0.37938,     0.38038,     0.38138,     0.38238,     0.38338,\n",
       "           0.38438,     0.38539,     0.38639,     0.38739,     0.38839,     0.38939,     0.39039,     0.39139,     0.39239,     0.39339,     0.39439,      0.3954,      0.3964,      0.3974,      0.3984,      0.3994,      0.4004,      0.4014,      0.4024,      0.4034,      0.4044,     0.40541,     0.40641,     0.40741,\n",
       "           0.40841,     0.40941,     0.41041,     0.41141,     0.41241,     0.41341,     0.41441,     0.41542,     0.41642,     0.41742,     0.41842,     0.41942,     0.42042,     0.42142,     0.42242,     0.42342,     0.42442,     0.42543,     0.42643,     0.42743,     0.42843,     0.42943,     0.43043,     0.43143,\n",
       "           0.43243,     0.43343,     0.43443,     0.43544,     0.43644,     0.43744,     0.43844,     0.43944,     0.44044,     0.44144,     0.44244,     0.44344,     0.44444,     0.44545,     0.44645,     0.44745,     0.44845,     0.44945,     0.45045,     0.45145,     0.45245,     0.45345,     0.45445,     0.45546,\n",
       "           0.45646,     0.45746,     0.45846,     0.45946,     0.46046,     0.46146,     0.46246,     0.46346,     0.46446,     0.46547,     0.46647,     0.46747,     0.46847,     0.46947,     0.47047,     0.47147,     0.47247,     0.47347,     0.47447,     0.47548,     0.47648,     0.47748,     0.47848,     0.47948,\n",
       "           0.48048,     0.48148,     0.48248,     0.48348,     0.48448,     0.48549,     0.48649,     0.48749,     0.48849,     0.48949,     0.49049,     0.49149,     0.49249,     0.49349,     0.49449,      0.4955,      0.4965,      0.4975,      0.4985,      0.4995,      0.5005,      0.5015,      0.5025,      0.5035,\n",
       "            0.5045,     0.50551,     0.50651,     0.50751,     0.50851,     0.50951,     0.51051,     0.51151,     0.51251,     0.51351,     0.51451,     0.51552,     0.51652,     0.51752,     0.51852,     0.51952,     0.52052,     0.52152,     0.52252,     0.52352,     0.52452,     0.52553,     0.52653,     0.52753,\n",
       "           0.52853,     0.52953,     0.53053,     0.53153,     0.53253,     0.53353,     0.53453,     0.53554,     0.53654,     0.53754,     0.53854,     0.53954,     0.54054,     0.54154,     0.54254,     0.54354,     0.54454,     0.54555,     0.54655,     0.54755,     0.54855,     0.54955,     0.55055,     0.55155,\n",
       "           0.55255,     0.55355,     0.55455,     0.55556,     0.55656,     0.55756,     0.55856,     0.55956,     0.56056,     0.56156,     0.56256,     0.56356,     0.56456,     0.56557,     0.56657,     0.56757,     0.56857,     0.56957,     0.57057,     0.57157,     0.57257,     0.57357,     0.57457,     0.57558,\n",
       "           0.57658,     0.57758,     0.57858,     0.57958,     0.58058,     0.58158,     0.58258,     0.58358,     0.58458,     0.58559,     0.58659,     0.58759,     0.58859,     0.58959,     0.59059,     0.59159,     0.59259,     0.59359,     0.59459,      0.5956,      0.5966,      0.5976,      0.5986,      0.5996,\n",
       "            0.6006,      0.6016,      0.6026,      0.6036,      0.6046,     0.60561,     0.60661,     0.60761,     0.60861,     0.60961,     0.61061,     0.61161,     0.61261,     0.61361,     0.61461,     0.61562,     0.61662,     0.61762,     0.61862,     0.61962,     0.62062,     0.62162,     0.62262,     0.62362,\n",
       "           0.62462,     0.62563,     0.62663,     0.62763,     0.62863,     0.62963,     0.63063,     0.63163,     0.63263,     0.63363,     0.63463,     0.63564,     0.63664,     0.63764,     0.63864,     0.63964,     0.64064,     0.64164,     0.64264,     0.64364,     0.64464,     0.64565,     0.64665,     0.64765,\n",
       "           0.64865,     0.64965,     0.65065,     0.65165,     0.65265,     0.65365,     0.65465,     0.65566,     0.65666,     0.65766,     0.65866,     0.65966,     0.66066,     0.66166,     0.66266,     0.66366,     0.66466,     0.66567,     0.66667,     0.66767,     0.66867,     0.66967,     0.67067,     0.67167,\n",
       "           0.67267,     0.67367,     0.67467,     0.67568,     0.67668,     0.67768,     0.67868,     0.67968,     0.68068,     0.68168,     0.68268,     0.68368,     0.68468,     0.68569,     0.68669,     0.68769,     0.68869,     0.68969,     0.69069,     0.69169,     0.69269,     0.69369,     0.69469,      0.6957,\n",
       "            0.6967,      0.6977,      0.6987,      0.6997,      0.7007,      0.7017,      0.7027,      0.7037,      0.7047,     0.70571,     0.70671,     0.70771,     0.70871,     0.70971,     0.71071,     0.71171,     0.71271,     0.71371,     0.71471,     0.71572,     0.71672,     0.71772,     0.71872,     0.71972,\n",
       "           0.72072,     0.72172,     0.72272,     0.72372,     0.72472,     0.72573,     0.72673,     0.72773,     0.72873,     0.72973,     0.73073,     0.73173,     0.73273,     0.73373,     0.73473,     0.73574,     0.73674,     0.73774,     0.73874,     0.73974,     0.74074,     0.74174,     0.74274,     0.74374,\n",
       "           0.74474,     0.74575,     0.74675,     0.74775,     0.74875,     0.74975,     0.75075,     0.75175,     0.75275,     0.75375,     0.75475,     0.75576,     0.75676,     0.75776,     0.75876,     0.75976,     0.76076,     0.76176,     0.76276,     0.76376,     0.76476,     0.76577,     0.76677,     0.76777,\n",
       "           0.76877,     0.76977,     0.77077,     0.77177,     0.77277,     0.77377,     0.77477,     0.77578,     0.77678,     0.77778,     0.77878,     0.77978,     0.78078,     0.78178,     0.78278,     0.78378,     0.78478,     0.78579,     0.78679,     0.78779,     0.78879,     0.78979,     0.79079,     0.79179,\n",
       "           0.79279,     0.79379,     0.79479,      0.7958,      0.7968,      0.7978,      0.7988,      0.7998,      0.8008,      0.8018,      0.8028,      0.8038,      0.8048,     0.80581,     0.80681,     0.80781,     0.80881,     0.80981,     0.81081,     0.81181,     0.81281,     0.81381,     0.81481,     0.81582,\n",
       "           0.81682,     0.81782,     0.81882,     0.81982,     0.82082,     0.82182,     0.82282,     0.82382,     0.82482,     0.82583,     0.82683,     0.82783,     0.82883,     0.82983,     0.83083,     0.83183,     0.83283,     0.83383,     0.83483,     0.83584,     0.83684,     0.83784,     0.83884,     0.83984,\n",
       "           0.84084,     0.84184,     0.84284,     0.84384,     0.84484,     0.84585,     0.84685,     0.84785,     0.84885,     0.84985,     0.85085,     0.85185,     0.85285,     0.85385,     0.85485,     0.85586,     0.85686,     0.85786,     0.85886,     0.85986,     0.86086,     0.86186,     0.86286,     0.86386,\n",
       "           0.86486,     0.86587,     0.86687,     0.86787,     0.86887,     0.86987,     0.87087,     0.87187,     0.87287,     0.87387,     0.87487,     0.87588,     0.87688,     0.87788,     0.87888,     0.87988,     0.88088,     0.88188,     0.88288,     0.88388,     0.88488,     0.88589,     0.88689,     0.88789,\n",
       "           0.88889,     0.88989,     0.89089,     0.89189,     0.89289,     0.89389,     0.89489,      0.8959,      0.8969,      0.8979,      0.8989,      0.8999,      0.9009,      0.9019,      0.9029,      0.9039,      0.9049,     0.90591,     0.90691,     0.90791,     0.90891,     0.90991,     0.91091,     0.91191,\n",
       "           0.91291,     0.91391,     0.91491,     0.91592,     0.91692,     0.91792,     0.91892,     0.91992,     0.92092,     0.92192,     0.92292,     0.92392,     0.92492,     0.92593,     0.92693,     0.92793,     0.92893,     0.92993,     0.93093,     0.93193,     0.93293,     0.93393,     0.93493,     0.93594,\n",
       "           0.93694,     0.93794,     0.93894,     0.93994,     0.94094,     0.94194,     0.94294,     0.94394,     0.94494,     0.94595,     0.94695,     0.94795,     0.94895,     0.94995,     0.95095,     0.95195,     0.95295,     0.95395,     0.95495,     0.95596,     0.95696,     0.95796,     0.95896,     0.95996,\n",
       "           0.96096,     0.96196,     0.96296,     0.96396,     0.96496,     0.96597,     0.96697,     0.96797,     0.96897,     0.96997,     0.97097,     0.97197,     0.97297,     0.97397,     0.97497,     0.97598,     0.97698,     0.97798,     0.97898,     0.97998,     0.98098,     0.98198,     0.98298,     0.98398,\n",
       "           0.98498,     0.98599,     0.98699,     0.98799,     0.98899,     0.98999,     0.99099,     0.99199,     0.99299,     0.99399,     0.99499,       0.996,       0.997,       0.998,       0.999,           1]), array([[          1,           1,           1,           1,           1,           1,           1,           1,           1,           1,           1,           1,           1,           1,           1,           1,           1,           1,           1,           1,           1,           1,           1,\n",
       "                  1,           1,           1,           1,           1,           1,           1,           1,           1,           1,           1,           1,           1,           1,           1,           1,           1,           1,           1,           1,           1,           1,           1,\n",
       "                  1,           1,           1,           1,           1,           1,           1,           1,           1,           1,           1,           1,           1,           1,           1,           1,           1,           1,           1,           1,           1,           1,           1,\n",
       "                  1,           1,           1,           1,           1,           1,           1,           1,           1,           1,           1,           1,           1,           1,           1,           1,           1,           1,           1,           1,           1,           1,           1,\n",
       "                  1,           1,           1,           1,           1,           1,           1,           1,           1,           1,           1,           1,           1,           1,           1,           1,           1,           1,           1,           1,           1,           1,           1,\n",
       "                  1,           1,           1,           1,           1,           1,           1,           1,           1,           1,           1,           1,           1,           1,           1,           1,           1,           1,           1,           1,           1,           1,           1,\n",
       "                  1,           1,           1,           1,           1,           1,           1,           1,           1,           1,           1,           1,           1,           1,           1,           1,           1,           1,           1,           1,           1,           1,           1,\n",
       "                  1,           1,           1,           1,           1,           1,           1,           1,           1,           1,           1,           1,           1,           1,           1,           1,           1,           1,           1,           1,           1,           1,           1,\n",
       "                  1,           1,           1,           1,           1,           1,           1,           1,           1,           1,           1,           1,           1,           1,           1,           1,           1,           1,           1,           1,           1,           1,           1,\n",
       "                  1,           1,           1,           1,           1,           1,           1,           1,           1,           1,           1,           1,           1,           1,           1,           1,           1,           1,           1,           1,           1,           1,           1,\n",
       "                  1,           1,           1,           1,           1,           1,           1,           1,           1,           1,           1,           1,           1,           1,           1,           1,           1,           1,           1,           1,           1,           1,           1,\n",
       "                  1,           1,           1,           1,           1,           1,           1,           1,           1,           1,           1,           1,           1,           1,           1,           1,           1,           1,           1,           1,           1,           1,           1,\n",
       "                  1,           1,           1,           1,           1,           1,           1,           1,           1,           1,           1,           1,           1,           1,           1,           1,           1,           1,           1,           1,           1,           1,           1,\n",
       "                  1,           1,           1,           1,           1,           1,           1,           1,           1,           1,           1,           1,           1,           1,           1,           1,           1,           1,           1,           1,           1,           1,           1,\n",
       "                  1,           1,           1,           1,           1,           1,           1,           1,           1,           1,           1,           1,           1,           1,           1,           1,           1,           1,           1,           1,           1,           1,           1,\n",
       "                  1,           1,           1,           1,           1,           1,           1,           1,           1,           1,           1,           1,           1,           1,           1,           1,           1,           1,           1,           1,           1,           1,           1,\n",
       "                  1,           1,           1,           1,           1,           1,           1,           1,           1,           1,           1,           1,           1,           1,           1,           1,           1,           1,           1,           1,           1,           1,           1,\n",
       "                  1,           1,           1,           1,           1,           1,           1,           1,           1,           1,           1,           1,           1,           1,           1,           1,           1,           1,           1,           1,           1,           1,           1,\n",
       "                  1,           1,           1,           1,           1,           1,           1,           1,           1,           1,           1,           1,           1,           1,           1,           1,           1,           1,           1,           1,           1,           1,           1,\n",
       "                  1,           1,           1,           1,           1,           1,           1,           1,           1,           1,           1,           1,           1,           1,           1,           1,           1,           1,           1,           1,           1,           1,           1,\n",
       "                  1,           1,           1,           1,           1,           1,           1,           1,           1,           1,           1,           1,           1,           1,           1,           1,           1,           1,           1,           1,           1,           1,           1,\n",
       "                  1,           1,           1,           1,           1,           1,           1,           1,           1,           1,           1,           1,           1,           1,           1,           1,           1,           1,           1,           1,           1,           1,           1,\n",
       "                  1,           1,           1,           1,           1,           1,           1,           1,           1,           1,           1,           1,           1,           1,           1,           1,           1,           1,           1,           1,           1,           1,           1,\n",
       "                  1,           1,           1,           1,           1,           1,           1,           1,           1,           1,           1,           1,           1,           1,           1,           1,           1,           1,           1,           1,           1,           1,           1,\n",
       "                  1,           1,           1,           1,           1,           1,           1,           1,           1,           1,           1,           1,           1,           1,           1,           1,           1,           1,           1,           1,           1,           1,           1,\n",
       "                  1,           1,           1,           1,           1,           1,           1,           1,           1,           1,           1,           1,           1,           1,           1,           1,           1,           1,           1,           1,           1,           1,           1,\n",
       "                  1,           1,           1,           1,           1,           1,           1,           1,           1,           1,           1,           1,           1,           1,           1,           1,           1,           1,           1,           1,           1,           1,           1,\n",
       "                  1,           1,           1,           1,           1,           1,           1,           1,           1,           1,           1,           1,           1,           1,           1,           1,           1,           1,           1,           1,           1,           1,           1,\n",
       "                  1,           1,           1,           1,           1,           1,           1,           1,           1,           1,           1,           1,           1,           1,           1,           1,           1,           1,           1,           1,           1,           1,           1,\n",
       "                  1,           1,           1,           1,           1,           1,           1,           1,           1,           1,           1,           1,           1,           1,           1,           1,           1,           1,           1,           1,           1,           1,           1,\n",
       "                  1,           1,           1,           1,           1,           1,           1,           1,           1,           1,           1,           1,           1,           1,           1,           1,           1,           1,           1,           1,           1,           1,           1,\n",
       "                  1,           1,           1,           1,           1,           1,           1,           1,           1,           1,           1,           1,           1,           1,           1,           1,           1,           1,           1,           1,           1,           1,           1,\n",
       "                  1,           1,           1,           1,           1,           1,           1,           1,           1,           1,           1,           1,           1,           1,           1,           1,           1,           1,           1,           1,           1,           1,           1,\n",
       "                  1,           1,           1,           1,           1,           1,           1,           1,           1,           1,           1,           1,           1,           1,           1,           1,           1,           1,           1,           1,           1,           1,           1,\n",
       "                  1,           1,           1,           1,           1,           1,           1,           1,           1,           1,           1,           1,           1,           1,           1,           1,           1,           1,           1,           1,           1,           1,           1,\n",
       "                  1,           1,           1,           1,           1,           1,           1,           1,           1,           1,           1,           1,           1,           1,           1,           1,           1,           1,           1,           1,           1,           1,           1,\n",
       "                  1,           1,           1,           1,           1,           1,           1,           1,           1,           1,           1,           1,           1,           1,           1,           1,           1,           1,           1,           1,           1,           1,           1,\n",
       "                  1,           1,           1,           1,           1,           1,           1,           1,           1,           1,           1,           1,           1,           1,           1,           1,           1,           1,           1,           1,           1,           1,           1,\n",
       "                  1,           1,           1,           1,           1,           1,           1,           1,           1,           1,           1,           1,           1,           1,           1,           1,           1,           1,           1,           1,           1,           1,           1,\n",
       "                  1,           1,           1,           1,           1,           1,           1,           1,           1,           1,           1,           1,           1,           1,           1,           1,           1,           1,           1,           1,           1,           1,           1,\n",
       "                  1,           1,           1,           1,           1,           1,           1,           1,           1,           1,           1,           1,           1,           1,           1,           1,           1,           1,           1,           1,           1,           1,           1,\n",
       "                  1,           1,           1,           1,           1,           1,           1,           1,           1,           1,           1,           1,           1,           1,           1,           1,           1,           1,           1,           1,           1,           1,           1,\n",
       "                  1,           1,           1,           1,           1,           1,           1,           1,           1,           1,           1,           1,           1,           1,           1,           1,           1,           1,           1,           1,           1,           1,           1,\n",
       "                  1,           1,           1,           1,           1,           1,           1,           1,           1,           1,           0]]), 'Recall', 'Precision'], [array([          0,    0.001001,    0.002002,    0.003003,    0.004004,    0.005005,    0.006006,    0.007007,    0.008008,    0.009009,     0.01001,    0.011011,    0.012012,    0.013013,    0.014014,    0.015015,    0.016016,    0.017017,    0.018018,    0.019019,     0.02002,    0.021021,    0.022022,    0.023023,\n",
       "          0.024024,    0.025025,    0.026026,    0.027027,    0.028028,    0.029029,     0.03003,    0.031031,    0.032032,    0.033033,    0.034034,    0.035035,    0.036036,    0.037037,    0.038038,    0.039039,     0.04004,    0.041041,    0.042042,    0.043043,    0.044044,    0.045045,    0.046046,    0.047047,\n",
       "          0.048048,    0.049049,     0.05005,    0.051051,    0.052052,    0.053053,    0.054054,    0.055055,    0.056056,    0.057057,    0.058058,    0.059059,     0.06006,    0.061061,    0.062062,    0.063063,    0.064064,    0.065065,    0.066066,    0.067067,    0.068068,    0.069069,     0.07007,    0.071071,\n",
       "          0.072072,    0.073073,    0.074074,    0.075075,    0.076076,    0.077077,    0.078078,    0.079079,     0.08008,    0.081081,    0.082082,    0.083083,    0.084084,    0.085085,    0.086086,    0.087087,    0.088088,    0.089089,     0.09009,    0.091091,    0.092092,    0.093093,    0.094094,    0.095095,\n",
       "          0.096096,    0.097097,    0.098098,    0.099099,      0.1001,      0.1011,      0.1021,      0.1031,      0.1041,     0.10511,     0.10611,     0.10711,     0.10811,     0.10911,     0.11011,     0.11111,     0.11211,     0.11311,     0.11411,     0.11512,     0.11612,     0.11712,     0.11812,     0.11912,\n",
       "           0.12012,     0.12112,     0.12212,     0.12312,     0.12412,     0.12513,     0.12613,     0.12713,     0.12813,     0.12913,     0.13013,     0.13113,     0.13213,     0.13313,     0.13413,     0.13514,     0.13614,     0.13714,     0.13814,     0.13914,     0.14014,     0.14114,     0.14214,     0.14314,\n",
       "           0.14414,     0.14515,     0.14615,     0.14715,     0.14815,     0.14915,     0.15015,     0.15115,     0.15215,     0.15315,     0.15415,     0.15516,     0.15616,     0.15716,     0.15816,     0.15916,     0.16016,     0.16116,     0.16216,     0.16316,     0.16416,     0.16517,     0.16617,     0.16717,\n",
       "           0.16817,     0.16917,     0.17017,     0.17117,     0.17217,     0.17317,     0.17417,     0.17518,     0.17618,     0.17718,     0.17818,     0.17918,     0.18018,     0.18118,     0.18218,     0.18318,     0.18418,     0.18519,     0.18619,     0.18719,     0.18819,     0.18919,     0.19019,     0.19119,\n",
       "           0.19219,     0.19319,     0.19419,      0.1952,      0.1962,      0.1972,      0.1982,      0.1992,      0.2002,      0.2012,      0.2022,      0.2032,      0.2042,     0.20521,     0.20621,     0.20721,     0.20821,     0.20921,     0.21021,     0.21121,     0.21221,     0.21321,     0.21421,     0.21522,\n",
       "           0.21622,     0.21722,     0.21822,     0.21922,     0.22022,     0.22122,     0.22222,     0.22322,     0.22422,     0.22523,     0.22623,     0.22723,     0.22823,     0.22923,     0.23023,     0.23123,     0.23223,     0.23323,     0.23423,     0.23524,     0.23624,     0.23724,     0.23824,     0.23924,\n",
       "           0.24024,     0.24124,     0.24224,     0.24324,     0.24424,     0.24525,     0.24625,     0.24725,     0.24825,     0.24925,     0.25025,     0.25125,     0.25225,     0.25325,     0.25425,     0.25526,     0.25626,     0.25726,     0.25826,     0.25926,     0.26026,     0.26126,     0.26226,     0.26326,\n",
       "           0.26426,     0.26527,     0.26627,     0.26727,     0.26827,     0.26927,     0.27027,     0.27127,     0.27227,     0.27327,     0.27427,     0.27528,     0.27628,     0.27728,     0.27828,     0.27928,     0.28028,     0.28128,     0.28228,     0.28328,     0.28428,     0.28529,     0.28629,     0.28729,\n",
       "           0.28829,     0.28929,     0.29029,     0.29129,     0.29229,     0.29329,     0.29429,      0.2953,      0.2963,      0.2973,      0.2983,      0.2993,      0.3003,      0.3013,      0.3023,      0.3033,      0.3043,     0.30531,     0.30631,     0.30731,     0.30831,     0.30931,     0.31031,     0.31131,\n",
       "           0.31231,     0.31331,     0.31431,     0.31532,     0.31632,     0.31732,     0.31832,     0.31932,     0.32032,     0.32132,     0.32232,     0.32332,     0.32432,     0.32533,     0.32633,     0.32733,     0.32833,     0.32933,     0.33033,     0.33133,     0.33233,     0.33333,     0.33433,     0.33534,\n",
       "           0.33634,     0.33734,     0.33834,     0.33934,     0.34034,     0.34134,     0.34234,     0.34334,     0.34434,     0.34535,     0.34635,     0.34735,     0.34835,     0.34935,     0.35035,     0.35135,     0.35235,     0.35335,     0.35435,     0.35536,     0.35636,     0.35736,     0.35836,     0.35936,\n",
       "           0.36036,     0.36136,     0.36236,     0.36336,     0.36436,     0.36537,     0.36637,     0.36737,     0.36837,     0.36937,     0.37037,     0.37137,     0.37237,     0.37337,     0.37437,     0.37538,     0.37638,     0.37738,     0.37838,     0.37938,     0.38038,     0.38138,     0.38238,     0.38338,\n",
       "           0.38438,     0.38539,     0.38639,     0.38739,     0.38839,     0.38939,     0.39039,     0.39139,     0.39239,     0.39339,     0.39439,      0.3954,      0.3964,      0.3974,      0.3984,      0.3994,      0.4004,      0.4014,      0.4024,      0.4034,      0.4044,     0.40541,     0.40641,     0.40741,\n",
       "           0.40841,     0.40941,     0.41041,     0.41141,     0.41241,     0.41341,     0.41441,     0.41542,     0.41642,     0.41742,     0.41842,     0.41942,     0.42042,     0.42142,     0.42242,     0.42342,     0.42442,     0.42543,     0.42643,     0.42743,     0.42843,     0.42943,     0.43043,     0.43143,\n",
       "           0.43243,     0.43343,     0.43443,     0.43544,     0.43644,     0.43744,     0.43844,     0.43944,     0.44044,     0.44144,     0.44244,     0.44344,     0.44444,     0.44545,     0.44645,     0.44745,     0.44845,     0.44945,     0.45045,     0.45145,     0.45245,     0.45345,     0.45445,     0.45546,\n",
       "           0.45646,     0.45746,     0.45846,     0.45946,     0.46046,     0.46146,     0.46246,     0.46346,     0.46446,     0.46547,     0.46647,     0.46747,     0.46847,     0.46947,     0.47047,     0.47147,     0.47247,     0.47347,     0.47447,     0.47548,     0.47648,     0.47748,     0.47848,     0.47948,\n",
       "           0.48048,     0.48148,     0.48248,     0.48348,     0.48448,     0.48549,     0.48649,     0.48749,     0.48849,     0.48949,     0.49049,     0.49149,     0.49249,     0.49349,     0.49449,      0.4955,      0.4965,      0.4975,      0.4985,      0.4995,      0.5005,      0.5015,      0.5025,      0.5035,\n",
       "            0.5045,     0.50551,     0.50651,     0.50751,     0.50851,     0.50951,     0.51051,     0.51151,     0.51251,     0.51351,     0.51451,     0.51552,     0.51652,     0.51752,     0.51852,     0.51952,     0.52052,     0.52152,     0.52252,     0.52352,     0.52452,     0.52553,     0.52653,     0.52753,\n",
       "           0.52853,     0.52953,     0.53053,     0.53153,     0.53253,     0.53353,     0.53453,     0.53554,     0.53654,     0.53754,     0.53854,     0.53954,     0.54054,     0.54154,     0.54254,     0.54354,     0.54454,     0.54555,     0.54655,     0.54755,     0.54855,     0.54955,     0.55055,     0.55155,\n",
       "           0.55255,     0.55355,     0.55455,     0.55556,     0.55656,     0.55756,     0.55856,     0.55956,     0.56056,     0.56156,     0.56256,     0.56356,     0.56456,     0.56557,     0.56657,     0.56757,     0.56857,     0.56957,     0.57057,     0.57157,     0.57257,     0.57357,     0.57457,     0.57558,\n",
       "           0.57658,     0.57758,     0.57858,     0.57958,     0.58058,     0.58158,     0.58258,     0.58358,     0.58458,     0.58559,     0.58659,     0.58759,     0.58859,     0.58959,     0.59059,     0.59159,     0.59259,     0.59359,     0.59459,      0.5956,      0.5966,      0.5976,      0.5986,      0.5996,\n",
       "            0.6006,      0.6016,      0.6026,      0.6036,      0.6046,     0.60561,     0.60661,     0.60761,     0.60861,     0.60961,     0.61061,     0.61161,     0.61261,     0.61361,     0.61461,     0.61562,     0.61662,     0.61762,     0.61862,     0.61962,     0.62062,     0.62162,     0.62262,     0.62362,\n",
       "           0.62462,     0.62563,     0.62663,     0.62763,     0.62863,     0.62963,     0.63063,     0.63163,     0.63263,     0.63363,     0.63463,     0.63564,     0.63664,     0.63764,     0.63864,     0.63964,     0.64064,     0.64164,     0.64264,     0.64364,     0.64464,     0.64565,     0.64665,     0.64765,\n",
       "           0.64865,     0.64965,     0.65065,     0.65165,     0.65265,     0.65365,     0.65465,     0.65566,     0.65666,     0.65766,     0.65866,     0.65966,     0.66066,     0.66166,     0.66266,     0.66366,     0.66466,     0.66567,     0.66667,     0.66767,     0.66867,     0.66967,     0.67067,     0.67167,\n",
       "           0.67267,     0.67367,     0.67467,     0.67568,     0.67668,     0.67768,     0.67868,     0.67968,     0.68068,     0.68168,     0.68268,     0.68368,     0.68468,     0.68569,     0.68669,     0.68769,     0.68869,     0.68969,     0.69069,     0.69169,     0.69269,     0.69369,     0.69469,      0.6957,\n",
       "            0.6967,      0.6977,      0.6987,      0.6997,      0.7007,      0.7017,      0.7027,      0.7037,      0.7047,     0.70571,     0.70671,     0.70771,     0.70871,     0.70971,     0.71071,     0.71171,     0.71271,     0.71371,     0.71471,     0.71572,     0.71672,     0.71772,     0.71872,     0.71972,\n",
       "           0.72072,     0.72172,     0.72272,     0.72372,     0.72472,     0.72573,     0.72673,     0.72773,     0.72873,     0.72973,     0.73073,     0.73173,     0.73273,     0.73373,     0.73473,     0.73574,     0.73674,     0.73774,     0.73874,     0.73974,     0.74074,     0.74174,     0.74274,     0.74374,\n",
       "           0.74474,     0.74575,     0.74675,     0.74775,     0.74875,     0.74975,     0.75075,     0.75175,     0.75275,     0.75375,     0.75475,     0.75576,     0.75676,     0.75776,     0.75876,     0.75976,     0.76076,     0.76176,     0.76276,     0.76376,     0.76476,     0.76577,     0.76677,     0.76777,\n",
       "           0.76877,     0.76977,     0.77077,     0.77177,     0.77277,     0.77377,     0.77477,     0.77578,     0.77678,     0.77778,     0.77878,     0.77978,     0.78078,     0.78178,     0.78278,     0.78378,     0.78478,     0.78579,     0.78679,     0.78779,     0.78879,     0.78979,     0.79079,     0.79179,\n",
       "           0.79279,     0.79379,     0.79479,      0.7958,      0.7968,      0.7978,      0.7988,      0.7998,      0.8008,      0.8018,      0.8028,      0.8038,      0.8048,     0.80581,     0.80681,     0.80781,     0.80881,     0.80981,     0.81081,     0.81181,     0.81281,     0.81381,     0.81481,     0.81582,\n",
       "           0.81682,     0.81782,     0.81882,     0.81982,     0.82082,     0.82182,     0.82282,     0.82382,     0.82482,     0.82583,     0.82683,     0.82783,     0.82883,     0.82983,     0.83083,     0.83183,     0.83283,     0.83383,     0.83483,     0.83584,     0.83684,     0.83784,     0.83884,     0.83984,\n",
       "           0.84084,     0.84184,     0.84284,     0.84384,     0.84484,     0.84585,     0.84685,     0.84785,     0.84885,     0.84985,     0.85085,     0.85185,     0.85285,     0.85385,     0.85485,     0.85586,     0.85686,     0.85786,     0.85886,     0.85986,     0.86086,     0.86186,     0.86286,     0.86386,\n",
       "           0.86486,     0.86587,     0.86687,     0.86787,     0.86887,     0.86987,     0.87087,     0.87187,     0.87287,     0.87387,     0.87487,     0.87588,     0.87688,     0.87788,     0.87888,     0.87988,     0.88088,     0.88188,     0.88288,     0.88388,     0.88488,     0.88589,     0.88689,     0.88789,\n",
       "           0.88889,     0.88989,     0.89089,     0.89189,     0.89289,     0.89389,     0.89489,      0.8959,      0.8969,      0.8979,      0.8989,      0.8999,      0.9009,      0.9019,      0.9029,      0.9039,      0.9049,     0.90591,     0.90691,     0.90791,     0.90891,     0.90991,     0.91091,     0.91191,\n",
       "           0.91291,     0.91391,     0.91491,     0.91592,     0.91692,     0.91792,     0.91892,     0.91992,     0.92092,     0.92192,     0.92292,     0.92392,     0.92492,     0.92593,     0.92693,     0.92793,     0.92893,     0.92993,     0.93093,     0.93193,     0.93293,     0.93393,     0.93493,     0.93594,\n",
       "           0.93694,     0.93794,     0.93894,     0.93994,     0.94094,     0.94194,     0.94294,     0.94394,     0.94494,     0.94595,     0.94695,     0.94795,     0.94895,     0.94995,     0.95095,     0.95195,     0.95295,     0.95395,     0.95495,     0.95596,     0.95696,     0.95796,     0.95896,     0.95996,\n",
       "           0.96096,     0.96196,     0.96296,     0.96396,     0.96496,     0.96597,     0.96697,     0.96797,     0.96897,     0.96997,     0.97097,     0.97197,     0.97297,     0.97397,     0.97497,     0.97598,     0.97698,     0.97798,     0.97898,     0.97998,     0.98098,     0.98198,     0.98298,     0.98398,\n",
       "           0.98498,     0.98599,     0.98699,     0.98799,     0.98899,     0.98999,     0.99099,     0.99199,     0.99299,     0.99399,     0.99499,       0.996,       0.997,       0.998,       0.999,           1]), array([[   0.021924,    0.021989,     0.23904,     0.53996,      0.7777,     0.86766,     0.90598,     0.91834,     0.93809,     0.94959,     0.95848,     0.96676,     0.97558,     0.97844,     0.98127,     0.98408,     0.98687,     0.98766,     0.98768,     0.98769,     0.98771,     0.98772,     0.98774,\n",
       "            0.98775,     0.98776,     0.98778,     0.98779,     0.98781,     0.98782,     0.98784,     0.98785,     0.98786,     0.98788,     0.98789,     0.98791,     0.98792,     0.98794,     0.98795,     0.98796,     0.98798,     0.98799,     0.98801,     0.98802,     0.98804,     0.98805,     0.98806,\n",
       "            0.98808,     0.98809,     0.98811,     0.98812,     0.98814,     0.98815,     0.98816,     0.98818,     0.98819,     0.98821,     0.98822,     0.98824,     0.98825,     0.98826,     0.98828,     0.98829,     0.98831,     0.98832,     0.98834,     0.98835,     0.98836,     0.98838,     0.98839,\n",
       "            0.98841,     0.98842,     0.98844,     0.98845,     0.98846,     0.98848,     0.98849,     0.98851,     0.98852,     0.98854,     0.98855,     0.98856,     0.98858,     0.98859,     0.98861,     0.98862,     0.98864,     0.98865,     0.98866,     0.98868,     0.98869,     0.98871,     0.98872,\n",
       "            0.98874,     0.98875,     0.98876,     0.98878,     0.98879,     0.98881,     0.98882,     0.98883,     0.98885,     0.98886,     0.98888,     0.98889,     0.98891,     0.98892,     0.98893,     0.98895,     0.98896,     0.98898,     0.98899,     0.98901,     0.98902,     0.98903,     0.98905,\n",
       "            0.98906,     0.98908,     0.98909,     0.98911,     0.98912,     0.98913,     0.98915,     0.98916,     0.98918,     0.98919,     0.98921,     0.98922,     0.98923,     0.98925,     0.98926,     0.98928,     0.98929,     0.98931,     0.98932,     0.98933,     0.98935,     0.98936,     0.98938,\n",
       "            0.98939,      0.9894,     0.98942,     0.98943,     0.98945,     0.98946,     0.98948,     0.98949,      0.9895,     0.98952,     0.98953,     0.98955,     0.98956,     0.98958,     0.98959,      0.9896,     0.98962,     0.98963,     0.98965,     0.98966,     0.98968,     0.98969,      0.9897,\n",
       "            0.98972,     0.98973,     0.98975,     0.98976,     0.98977,     0.98979,      0.9898,     0.98982,     0.98983,     0.98985,     0.98986,     0.98987,     0.98989,      0.9899,     0.98992,     0.98993,     0.98995,     0.98996,     0.98997,     0.98999,        0.99,     0.99002,     0.99003,\n",
       "            0.99005,     0.99006,     0.99007,     0.99009,      0.9901,     0.99012,     0.99013,     0.99014,     0.99016,     0.99017,     0.99019,      0.9902,     0.99022,     0.99023,     0.99024,     0.99026,     0.99027,     0.99029,      0.9903,     0.99032,     0.99033,     0.99034,     0.99036,\n",
       "            0.99037,     0.99039,      0.9904,     0.99041,     0.99043,     0.99044,     0.99046,     0.99047,     0.99049,      0.9905,     0.99051,     0.99053,     0.99054,     0.99056,     0.99057,     0.99059,      0.9906,     0.99061,     0.99063,     0.99064,     0.99066,     0.99067,     0.99068,\n",
       "             0.9907,     0.99071,     0.99073,     0.99074,     0.99076,     0.99077,     0.99078,      0.9908,     0.99081,     0.99083,     0.99084,     0.99086,     0.99087,     0.99088,      0.9909,     0.99091,     0.99093,     0.99094,     0.99095,     0.99097,     0.99098,       0.991,     0.99101,\n",
       "            0.99103,     0.99104,     0.99105,     0.99107,     0.99108,      0.9911,     0.99111,     0.99113,     0.99114,     0.99115,     0.99117,     0.99118,      0.9912,     0.99121,     0.99122,     0.99124,     0.99125,     0.99127,     0.99128,      0.9913,     0.99131,     0.99132,     0.99134,\n",
       "            0.99135,     0.99137,     0.99138,     0.99139,     0.99141,     0.99142,     0.99144,     0.99145,     0.99147,     0.99148,     0.99149,     0.99151,     0.99152,     0.99154,     0.99155,     0.99156,     0.99158,     0.99159,     0.99161,     0.99162,     0.99164,     0.99165,     0.99166,\n",
       "            0.99168,     0.99169,     0.99171,     0.99172,     0.99173,     0.99175,     0.99176,     0.99178,     0.99179,     0.99181,     0.99182,     0.99183,     0.99185,     0.99186,     0.99188,     0.99189,      0.9919,     0.99192,     0.99193,     0.99195,     0.99196,     0.99198,     0.99199,\n",
       "              0.992,     0.99202,     0.99203,     0.99205,     0.99206,     0.99207,     0.99209,      0.9921,     0.99212,     0.99213,     0.99215,     0.99216,     0.99217,     0.99219,      0.9922,     0.99222,     0.99223,     0.99224,     0.99226,     0.99227,     0.99229,      0.9923,     0.99232,\n",
       "            0.99233,     0.99234,     0.99236,     0.99237,     0.99239,      0.9924,     0.99241,     0.99243,     0.99244,     0.99246,     0.99247,     0.99249,      0.9925,     0.99251,     0.99253,     0.99254,     0.99256,     0.99257,     0.99258,      0.9926,     0.99261,     0.99263,     0.99264,\n",
       "            0.99266,     0.99267,     0.99268,      0.9927,     0.99271,     0.99273,     0.99274,     0.99275,     0.99277,     0.99278,      0.9928,     0.99281,     0.99283,     0.99284,     0.99285,     0.99287,     0.99288,      0.9929,     0.99291,     0.99292,     0.99294,     0.99295,     0.99297,\n",
       "            0.99298,     0.99299,     0.99301,     0.99302,     0.99304,     0.99305,     0.99307,     0.99308,     0.99309,     0.99311,     0.99312,     0.99314,     0.99315,     0.99316,     0.99318,     0.99319,     0.99321,     0.99322,     0.99324,     0.99325,     0.99326,     0.99328,     0.99329,\n",
       "            0.99331,     0.99332,     0.99333,     0.99335,     0.99336,     0.99338,     0.99339,      0.9934,     0.99342,     0.99343,     0.99345,     0.99346,     0.99348,     0.99349,      0.9935,     0.99352,     0.99353,     0.99355,     0.99356,     0.99357,     0.99359,      0.9936,     0.99362,\n",
       "            0.99363,     0.99364,     0.99366,     0.99367,     0.99369,      0.9937,     0.99372,     0.99373,     0.99374,     0.99376,     0.99377,     0.99379,      0.9938,     0.99381,     0.99383,     0.99384,     0.99386,     0.99387,     0.99388,      0.9939,     0.99391,     0.99393,     0.99394,\n",
       "            0.99396,     0.99397,     0.99398,       0.994,     0.99401,     0.99403,     0.99404,     0.99405,     0.99407,     0.99408,      0.9941,     0.99411,     0.99412,     0.99414,     0.99415,     0.99417,     0.99418,      0.9942,     0.99421,     0.99422,     0.99424,     0.99425,     0.99427,\n",
       "            0.99428,     0.99429,     0.99431,     0.99432,     0.99434,     0.99435,     0.99436,     0.99438,     0.99439,     0.99441,     0.99442,     0.99443,     0.99445,     0.99446,     0.99448,     0.99449,     0.99451,     0.99452,     0.99453,     0.99455,     0.99456,     0.99458,     0.99459,\n",
       "             0.9946,     0.99462,     0.99463,     0.99465,     0.99466,     0.99467,     0.99469,      0.9947,     0.99472,     0.99473,     0.99475,     0.99476,     0.99477,     0.99479,      0.9948,     0.99482,     0.99483,     0.99484,     0.99486,     0.99487,     0.99489,      0.9949,     0.99491,\n",
       "            0.99493,     0.99494,     0.99496,     0.99497,     0.99498,       0.995,     0.99501,     0.99503,     0.99504,     0.99505,     0.99507,     0.99508,      0.9951,     0.99511,     0.99513,     0.99514,     0.99515,     0.99517,     0.99518,      0.9952,     0.99521,     0.99522,     0.99524,\n",
       "            0.99525,     0.99527,     0.99528,     0.99529,     0.99531,     0.99532,     0.99534,     0.99535,     0.99536,     0.99538,     0.99539,     0.99541,     0.99542,     0.99543,     0.99545,     0.99546,     0.99548,     0.99549,     0.99551,     0.99552,     0.99553,     0.99555,     0.99556,\n",
       "            0.99558,     0.99559,      0.9956,     0.99562,     0.99563,     0.99565,     0.99566,     0.99567,     0.99569,      0.9957,     0.99572,     0.99573,     0.99574,     0.99576,     0.99577,     0.99579,      0.9958,     0.99581,     0.99583,     0.99584,     0.99586,     0.99587,     0.99589,\n",
       "             0.9959,     0.99591,     0.99593,     0.99594,     0.99596,     0.99597,     0.99598,       0.996,     0.99601,     0.99603,     0.99604,     0.99605,     0.99607,     0.99608,      0.9961,     0.99611,     0.99612,     0.99614,     0.99615,     0.99617,     0.99618,     0.99619,     0.99621,\n",
       "            0.99622,     0.99624,     0.99625,     0.99626,     0.99628,     0.99629,     0.99631,     0.99632,     0.99633,     0.99635,     0.99636,     0.99638,     0.99639,      0.9964,     0.99642,     0.99643,     0.99645,     0.99646,     0.99648,     0.99649,      0.9965,     0.99652,     0.99653,\n",
       "            0.99655,     0.99656,     0.99657,     0.99659,      0.9966,     0.99662,     0.99663,     0.99664,     0.99666,     0.99667,     0.99669,      0.9967,     0.99671,     0.99673,     0.99674,     0.99676,     0.99677,     0.99678,      0.9968,     0.99681,     0.99683,     0.99684,     0.99685,\n",
       "            0.99687,     0.99688,      0.9969,     0.99691,     0.99692,     0.99694,     0.99695,     0.99697,     0.99698,     0.99699,     0.99701,     0.99702,     0.99704,     0.99705,     0.99706,     0.99708,     0.99709,     0.99711,     0.99712,     0.99713,     0.99715,     0.99716,     0.99718,\n",
       "            0.99719,      0.9972,     0.99722,     0.99723,     0.99725,     0.99726,     0.99727,     0.99729,      0.9973,     0.99732,     0.99733,     0.99734,     0.99736,     0.99737,     0.99739,      0.9974,     0.99742,     0.99743,     0.99744,     0.99746,     0.99747,     0.99749,      0.9975,\n",
       "            0.99751,     0.99753,     0.99754,     0.99756,     0.99757,     0.99758,      0.9976,     0.99761,     0.99763,     0.99764,     0.99765,     0.99767,     0.99768,      0.9977,     0.99771,     0.99772,     0.99774,     0.99775,     0.99777,     0.99778,     0.99779,     0.99781,     0.99782,\n",
       "            0.99784,     0.99785,     0.99786,     0.99788,     0.99789,     0.99791,     0.99792,     0.99793,     0.99795,     0.99796,     0.99798,     0.99799,       0.998,     0.99802,     0.99803,     0.99805,     0.99806,     0.99807,     0.99809,      0.9981,     0.99812,     0.99813,     0.99814,\n",
       "            0.99816,     0.99817,     0.99819,      0.9982,     0.99821,     0.99823,     0.99824,     0.99826,     0.99827,     0.99828,      0.9983,     0.99831,     0.99833,     0.99834,     0.99835,     0.99837,     0.99838,      0.9984,     0.99841,     0.99842,     0.99844,     0.99845,     0.99847,\n",
       "            0.99848,     0.99849,     0.99851,     0.99852,     0.99853,     0.99855,     0.99856,     0.99858,     0.99859,      0.9986,     0.99862,     0.99863,     0.99865,     0.99866,     0.99867,     0.99869,      0.9987,     0.99872,     0.99873,     0.99874,     0.99876,     0.99877,     0.99879,\n",
       "             0.9988,     0.99881,     0.99883,     0.99884,     0.99886,     0.99887,     0.99888,      0.9989,     0.99891,     0.99893,     0.99894,     0.99895,     0.99897,     0.99898,       0.999,     0.99901,     0.99902,     0.99904,     0.99905,     0.99907,     0.99908,     0.99909,     0.99911,\n",
       "            0.99912,     0.99914,     0.99915,     0.99916,     0.99918,     0.99919,     0.99921,     0.99922,     0.99923,     0.99925,     0.99926,     0.99928,     0.99929,      0.9993,     0.99932,     0.99933,     0.99935,     0.99936,     0.99937,     0.99939,      0.9994,     0.99942,     0.99943,\n",
       "            0.99944,     0.99946,     0.99947,     0.99948,      0.9995,     0.99951,     0.99953,     0.99954,     0.99955,     0.99957,     0.99958,      0.9996,     0.99961,     0.99962,     0.99964,     0.99965,     0.99967,     0.99968,     0.99969,     0.99971,     0.99972,     0.99974,     0.99975,\n",
       "            0.99976,     0.99978,     0.99979,     0.99981,     0.99982,     0.99983,     0.99985,     0.99986,     0.99988,     0.99989,      0.9999,     0.99992,     0.99993,     0.99995,     0.99996,     0.99997,     0.99999,     0.99963,     0.99502,     0.99037,     0.97528,     0.97371,     0.97303,\n",
       "            0.97236,     0.97169,     0.97101,     0.97034,     0.96966,     0.96899,     0.96831,     0.96763,     0.96695,     0.96627,     0.96559,      0.9649,     0.96422,     0.96354,     0.96285,     0.96216,     0.96148,     0.95931,     0.95448,     0.94962,     0.94039,     0.93252,     0.93074,\n",
       "            0.92896,     0.92718,     0.92539,     0.92359,     0.92179,     0.91998,     0.91055,      0.8875,     0.87775,     0.87171,     0.86889,     0.86605,     0.86319,     0.86033,     0.85744,      0.8217,     0.80469,     0.79904,     0.79332,     0.77117,     0.75719,     0.70958,     0.68708,\n",
       "             0.6815,     0.67587,     0.67019,     0.62704,      0.5898,     0.53851,     0.51368,     0.50388,     0.49395,     0.43223,     0.38918,     0.36293,     0.34999,     0.33684,      0.3295,     0.32425,     0.31898,     0.31367,     0.30833,     0.30295,     0.29579,     0.25576,     0.19773,\n",
       "            0.16386,     0.10534,    0.080934,     0.06407,           0,           0,           0,           0,           0,           0,           0,           0,           0,           0,           0,           0,           0,           0,           0,           0,           0,           0,           0,\n",
       "                  0,           0,           0,           0,           0,           0,           0,           0,           0,           0,           0]]), 'Confidence', 'F1'], [array([          0,    0.001001,    0.002002,    0.003003,    0.004004,    0.005005,    0.006006,    0.007007,    0.008008,    0.009009,     0.01001,    0.011011,    0.012012,    0.013013,    0.014014,    0.015015,    0.016016,    0.017017,    0.018018,    0.019019,     0.02002,    0.021021,    0.022022,    0.023023,\n",
       "          0.024024,    0.025025,    0.026026,    0.027027,    0.028028,    0.029029,     0.03003,    0.031031,    0.032032,    0.033033,    0.034034,    0.035035,    0.036036,    0.037037,    0.038038,    0.039039,     0.04004,    0.041041,    0.042042,    0.043043,    0.044044,    0.045045,    0.046046,    0.047047,\n",
       "          0.048048,    0.049049,     0.05005,    0.051051,    0.052052,    0.053053,    0.054054,    0.055055,    0.056056,    0.057057,    0.058058,    0.059059,     0.06006,    0.061061,    0.062062,    0.063063,    0.064064,    0.065065,    0.066066,    0.067067,    0.068068,    0.069069,     0.07007,    0.071071,\n",
       "          0.072072,    0.073073,    0.074074,    0.075075,    0.076076,    0.077077,    0.078078,    0.079079,     0.08008,    0.081081,    0.082082,    0.083083,    0.084084,    0.085085,    0.086086,    0.087087,    0.088088,    0.089089,     0.09009,    0.091091,    0.092092,    0.093093,    0.094094,    0.095095,\n",
       "          0.096096,    0.097097,    0.098098,    0.099099,      0.1001,      0.1011,      0.1021,      0.1031,      0.1041,     0.10511,     0.10611,     0.10711,     0.10811,     0.10911,     0.11011,     0.11111,     0.11211,     0.11311,     0.11411,     0.11512,     0.11612,     0.11712,     0.11812,     0.11912,\n",
       "           0.12012,     0.12112,     0.12212,     0.12312,     0.12412,     0.12513,     0.12613,     0.12713,     0.12813,     0.12913,     0.13013,     0.13113,     0.13213,     0.13313,     0.13413,     0.13514,     0.13614,     0.13714,     0.13814,     0.13914,     0.14014,     0.14114,     0.14214,     0.14314,\n",
       "           0.14414,     0.14515,     0.14615,     0.14715,     0.14815,     0.14915,     0.15015,     0.15115,     0.15215,     0.15315,     0.15415,     0.15516,     0.15616,     0.15716,     0.15816,     0.15916,     0.16016,     0.16116,     0.16216,     0.16316,     0.16416,     0.16517,     0.16617,     0.16717,\n",
       "           0.16817,     0.16917,     0.17017,     0.17117,     0.17217,     0.17317,     0.17417,     0.17518,     0.17618,     0.17718,     0.17818,     0.17918,     0.18018,     0.18118,     0.18218,     0.18318,     0.18418,     0.18519,     0.18619,     0.18719,     0.18819,     0.18919,     0.19019,     0.19119,\n",
       "           0.19219,     0.19319,     0.19419,      0.1952,      0.1962,      0.1972,      0.1982,      0.1992,      0.2002,      0.2012,      0.2022,      0.2032,      0.2042,     0.20521,     0.20621,     0.20721,     0.20821,     0.20921,     0.21021,     0.21121,     0.21221,     0.21321,     0.21421,     0.21522,\n",
       "           0.21622,     0.21722,     0.21822,     0.21922,     0.22022,     0.22122,     0.22222,     0.22322,     0.22422,     0.22523,     0.22623,     0.22723,     0.22823,     0.22923,     0.23023,     0.23123,     0.23223,     0.23323,     0.23423,     0.23524,     0.23624,     0.23724,     0.23824,     0.23924,\n",
       "           0.24024,     0.24124,     0.24224,     0.24324,     0.24424,     0.24525,     0.24625,     0.24725,     0.24825,     0.24925,     0.25025,     0.25125,     0.25225,     0.25325,     0.25425,     0.25526,     0.25626,     0.25726,     0.25826,     0.25926,     0.26026,     0.26126,     0.26226,     0.26326,\n",
       "           0.26426,     0.26527,     0.26627,     0.26727,     0.26827,     0.26927,     0.27027,     0.27127,     0.27227,     0.27327,     0.27427,     0.27528,     0.27628,     0.27728,     0.27828,     0.27928,     0.28028,     0.28128,     0.28228,     0.28328,     0.28428,     0.28529,     0.28629,     0.28729,\n",
       "           0.28829,     0.28929,     0.29029,     0.29129,     0.29229,     0.29329,     0.29429,      0.2953,      0.2963,      0.2973,      0.2983,      0.2993,      0.3003,      0.3013,      0.3023,      0.3033,      0.3043,     0.30531,     0.30631,     0.30731,     0.30831,     0.30931,     0.31031,     0.31131,\n",
       "           0.31231,     0.31331,     0.31431,     0.31532,     0.31632,     0.31732,     0.31832,     0.31932,     0.32032,     0.32132,     0.32232,     0.32332,     0.32432,     0.32533,     0.32633,     0.32733,     0.32833,     0.32933,     0.33033,     0.33133,     0.33233,     0.33333,     0.33433,     0.33534,\n",
       "           0.33634,     0.33734,     0.33834,     0.33934,     0.34034,     0.34134,     0.34234,     0.34334,     0.34434,     0.34535,     0.34635,     0.34735,     0.34835,     0.34935,     0.35035,     0.35135,     0.35235,     0.35335,     0.35435,     0.35536,     0.35636,     0.35736,     0.35836,     0.35936,\n",
       "           0.36036,     0.36136,     0.36236,     0.36336,     0.36436,     0.36537,     0.36637,     0.36737,     0.36837,     0.36937,     0.37037,     0.37137,     0.37237,     0.37337,     0.37437,     0.37538,     0.37638,     0.37738,     0.37838,     0.37938,     0.38038,     0.38138,     0.38238,     0.38338,\n",
       "           0.38438,     0.38539,     0.38639,     0.38739,     0.38839,     0.38939,     0.39039,     0.39139,     0.39239,     0.39339,     0.39439,      0.3954,      0.3964,      0.3974,      0.3984,      0.3994,      0.4004,      0.4014,      0.4024,      0.4034,      0.4044,     0.40541,     0.40641,     0.40741,\n",
       "           0.40841,     0.40941,     0.41041,     0.41141,     0.41241,     0.41341,     0.41441,     0.41542,     0.41642,     0.41742,     0.41842,     0.41942,     0.42042,     0.42142,     0.42242,     0.42342,     0.42442,     0.42543,     0.42643,     0.42743,     0.42843,     0.42943,     0.43043,     0.43143,\n",
       "           0.43243,     0.43343,     0.43443,     0.43544,     0.43644,     0.43744,     0.43844,     0.43944,     0.44044,     0.44144,     0.44244,     0.44344,     0.44444,     0.44545,     0.44645,     0.44745,     0.44845,     0.44945,     0.45045,     0.45145,     0.45245,     0.45345,     0.45445,     0.45546,\n",
       "           0.45646,     0.45746,     0.45846,     0.45946,     0.46046,     0.46146,     0.46246,     0.46346,     0.46446,     0.46547,     0.46647,     0.46747,     0.46847,     0.46947,     0.47047,     0.47147,     0.47247,     0.47347,     0.47447,     0.47548,     0.47648,     0.47748,     0.47848,     0.47948,\n",
       "           0.48048,     0.48148,     0.48248,     0.48348,     0.48448,     0.48549,     0.48649,     0.48749,     0.48849,     0.48949,     0.49049,     0.49149,     0.49249,     0.49349,     0.49449,      0.4955,      0.4965,      0.4975,      0.4985,      0.4995,      0.5005,      0.5015,      0.5025,      0.5035,\n",
       "            0.5045,     0.50551,     0.50651,     0.50751,     0.50851,     0.50951,     0.51051,     0.51151,     0.51251,     0.51351,     0.51451,     0.51552,     0.51652,     0.51752,     0.51852,     0.51952,     0.52052,     0.52152,     0.52252,     0.52352,     0.52452,     0.52553,     0.52653,     0.52753,\n",
       "           0.52853,     0.52953,     0.53053,     0.53153,     0.53253,     0.53353,     0.53453,     0.53554,     0.53654,     0.53754,     0.53854,     0.53954,     0.54054,     0.54154,     0.54254,     0.54354,     0.54454,     0.54555,     0.54655,     0.54755,     0.54855,     0.54955,     0.55055,     0.55155,\n",
       "           0.55255,     0.55355,     0.55455,     0.55556,     0.55656,     0.55756,     0.55856,     0.55956,     0.56056,     0.56156,     0.56256,     0.56356,     0.56456,     0.56557,     0.56657,     0.56757,     0.56857,     0.56957,     0.57057,     0.57157,     0.57257,     0.57357,     0.57457,     0.57558,\n",
       "           0.57658,     0.57758,     0.57858,     0.57958,     0.58058,     0.58158,     0.58258,     0.58358,     0.58458,     0.58559,     0.58659,     0.58759,     0.58859,     0.58959,     0.59059,     0.59159,     0.59259,     0.59359,     0.59459,      0.5956,      0.5966,      0.5976,      0.5986,      0.5996,\n",
       "            0.6006,      0.6016,      0.6026,      0.6036,      0.6046,     0.60561,     0.60661,     0.60761,     0.60861,     0.60961,     0.61061,     0.61161,     0.61261,     0.61361,     0.61461,     0.61562,     0.61662,     0.61762,     0.61862,     0.61962,     0.62062,     0.62162,     0.62262,     0.62362,\n",
       "           0.62462,     0.62563,     0.62663,     0.62763,     0.62863,     0.62963,     0.63063,     0.63163,     0.63263,     0.63363,     0.63463,     0.63564,     0.63664,     0.63764,     0.63864,     0.63964,     0.64064,     0.64164,     0.64264,     0.64364,     0.64464,     0.64565,     0.64665,     0.64765,\n",
       "           0.64865,     0.64965,     0.65065,     0.65165,     0.65265,     0.65365,     0.65465,     0.65566,     0.65666,     0.65766,     0.65866,     0.65966,     0.66066,     0.66166,     0.66266,     0.66366,     0.66466,     0.66567,     0.66667,     0.66767,     0.66867,     0.66967,     0.67067,     0.67167,\n",
       "           0.67267,     0.67367,     0.67467,     0.67568,     0.67668,     0.67768,     0.67868,     0.67968,     0.68068,     0.68168,     0.68268,     0.68368,     0.68468,     0.68569,     0.68669,     0.68769,     0.68869,     0.68969,     0.69069,     0.69169,     0.69269,     0.69369,     0.69469,      0.6957,\n",
       "            0.6967,      0.6977,      0.6987,      0.6997,      0.7007,      0.7017,      0.7027,      0.7037,      0.7047,     0.70571,     0.70671,     0.70771,     0.70871,     0.70971,     0.71071,     0.71171,     0.71271,     0.71371,     0.71471,     0.71572,     0.71672,     0.71772,     0.71872,     0.71972,\n",
       "           0.72072,     0.72172,     0.72272,     0.72372,     0.72472,     0.72573,     0.72673,     0.72773,     0.72873,     0.72973,     0.73073,     0.73173,     0.73273,     0.73373,     0.73473,     0.73574,     0.73674,     0.73774,     0.73874,     0.73974,     0.74074,     0.74174,     0.74274,     0.74374,\n",
       "           0.74474,     0.74575,     0.74675,     0.74775,     0.74875,     0.74975,     0.75075,     0.75175,     0.75275,     0.75375,     0.75475,     0.75576,     0.75676,     0.75776,     0.75876,     0.75976,     0.76076,     0.76176,     0.76276,     0.76376,     0.76476,     0.76577,     0.76677,     0.76777,\n",
       "           0.76877,     0.76977,     0.77077,     0.77177,     0.77277,     0.77377,     0.77477,     0.77578,     0.77678,     0.77778,     0.77878,     0.77978,     0.78078,     0.78178,     0.78278,     0.78378,     0.78478,     0.78579,     0.78679,     0.78779,     0.78879,     0.78979,     0.79079,     0.79179,\n",
       "           0.79279,     0.79379,     0.79479,      0.7958,      0.7968,      0.7978,      0.7988,      0.7998,      0.8008,      0.8018,      0.8028,      0.8038,      0.8048,     0.80581,     0.80681,     0.80781,     0.80881,     0.80981,     0.81081,     0.81181,     0.81281,     0.81381,     0.81481,     0.81582,\n",
       "           0.81682,     0.81782,     0.81882,     0.81982,     0.82082,     0.82182,     0.82282,     0.82382,     0.82482,     0.82583,     0.82683,     0.82783,     0.82883,     0.82983,     0.83083,     0.83183,     0.83283,     0.83383,     0.83483,     0.83584,     0.83684,     0.83784,     0.83884,     0.83984,\n",
       "           0.84084,     0.84184,     0.84284,     0.84384,     0.84484,     0.84585,     0.84685,     0.84785,     0.84885,     0.84985,     0.85085,     0.85185,     0.85285,     0.85385,     0.85485,     0.85586,     0.85686,     0.85786,     0.85886,     0.85986,     0.86086,     0.86186,     0.86286,     0.86386,\n",
       "           0.86486,     0.86587,     0.86687,     0.86787,     0.86887,     0.86987,     0.87087,     0.87187,     0.87287,     0.87387,     0.87487,     0.87588,     0.87688,     0.87788,     0.87888,     0.87988,     0.88088,     0.88188,     0.88288,     0.88388,     0.88488,     0.88589,     0.88689,     0.88789,\n",
       "           0.88889,     0.88989,     0.89089,     0.89189,     0.89289,     0.89389,     0.89489,      0.8959,      0.8969,      0.8979,      0.8989,      0.8999,      0.9009,      0.9019,      0.9029,      0.9039,      0.9049,     0.90591,     0.90691,     0.90791,     0.90891,     0.90991,     0.91091,     0.91191,\n",
       "           0.91291,     0.91391,     0.91491,     0.91592,     0.91692,     0.91792,     0.91892,     0.91992,     0.92092,     0.92192,     0.92292,     0.92392,     0.92492,     0.92593,     0.92693,     0.92793,     0.92893,     0.92993,     0.93093,     0.93193,     0.93293,     0.93393,     0.93493,     0.93594,\n",
       "           0.93694,     0.93794,     0.93894,     0.93994,     0.94094,     0.94194,     0.94294,     0.94394,     0.94494,     0.94595,     0.94695,     0.94795,     0.94895,     0.94995,     0.95095,     0.95195,     0.95295,     0.95395,     0.95495,     0.95596,     0.95696,     0.95796,     0.95896,     0.95996,\n",
       "           0.96096,     0.96196,     0.96296,     0.96396,     0.96496,     0.96597,     0.96697,     0.96797,     0.96897,     0.96997,     0.97097,     0.97197,     0.97297,     0.97397,     0.97497,     0.97598,     0.97698,     0.97798,     0.97898,     0.97998,     0.98098,     0.98198,     0.98298,     0.98398,\n",
       "           0.98498,     0.98599,     0.98699,     0.98799,     0.98899,     0.98999,     0.99099,     0.99199,     0.99299,     0.99399,     0.99499,       0.996,       0.997,       0.998,       0.999,           1]), array([[   0.011083,    0.011117,     0.13574,     0.36983,     0.63626,     0.76625,     0.82811,     0.84901,     0.88341,     0.90401,     0.92028,     0.93565,     0.95232,     0.95779,     0.96322,     0.96866,     0.97409,     0.97563,     0.97566,     0.97569,     0.97571,     0.97574,     0.97577,\n",
       "             0.9758,     0.97583,     0.97585,     0.97588,     0.97591,     0.97594,     0.97596,     0.97599,     0.97602,     0.97605,     0.97608,      0.9761,     0.97613,     0.97616,     0.97619,     0.97622,     0.97624,     0.97627,      0.9763,     0.97633,     0.97635,     0.97638,     0.97641,\n",
       "            0.97644,     0.97647,     0.97649,     0.97652,     0.97655,     0.97658,     0.97661,     0.97663,     0.97666,     0.97669,     0.97672,     0.97675,     0.97677,      0.9768,     0.97683,     0.97686,     0.97688,     0.97691,     0.97694,     0.97697,       0.977,     0.97702,     0.97705,\n",
       "            0.97708,     0.97711,     0.97714,     0.97716,     0.97719,     0.97722,     0.97725,     0.97728,      0.9773,     0.97733,     0.97736,     0.97739,     0.97741,     0.97744,     0.97747,      0.9775,     0.97753,     0.97755,     0.97758,     0.97761,     0.97764,     0.97767,     0.97769,\n",
       "            0.97772,     0.97775,     0.97778,      0.9778,     0.97783,     0.97786,     0.97789,     0.97792,     0.97794,     0.97797,       0.978,     0.97803,     0.97806,     0.97808,     0.97811,     0.97814,     0.97817,      0.9782,     0.97822,     0.97825,     0.97828,     0.97831,     0.97833,\n",
       "            0.97836,     0.97839,     0.97842,     0.97845,     0.97847,      0.9785,     0.97853,     0.97856,     0.97859,     0.97861,     0.97864,     0.97867,      0.9787,     0.97873,     0.97875,     0.97878,     0.97881,     0.97884,     0.97886,     0.97889,     0.97892,     0.97895,     0.97898,\n",
       "              0.979,     0.97903,     0.97906,     0.97909,     0.97912,     0.97914,     0.97917,      0.9792,     0.97923,     0.97926,     0.97928,     0.97931,     0.97934,     0.97937,     0.97939,     0.97942,     0.97945,     0.97948,     0.97951,     0.97953,     0.97956,     0.97959,     0.97962,\n",
       "            0.97965,     0.97967,      0.9797,     0.97973,     0.97976,     0.97978,     0.97981,     0.97984,     0.97987,      0.9799,     0.97992,     0.97995,     0.97998,     0.98001,     0.98004,     0.98006,     0.98009,     0.98012,     0.98015,     0.98018,      0.9802,     0.98023,     0.98026,\n",
       "            0.98029,     0.98031,     0.98034,     0.98037,      0.9804,     0.98043,     0.98045,     0.98048,     0.98051,     0.98054,     0.98057,     0.98059,     0.98062,     0.98065,     0.98068,     0.98071,     0.98073,     0.98076,     0.98079,     0.98082,     0.98084,     0.98087,      0.9809,\n",
       "            0.98093,     0.98096,     0.98098,     0.98101,     0.98104,     0.98107,      0.9811,     0.98112,     0.98115,     0.98118,     0.98121,     0.98123,     0.98126,     0.98129,     0.98132,     0.98135,     0.98137,      0.9814,     0.98143,     0.98146,     0.98149,     0.98151,     0.98154,\n",
       "            0.98157,      0.9816,     0.98163,     0.98165,     0.98168,     0.98171,     0.98174,     0.98176,     0.98179,     0.98182,     0.98185,     0.98188,      0.9819,     0.98193,     0.98196,     0.98199,     0.98202,     0.98204,     0.98207,      0.9821,     0.98213,     0.98216,     0.98218,\n",
       "            0.98221,     0.98224,     0.98227,     0.98229,     0.98232,     0.98235,     0.98238,     0.98241,     0.98243,     0.98246,     0.98249,     0.98252,     0.98255,     0.98257,      0.9826,     0.98263,     0.98266,     0.98269,     0.98271,     0.98274,     0.98277,      0.9828,     0.98282,\n",
       "            0.98285,     0.98288,     0.98291,     0.98294,     0.98296,     0.98299,     0.98302,     0.98305,     0.98308,      0.9831,     0.98313,     0.98316,     0.98319,     0.98321,     0.98324,     0.98327,      0.9833,     0.98333,     0.98335,     0.98338,     0.98341,     0.98344,     0.98347,\n",
       "            0.98349,     0.98352,     0.98355,     0.98358,     0.98361,     0.98363,     0.98366,     0.98369,     0.98372,     0.98374,     0.98377,      0.9838,     0.98383,     0.98386,     0.98388,     0.98391,     0.98394,     0.98397,       0.984,     0.98402,     0.98405,     0.98408,     0.98411,\n",
       "            0.98414,     0.98416,     0.98419,     0.98422,     0.98425,     0.98427,      0.9843,     0.98433,     0.98436,     0.98439,     0.98441,     0.98444,     0.98447,      0.9845,     0.98453,     0.98455,     0.98458,     0.98461,     0.98464,     0.98466,     0.98469,     0.98472,     0.98475,\n",
       "            0.98478,      0.9848,     0.98483,     0.98486,     0.98489,     0.98492,     0.98494,     0.98497,       0.985,     0.98503,     0.98506,     0.98508,     0.98511,     0.98514,     0.98517,     0.98519,     0.98522,     0.98525,     0.98528,     0.98531,     0.98533,     0.98536,     0.98539,\n",
       "            0.98542,     0.98545,     0.98547,      0.9855,     0.98553,     0.98556,     0.98559,     0.98561,     0.98564,     0.98567,      0.9857,     0.98572,     0.98575,     0.98578,     0.98581,     0.98584,     0.98586,     0.98589,     0.98592,     0.98595,     0.98598,       0.986,     0.98603,\n",
       "            0.98606,     0.98609,     0.98611,     0.98614,     0.98617,      0.9862,     0.98623,     0.98625,     0.98628,     0.98631,     0.98634,     0.98637,     0.98639,     0.98642,     0.98645,     0.98648,     0.98651,     0.98653,     0.98656,     0.98659,     0.98662,     0.98664,     0.98667,\n",
       "             0.9867,     0.98673,     0.98676,     0.98678,     0.98681,     0.98684,     0.98687,      0.9869,     0.98692,     0.98695,     0.98698,     0.98701,     0.98704,     0.98706,     0.98709,     0.98712,     0.98715,     0.98717,      0.9872,     0.98723,     0.98726,     0.98729,     0.98731,\n",
       "            0.98734,     0.98737,      0.9874,     0.98743,     0.98745,     0.98748,     0.98751,     0.98754,     0.98757,     0.98759,     0.98762,     0.98765,     0.98768,      0.9877,     0.98773,     0.98776,     0.98779,     0.98782,     0.98784,     0.98787,      0.9879,     0.98793,     0.98796,\n",
       "            0.98798,     0.98801,     0.98804,     0.98807,     0.98809,     0.98812,     0.98815,     0.98818,     0.98821,     0.98823,     0.98826,     0.98829,     0.98832,     0.98835,     0.98837,      0.9884,     0.98843,     0.98846,     0.98849,     0.98851,     0.98854,     0.98857,      0.9886,\n",
       "            0.98862,     0.98865,     0.98868,     0.98871,     0.98874,     0.98876,     0.98879,     0.98882,     0.98885,     0.98888,      0.9889,     0.98893,     0.98896,     0.98899,     0.98902,     0.98904,     0.98907,      0.9891,     0.98913,     0.98915,     0.98918,     0.98921,     0.98924,\n",
       "            0.98927,     0.98929,     0.98932,     0.98935,     0.98938,     0.98941,     0.98943,     0.98946,     0.98949,     0.98952,     0.98954,     0.98957,      0.9896,     0.98963,     0.98966,     0.98968,     0.98971,     0.98974,     0.98977,      0.9898,     0.98982,     0.98985,     0.98988,\n",
       "            0.98991,     0.98994,     0.98996,     0.98999,     0.99002,     0.99005,     0.99007,      0.9901,     0.99013,     0.99016,     0.99019,     0.99021,     0.99024,     0.99027,      0.9903,     0.99033,     0.99035,     0.99038,     0.99041,     0.99044,     0.99047,     0.99049,     0.99052,\n",
       "            0.99055,     0.99058,      0.9906,     0.99063,     0.99066,     0.99069,     0.99072,     0.99074,     0.99077,      0.9908,     0.99083,     0.99086,     0.99088,     0.99091,     0.99094,     0.99097,       0.991,     0.99102,     0.99105,     0.99108,     0.99111,     0.99113,     0.99116,\n",
       "            0.99119,     0.99122,     0.99125,     0.99127,      0.9913,     0.99133,     0.99136,     0.99139,     0.99141,     0.99144,     0.99147,      0.9915,     0.99152,     0.99155,     0.99158,     0.99161,     0.99164,     0.99166,     0.99169,     0.99172,     0.99175,     0.99178,      0.9918,\n",
       "            0.99183,     0.99186,     0.99189,     0.99192,     0.99194,     0.99197,       0.992,     0.99203,     0.99205,     0.99208,     0.99211,     0.99214,     0.99217,     0.99219,     0.99222,     0.99225,     0.99228,     0.99231,     0.99233,     0.99236,     0.99239,     0.99242,     0.99245,\n",
       "            0.99247,      0.9925,     0.99253,     0.99256,     0.99258,     0.99261,     0.99264,     0.99267,      0.9927,     0.99272,     0.99275,     0.99278,     0.99281,     0.99284,     0.99286,     0.99289,     0.99292,     0.99295,     0.99297,       0.993,     0.99303,     0.99306,     0.99309,\n",
       "            0.99311,     0.99314,     0.99317,      0.9932,     0.99323,     0.99325,     0.99328,     0.99331,     0.99334,     0.99337,     0.99339,     0.99342,     0.99345,     0.99348,      0.9935,     0.99353,     0.99356,     0.99359,     0.99362,     0.99364,     0.99367,      0.9937,     0.99373,\n",
       "            0.99376,     0.99378,     0.99381,     0.99384,     0.99387,      0.9939,     0.99392,     0.99395,     0.99398,     0.99401,     0.99403,     0.99406,     0.99409,     0.99412,     0.99415,     0.99417,      0.9942,     0.99423,     0.99426,     0.99429,     0.99431,     0.99434,     0.99437,\n",
       "             0.9944,     0.99443,     0.99445,     0.99448,     0.99451,     0.99454,     0.99456,     0.99459,     0.99462,     0.99465,     0.99468,      0.9947,     0.99473,     0.99476,     0.99479,     0.99482,     0.99484,     0.99487,      0.9949,     0.99493,     0.99495,     0.99498,     0.99501,\n",
       "            0.99504,     0.99507,     0.99509,     0.99512,     0.99515,     0.99518,     0.99521,     0.99523,     0.99526,     0.99529,     0.99532,     0.99535,     0.99537,      0.9954,     0.99543,     0.99546,     0.99548,     0.99551,     0.99554,     0.99557,      0.9956,     0.99562,     0.99565,\n",
       "            0.99568,     0.99571,     0.99574,     0.99576,     0.99579,     0.99582,     0.99585,     0.99588,      0.9959,     0.99593,     0.99596,     0.99599,     0.99601,     0.99604,     0.99607,      0.9961,     0.99613,     0.99615,     0.99618,     0.99621,     0.99624,     0.99627,     0.99629,\n",
       "            0.99632,     0.99635,     0.99638,      0.9964,     0.99643,     0.99646,     0.99649,     0.99652,     0.99654,     0.99657,      0.9966,     0.99663,     0.99666,     0.99668,     0.99671,     0.99674,     0.99677,      0.9968,     0.99682,     0.99685,     0.99688,     0.99691,     0.99693,\n",
       "            0.99696,     0.99699,     0.99702,     0.99705,     0.99707,      0.9971,     0.99713,     0.99716,     0.99719,     0.99721,     0.99724,     0.99727,      0.9973,     0.99733,     0.99735,     0.99738,     0.99741,     0.99744,     0.99746,     0.99749,     0.99752,     0.99755,     0.99758,\n",
       "             0.9976,     0.99763,     0.99766,     0.99769,     0.99772,     0.99774,     0.99777,      0.9978,     0.99783,     0.99786,     0.99788,     0.99791,     0.99794,     0.99797,     0.99799,     0.99802,     0.99805,     0.99808,     0.99811,     0.99813,     0.99816,     0.99819,     0.99822,\n",
       "            0.99825,     0.99827,      0.9983,     0.99833,     0.99836,     0.99838,     0.99841,     0.99844,     0.99847,      0.9985,     0.99852,     0.99855,     0.99858,     0.99861,     0.99864,     0.99866,     0.99869,     0.99872,     0.99875,     0.99878,      0.9988,     0.99883,     0.99886,\n",
       "            0.99889,     0.99891,     0.99894,     0.99897,       0.999,     0.99903,     0.99905,     0.99908,     0.99911,     0.99914,     0.99917,     0.99919,     0.99922,     0.99925,     0.99928,     0.99931,     0.99933,     0.99936,     0.99939,     0.99942,     0.99944,     0.99947,      0.9995,\n",
       "            0.99953,     0.99956,     0.99958,     0.99961,     0.99964,     0.99967,      0.9997,     0.99972,     0.99975,     0.99978,     0.99981,     0.99983,     0.99986,     0.99989,     0.99992,     0.99995,     0.99997,           1,           1,           1,           1,           1,           1,\n",
       "                  1,           1,           1,           1,           1,           1,           1,           1,           1,           1,           1,           1,           1,           1,           1,           1,           1,           1,           1,           1,           1,           1,           1,\n",
       "                  1,           1,           1,           1,           1,           1,           1,           1,           1,           1,           1,           1,           1,           1,           1,           1,           1,           1,           1,           1,           1,           1,           1,\n",
       "                  1,           1,           1,           1,           1,           1,           1,           1,           1,           1,           1,           1,           1,           1,           1,           1,           1,           1,           1,           1,           1,           1,           1,\n",
       "                  1,           1,           1,           1,           1,           1,           1,           1,           1,           1,           1,           1,           1,           1,           1,           1,           1,           1,           1,           1,           1,           1,           1,\n",
       "                  1,           1,           1,           1,           1,           1,           1,           1,           1,           1,           1]]), 'Confidence', 'Precision'], [array([          0,    0.001001,    0.002002,    0.003003,    0.004004,    0.005005,    0.006006,    0.007007,    0.008008,    0.009009,     0.01001,    0.011011,    0.012012,    0.013013,    0.014014,    0.015015,    0.016016,    0.017017,    0.018018,    0.019019,     0.02002,    0.021021,    0.022022,    0.023023,\n",
       "          0.024024,    0.025025,    0.026026,    0.027027,    0.028028,    0.029029,     0.03003,    0.031031,    0.032032,    0.033033,    0.034034,    0.035035,    0.036036,    0.037037,    0.038038,    0.039039,     0.04004,    0.041041,    0.042042,    0.043043,    0.044044,    0.045045,    0.046046,    0.047047,\n",
       "          0.048048,    0.049049,     0.05005,    0.051051,    0.052052,    0.053053,    0.054054,    0.055055,    0.056056,    0.057057,    0.058058,    0.059059,     0.06006,    0.061061,    0.062062,    0.063063,    0.064064,    0.065065,    0.066066,    0.067067,    0.068068,    0.069069,     0.07007,    0.071071,\n",
       "          0.072072,    0.073073,    0.074074,    0.075075,    0.076076,    0.077077,    0.078078,    0.079079,     0.08008,    0.081081,    0.082082,    0.083083,    0.084084,    0.085085,    0.086086,    0.087087,    0.088088,    0.089089,     0.09009,    0.091091,    0.092092,    0.093093,    0.094094,    0.095095,\n",
       "          0.096096,    0.097097,    0.098098,    0.099099,      0.1001,      0.1011,      0.1021,      0.1031,      0.1041,     0.10511,     0.10611,     0.10711,     0.10811,     0.10911,     0.11011,     0.11111,     0.11211,     0.11311,     0.11411,     0.11512,     0.11612,     0.11712,     0.11812,     0.11912,\n",
       "           0.12012,     0.12112,     0.12212,     0.12312,     0.12412,     0.12513,     0.12613,     0.12713,     0.12813,     0.12913,     0.13013,     0.13113,     0.13213,     0.13313,     0.13413,     0.13514,     0.13614,     0.13714,     0.13814,     0.13914,     0.14014,     0.14114,     0.14214,     0.14314,\n",
       "           0.14414,     0.14515,     0.14615,     0.14715,     0.14815,     0.14915,     0.15015,     0.15115,     0.15215,     0.15315,     0.15415,     0.15516,     0.15616,     0.15716,     0.15816,     0.15916,     0.16016,     0.16116,     0.16216,     0.16316,     0.16416,     0.16517,     0.16617,     0.16717,\n",
       "           0.16817,     0.16917,     0.17017,     0.17117,     0.17217,     0.17317,     0.17417,     0.17518,     0.17618,     0.17718,     0.17818,     0.17918,     0.18018,     0.18118,     0.18218,     0.18318,     0.18418,     0.18519,     0.18619,     0.18719,     0.18819,     0.18919,     0.19019,     0.19119,\n",
       "           0.19219,     0.19319,     0.19419,      0.1952,      0.1962,      0.1972,      0.1982,      0.1992,      0.2002,      0.2012,      0.2022,      0.2032,      0.2042,     0.20521,     0.20621,     0.20721,     0.20821,     0.20921,     0.21021,     0.21121,     0.21221,     0.21321,     0.21421,     0.21522,\n",
       "           0.21622,     0.21722,     0.21822,     0.21922,     0.22022,     0.22122,     0.22222,     0.22322,     0.22422,     0.22523,     0.22623,     0.22723,     0.22823,     0.22923,     0.23023,     0.23123,     0.23223,     0.23323,     0.23423,     0.23524,     0.23624,     0.23724,     0.23824,     0.23924,\n",
       "           0.24024,     0.24124,     0.24224,     0.24324,     0.24424,     0.24525,     0.24625,     0.24725,     0.24825,     0.24925,     0.25025,     0.25125,     0.25225,     0.25325,     0.25425,     0.25526,     0.25626,     0.25726,     0.25826,     0.25926,     0.26026,     0.26126,     0.26226,     0.26326,\n",
       "           0.26426,     0.26527,     0.26627,     0.26727,     0.26827,     0.26927,     0.27027,     0.27127,     0.27227,     0.27327,     0.27427,     0.27528,     0.27628,     0.27728,     0.27828,     0.27928,     0.28028,     0.28128,     0.28228,     0.28328,     0.28428,     0.28529,     0.28629,     0.28729,\n",
       "           0.28829,     0.28929,     0.29029,     0.29129,     0.29229,     0.29329,     0.29429,      0.2953,      0.2963,      0.2973,      0.2983,      0.2993,      0.3003,      0.3013,      0.3023,      0.3033,      0.3043,     0.30531,     0.30631,     0.30731,     0.30831,     0.30931,     0.31031,     0.31131,\n",
       "           0.31231,     0.31331,     0.31431,     0.31532,     0.31632,     0.31732,     0.31832,     0.31932,     0.32032,     0.32132,     0.32232,     0.32332,     0.32432,     0.32533,     0.32633,     0.32733,     0.32833,     0.32933,     0.33033,     0.33133,     0.33233,     0.33333,     0.33433,     0.33534,\n",
       "           0.33634,     0.33734,     0.33834,     0.33934,     0.34034,     0.34134,     0.34234,     0.34334,     0.34434,     0.34535,     0.34635,     0.34735,     0.34835,     0.34935,     0.35035,     0.35135,     0.35235,     0.35335,     0.35435,     0.35536,     0.35636,     0.35736,     0.35836,     0.35936,\n",
       "           0.36036,     0.36136,     0.36236,     0.36336,     0.36436,     0.36537,     0.36637,     0.36737,     0.36837,     0.36937,     0.37037,     0.37137,     0.37237,     0.37337,     0.37437,     0.37538,     0.37638,     0.37738,     0.37838,     0.37938,     0.38038,     0.38138,     0.38238,     0.38338,\n",
       "           0.38438,     0.38539,     0.38639,     0.38739,     0.38839,     0.38939,     0.39039,     0.39139,     0.39239,     0.39339,     0.39439,      0.3954,      0.3964,      0.3974,      0.3984,      0.3994,      0.4004,      0.4014,      0.4024,      0.4034,      0.4044,     0.40541,     0.40641,     0.40741,\n",
       "           0.40841,     0.40941,     0.41041,     0.41141,     0.41241,     0.41341,     0.41441,     0.41542,     0.41642,     0.41742,     0.41842,     0.41942,     0.42042,     0.42142,     0.42242,     0.42342,     0.42442,     0.42543,     0.42643,     0.42743,     0.42843,     0.42943,     0.43043,     0.43143,\n",
       "           0.43243,     0.43343,     0.43443,     0.43544,     0.43644,     0.43744,     0.43844,     0.43944,     0.44044,     0.44144,     0.44244,     0.44344,     0.44444,     0.44545,     0.44645,     0.44745,     0.44845,     0.44945,     0.45045,     0.45145,     0.45245,     0.45345,     0.45445,     0.45546,\n",
       "           0.45646,     0.45746,     0.45846,     0.45946,     0.46046,     0.46146,     0.46246,     0.46346,     0.46446,     0.46547,     0.46647,     0.46747,     0.46847,     0.46947,     0.47047,     0.47147,     0.47247,     0.47347,     0.47447,     0.47548,     0.47648,     0.47748,     0.47848,     0.47948,\n",
       "           0.48048,     0.48148,     0.48248,     0.48348,     0.48448,     0.48549,     0.48649,     0.48749,     0.48849,     0.48949,     0.49049,     0.49149,     0.49249,     0.49349,     0.49449,      0.4955,      0.4965,      0.4975,      0.4985,      0.4995,      0.5005,      0.5015,      0.5025,      0.5035,\n",
       "            0.5045,     0.50551,     0.50651,     0.50751,     0.50851,     0.50951,     0.51051,     0.51151,     0.51251,     0.51351,     0.51451,     0.51552,     0.51652,     0.51752,     0.51852,     0.51952,     0.52052,     0.52152,     0.52252,     0.52352,     0.52452,     0.52553,     0.52653,     0.52753,\n",
       "           0.52853,     0.52953,     0.53053,     0.53153,     0.53253,     0.53353,     0.53453,     0.53554,     0.53654,     0.53754,     0.53854,     0.53954,     0.54054,     0.54154,     0.54254,     0.54354,     0.54454,     0.54555,     0.54655,     0.54755,     0.54855,     0.54955,     0.55055,     0.55155,\n",
       "           0.55255,     0.55355,     0.55455,     0.55556,     0.55656,     0.55756,     0.55856,     0.55956,     0.56056,     0.56156,     0.56256,     0.56356,     0.56456,     0.56557,     0.56657,     0.56757,     0.56857,     0.56957,     0.57057,     0.57157,     0.57257,     0.57357,     0.57457,     0.57558,\n",
       "           0.57658,     0.57758,     0.57858,     0.57958,     0.58058,     0.58158,     0.58258,     0.58358,     0.58458,     0.58559,     0.58659,     0.58759,     0.58859,     0.58959,     0.59059,     0.59159,     0.59259,     0.59359,     0.59459,      0.5956,      0.5966,      0.5976,      0.5986,      0.5996,\n",
       "            0.6006,      0.6016,      0.6026,      0.6036,      0.6046,     0.60561,     0.60661,     0.60761,     0.60861,     0.60961,     0.61061,     0.61161,     0.61261,     0.61361,     0.61461,     0.61562,     0.61662,     0.61762,     0.61862,     0.61962,     0.62062,     0.62162,     0.62262,     0.62362,\n",
       "           0.62462,     0.62563,     0.62663,     0.62763,     0.62863,     0.62963,     0.63063,     0.63163,     0.63263,     0.63363,     0.63463,     0.63564,     0.63664,     0.63764,     0.63864,     0.63964,     0.64064,     0.64164,     0.64264,     0.64364,     0.64464,     0.64565,     0.64665,     0.64765,\n",
       "           0.64865,     0.64965,     0.65065,     0.65165,     0.65265,     0.65365,     0.65465,     0.65566,     0.65666,     0.65766,     0.65866,     0.65966,     0.66066,     0.66166,     0.66266,     0.66366,     0.66466,     0.66567,     0.66667,     0.66767,     0.66867,     0.66967,     0.67067,     0.67167,\n",
       "           0.67267,     0.67367,     0.67467,     0.67568,     0.67668,     0.67768,     0.67868,     0.67968,     0.68068,     0.68168,     0.68268,     0.68368,     0.68468,     0.68569,     0.68669,     0.68769,     0.68869,     0.68969,     0.69069,     0.69169,     0.69269,     0.69369,     0.69469,      0.6957,\n",
       "            0.6967,      0.6977,      0.6987,      0.6997,      0.7007,      0.7017,      0.7027,      0.7037,      0.7047,     0.70571,     0.70671,     0.70771,     0.70871,     0.70971,     0.71071,     0.71171,     0.71271,     0.71371,     0.71471,     0.71572,     0.71672,     0.71772,     0.71872,     0.71972,\n",
       "           0.72072,     0.72172,     0.72272,     0.72372,     0.72472,     0.72573,     0.72673,     0.72773,     0.72873,     0.72973,     0.73073,     0.73173,     0.73273,     0.73373,     0.73473,     0.73574,     0.73674,     0.73774,     0.73874,     0.73974,     0.74074,     0.74174,     0.74274,     0.74374,\n",
       "           0.74474,     0.74575,     0.74675,     0.74775,     0.74875,     0.74975,     0.75075,     0.75175,     0.75275,     0.75375,     0.75475,     0.75576,     0.75676,     0.75776,     0.75876,     0.75976,     0.76076,     0.76176,     0.76276,     0.76376,     0.76476,     0.76577,     0.76677,     0.76777,\n",
       "           0.76877,     0.76977,     0.77077,     0.77177,     0.77277,     0.77377,     0.77477,     0.77578,     0.77678,     0.77778,     0.77878,     0.77978,     0.78078,     0.78178,     0.78278,     0.78378,     0.78478,     0.78579,     0.78679,     0.78779,     0.78879,     0.78979,     0.79079,     0.79179,\n",
       "           0.79279,     0.79379,     0.79479,      0.7958,      0.7968,      0.7978,      0.7988,      0.7998,      0.8008,      0.8018,      0.8028,      0.8038,      0.8048,     0.80581,     0.80681,     0.80781,     0.80881,     0.80981,     0.81081,     0.81181,     0.81281,     0.81381,     0.81481,     0.81582,\n",
       "           0.81682,     0.81782,     0.81882,     0.81982,     0.82082,     0.82182,     0.82282,     0.82382,     0.82482,     0.82583,     0.82683,     0.82783,     0.82883,     0.82983,     0.83083,     0.83183,     0.83283,     0.83383,     0.83483,     0.83584,     0.83684,     0.83784,     0.83884,     0.83984,\n",
       "           0.84084,     0.84184,     0.84284,     0.84384,     0.84484,     0.84585,     0.84685,     0.84785,     0.84885,     0.84985,     0.85085,     0.85185,     0.85285,     0.85385,     0.85485,     0.85586,     0.85686,     0.85786,     0.85886,     0.85986,     0.86086,     0.86186,     0.86286,     0.86386,\n",
       "           0.86486,     0.86587,     0.86687,     0.86787,     0.86887,     0.86987,     0.87087,     0.87187,     0.87287,     0.87387,     0.87487,     0.87588,     0.87688,     0.87788,     0.87888,     0.87988,     0.88088,     0.88188,     0.88288,     0.88388,     0.88488,     0.88589,     0.88689,     0.88789,\n",
       "           0.88889,     0.88989,     0.89089,     0.89189,     0.89289,     0.89389,     0.89489,      0.8959,      0.8969,      0.8979,      0.8989,      0.8999,      0.9009,      0.9019,      0.9029,      0.9039,      0.9049,     0.90591,     0.90691,     0.90791,     0.90891,     0.90991,     0.91091,     0.91191,\n",
       "           0.91291,     0.91391,     0.91491,     0.91592,     0.91692,     0.91792,     0.91892,     0.91992,     0.92092,     0.92192,     0.92292,     0.92392,     0.92492,     0.92593,     0.92693,     0.92793,     0.92893,     0.92993,     0.93093,     0.93193,     0.93293,     0.93393,     0.93493,     0.93594,\n",
       "           0.93694,     0.93794,     0.93894,     0.93994,     0.94094,     0.94194,     0.94294,     0.94394,     0.94494,     0.94595,     0.94695,     0.94795,     0.94895,     0.94995,     0.95095,     0.95195,     0.95295,     0.95395,     0.95495,     0.95596,     0.95696,     0.95796,     0.95896,     0.95996,\n",
       "           0.96096,     0.96196,     0.96296,     0.96396,     0.96496,     0.96597,     0.96697,     0.96797,     0.96897,     0.96997,     0.97097,     0.97197,     0.97297,     0.97397,     0.97497,     0.97598,     0.97698,     0.97798,     0.97898,     0.97998,     0.98098,     0.98198,     0.98298,     0.98398,\n",
       "           0.98498,     0.98599,     0.98699,     0.98799,     0.98899,     0.98999,     0.99099,     0.99199,     0.99299,     0.99399,     0.99499,       0.996,       0.997,       0.998,       0.999,           1]), array([[          1,           1,           1,           1,           1,           1,           1,           1,           1,           1,           1,           1,           1,           1,           1,           1,           1,           1,           1,           1,           1,           1,           1,\n",
       "                  1,           1,           1,           1,           1,           1,           1,           1,           1,           1,           1,           1,           1,           1,           1,           1,           1,           1,           1,           1,           1,           1,           1,\n",
       "                  1,           1,           1,           1,           1,           1,           1,           1,           1,           1,           1,           1,           1,           1,           1,           1,           1,           1,           1,           1,           1,           1,           1,\n",
       "                  1,           1,           1,           1,           1,           1,           1,           1,           1,           1,           1,           1,           1,           1,           1,           1,           1,           1,           1,           1,           1,           1,           1,\n",
       "                  1,           1,           1,           1,           1,           1,           1,           1,           1,           1,           1,           1,           1,           1,           1,           1,           1,           1,           1,           1,           1,           1,           1,\n",
       "                  1,           1,           1,           1,           1,           1,           1,           1,           1,           1,           1,           1,           1,           1,           1,           1,           1,           1,           1,           1,           1,           1,           1,\n",
       "                  1,           1,           1,           1,           1,           1,           1,           1,           1,           1,           1,           1,           1,           1,           1,           1,           1,           1,           1,           1,           1,           1,           1,\n",
       "                  1,           1,           1,           1,           1,           1,           1,           1,           1,           1,           1,           1,           1,           1,           1,           1,           1,           1,           1,           1,           1,           1,           1,\n",
       "                  1,           1,           1,           1,           1,           1,           1,           1,           1,           1,           1,           1,           1,           1,           1,           1,           1,           1,           1,           1,           1,           1,           1,\n",
       "                  1,           1,           1,           1,           1,           1,           1,           1,           1,           1,           1,           1,           1,           1,           1,           1,           1,           1,           1,           1,           1,           1,           1,\n",
       "                  1,           1,           1,           1,           1,           1,           1,           1,           1,           1,           1,           1,           1,           1,           1,           1,           1,           1,           1,           1,           1,           1,           1,\n",
       "                  1,           1,           1,           1,           1,           1,           1,           1,           1,           1,           1,           1,           1,           1,           1,           1,           1,           1,           1,           1,           1,           1,           1,\n",
       "                  1,           1,           1,           1,           1,           1,           1,           1,           1,           1,           1,           1,           1,           1,           1,           1,           1,           1,           1,           1,           1,           1,           1,\n",
       "                  1,           1,           1,           1,           1,           1,           1,           1,           1,           1,           1,           1,           1,           1,           1,           1,           1,           1,           1,           1,           1,           1,           1,\n",
       "                  1,           1,           1,           1,           1,           1,           1,           1,           1,           1,           1,           1,           1,           1,           1,           1,           1,           1,           1,           1,           1,           1,           1,\n",
       "                  1,           1,           1,           1,           1,           1,           1,           1,           1,           1,           1,           1,           1,           1,           1,           1,           1,           1,           1,           1,           1,           1,           1,\n",
       "                  1,           1,           1,           1,           1,           1,           1,           1,           1,           1,           1,           1,           1,           1,           1,           1,           1,           1,           1,           1,           1,           1,           1,\n",
       "                  1,           1,           1,           1,           1,           1,           1,           1,           1,           1,           1,           1,           1,           1,           1,           1,           1,           1,           1,           1,           1,           1,           1,\n",
       "                  1,           1,           1,           1,           1,           1,           1,           1,           1,           1,           1,           1,           1,           1,           1,           1,           1,           1,           1,           1,           1,           1,           1,\n",
       "                  1,           1,           1,           1,           1,           1,           1,           1,           1,           1,           1,           1,           1,           1,           1,           1,           1,           1,           1,           1,           1,           1,           1,\n",
       "                  1,           1,           1,           1,           1,           1,           1,           1,           1,           1,           1,           1,           1,           1,           1,           1,           1,           1,           1,           1,           1,           1,           1,\n",
       "                  1,           1,           1,           1,           1,           1,           1,           1,           1,           1,           1,           1,           1,           1,           1,           1,           1,           1,           1,           1,           1,           1,           1,\n",
       "                  1,           1,           1,           1,           1,           1,           1,           1,           1,           1,           1,           1,           1,           1,           1,           1,           1,           1,           1,           1,           1,           1,           1,\n",
       "                  1,           1,           1,           1,           1,           1,           1,           1,           1,           1,           1,           1,           1,           1,           1,           1,           1,           1,           1,           1,           1,           1,           1,\n",
       "                  1,           1,           1,           1,           1,           1,           1,           1,           1,           1,           1,           1,           1,           1,           1,           1,           1,           1,           1,           1,           1,           1,           1,\n",
       "                  1,           1,           1,           1,           1,           1,           1,           1,           1,           1,           1,           1,           1,           1,           1,           1,           1,           1,           1,           1,           1,           1,           1,\n",
       "                  1,           1,           1,           1,           1,           1,           1,           1,           1,           1,           1,           1,           1,           1,           1,           1,           1,           1,           1,           1,           1,           1,           1,\n",
       "                  1,           1,           1,           1,           1,           1,           1,           1,           1,           1,           1,           1,           1,           1,           1,           1,           1,           1,           1,           1,           1,           1,           1,\n",
       "                  1,           1,           1,           1,           1,           1,           1,           1,           1,           1,           1,           1,           1,           1,           1,           1,           1,           1,           1,           1,           1,           1,           1,\n",
       "                  1,           1,           1,           1,           1,           1,           1,           1,           1,           1,           1,           1,           1,           1,           1,           1,           1,           1,           1,           1,           1,           1,           1,\n",
       "                  1,           1,           1,           1,           1,           1,           1,           1,           1,           1,           1,           1,           1,           1,           1,           1,           1,           1,           1,           1,           1,           1,           1,\n",
       "                  1,           1,           1,           1,           1,           1,           1,           1,           1,           1,           1,           1,           1,           1,           1,           1,           1,           1,           1,           1,           1,           1,           1,\n",
       "                  1,           1,           1,           1,           1,           1,           1,           1,           1,           1,           1,           1,           1,           1,           1,           1,           1,           1,           1,           1,           1,           1,           1,\n",
       "                  1,           1,           1,           1,           1,           1,           1,           1,           1,           1,           1,           1,           1,           1,           1,           1,           1,           1,           1,           1,           1,           1,           1,\n",
       "                  1,           1,           1,           1,           1,           1,           1,           1,           1,           1,           1,           1,           1,           1,           1,           1,           1,           1,           1,           1,           1,           1,           1,\n",
       "                  1,           1,           1,           1,           1,           1,           1,           1,           1,           1,           1,           1,           1,           1,           1,           1,           1,           1,           1,           1,           1,           1,           1,\n",
       "                  1,           1,           1,           1,           1,           1,           1,           1,           1,           1,           1,           1,           1,           1,           1,           1,           1,           1,           1,           1,           1,           1,           1,\n",
       "                  1,           1,           1,           1,           1,           1,           1,           1,           1,           1,           1,           1,           1,           1,           1,           1,           1,           1,           1,           1,           1,           1,           1,\n",
       "                  1,           1,           1,           1,           1,           1,           1,           1,           1,           1,           1,           1,           1,           1,           1,           1,           1,     0.99925,     0.99009,     0.98092,     0.95176,     0.94876,     0.94748,\n",
       "            0.94621,     0.94494,     0.94366,     0.94239,     0.94111,     0.93984,     0.93856,     0.93729,     0.93601,     0.93474,     0.93346,     0.93219,     0.93091,     0.92964,     0.92836,     0.92709,     0.92581,     0.92179,     0.91293,     0.90407,     0.88748,     0.87357,     0.87046,\n",
       "            0.86735,     0.86424,     0.86114,     0.85803,     0.85492,     0.85181,      0.8358,     0.79775,     0.78213,      0.7726,     0.76817,     0.76374,     0.75932,     0.75489,     0.75046,     0.69737,     0.67321,     0.66533,     0.65744,     0.62756,     0.60926,     0.54989,     0.52332,\n",
       "            0.51687,     0.51042,     0.50397,      0.4567,     0.41824,     0.36847,     0.34561,     0.33679,     0.32797,      0.2757,      0.2416,      0.2217,     0.21211,     0.20253,     0.19724,      0.1935,     0.18975,     0.18601,     0.18226,     0.17852,     0.17356,     0.14663,     0.10971,\n",
       "            0.08924,    0.055597,    0.042174,    0.033095,           0,           0,           0,           0,           0,           0,           0,           0,           0,           0,           0,           0,           0,           0,           0,           0,           0,           0,           0,\n",
       "                  0,           0,           0,           0,           0,           0,           0,           0,           0,           0,           0]]), 'Confidence', 'Recall']]\n",
       "fitness: 0.9811630129222398\n",
       "keys: ['metrics/precision(B)', 'metrics/recall(B)', 'metrics/mAP50(B)', 'metrics/mAP50-95(B)']\n",
       "maps: array([    0.97963])\n",
       "names: {0: 'Medicine'}\n",
       "plot: True\n",
       "results_dict: {'metrics/precision(B)': 0.9986079714085679, 'metrics/recall(B)': 1.0, 'metrics/mAP50(B)': 0.995, 'metrics/mAP50-95(B)': 0.9796255699135997, 'fitness': 0.9811630129222398}\n",
       "save_dir: PosixPath('runs/detect/yolov8_custom')\n",
       "speed: {'preprocess': 1.256096363067627, 'inference': 152.60464549064636, 'loss': 7.152557373046875e-05, 'postprocess': 0.33309459686279297}\n",
       "task: 'detect'"
      ]
     },
     "execution_count": 5,
     "metadata": {},
     "output_type": "execute_result"
    }
   ],
   "source": [
    "model.train(data='/Users/apurvpandey/Documents/Ai4spro/Try_1/dataset/data.yaml', epochs=100, imgsz=640, batch=16, name='yolov8_custom')"
   ]
  },
  {
   "cell_type": "code",
   "execution_count": 6,
   "metadata": {},
   "outputs": [
    {
     "name": "stdout",
     "output_type": "stream",
     "text": [
      "Ultralytics YOLOv8.2.103 🚀 Python-3.9.13 torch-2.4.1 CPU (Apple M1)\n",
      "Model summary (fused): 168 layers, 3,005,843 parameters, 0 gradients, 8.1 GFLOPs\n"
     ]
    },
    {
     "name": "stderr",
     "output_type": "stream",
     "text": [
      "\u001b[34m\u001b[1mval: \u001b[0mScanning /Users/apurvpandey/Documents/Ai4spro/Try_1/dataset/valid/labels.cache... 40 images, 0 backgrounds, 0 corrupt: 100%|██████████| 40/40 [00:00<?, ?it/s]\n",
      "                 Class     Images  Instances      Box(P          R      mAP50  mAP50-95): 100%|██████████| 3/3 [00:06<00:00,  2.20s/it]\n"
     ]
    },
    {
     "name": "stdout",
     "output_type": "stream",
     "text": [
      "                   all         40         40      0.999          1      0.995       0.98\n",
      "Speed: 1.5ms preprocess, 160.5ms inference, 0.0ms loss, 0.3ms postprocess per image\n",
      "Results saved to \u001b[1mruns/detect/yolov8_custom2\u001b[0m\n"
     ]
    },
    {
     "data": {
      "text/plain": [
       "ultralytics.utils.metrics.DetMetrics object with attributes:\n",
       "\n",
       "ap_class_index: array([0])\n",
       "box: ultralytics.utils.metrics.Metric object\n",
       "confusion_matrix: <ultralytics.utils.metrics.ConfusionMatrix object at 0x15fd7fd60>\n",
       "curves: ['Precision-Recall(B)', 'F1-Confidence(B)', 'Precision-Confidence(B)', 'Recall-Confidence(B)']\n",
       "curves_results: [[array([          0,    0.001001,    0.002002,    0.003003,    0.004004,    0.005005,    0.006006,    0.007007,    0.008008,    0.009009,     0.01001,    0.011011,    0.012012,    0.013013,    0.014014,    0.015015,    0.016016,    0.017017,    0.018018,    0.019019,     0.02002,    0.021021,    0.022022,    0.023023,\n",
       "          0.024024,    0.025025,    0.026026,    0.027027,    0.028028,    0.029029,     0.03003,    0.031031,    0.032032,    0.033033,    0.034034,    0.035035,    0.036036,    0.037037,    0.038038,    0.039039,     0.04004,    0.041041,    0.042042,    0.043043,    0.044044,    0.045045,    0.046046,    0.047047,\n",
       "          0.048048,    0.049049,     0.05005,    0.051051,    0.052052,    0.053053,    0.054054,    0.055055,    0.056056,    0.057057,    0.058058,    0.059059,     0.06006,    0.061061,    0.062062,    0.063063,    0.064064,    0.065065,    0.066066,    0.067067,    0.068068,    0.069069,     0.07007,    0.071071,\n",
       "          0.072072,    0.073073,    0.074074,    0.075075,    0.076076,    0.077077,    0.078078,    0.079079,     0.08008,    0.081081,    0.082082,    0.083083,    0.084084,    0.085085,    0.086086,    0.087087,    0.088088,    0.089089,     0.09009,    0.091091,    0.092092,    0.093093,    0.094094,    0.095095,\n",
       "          0.096096,    0.097097,    0.098098,    0.099099,      0.1001,      0.1011,      0.1021,      0.1031,      0.1041,     0.10511,     0.10611,     0.10711,     0.10811,     0.10911,     0.11011,     0.11111,     0.11211,     0.11311,     0.11411,     0.11512,     0.11612,     0.11712,     0.11812,     0.11912,\n",
       "           0.12012,     0.12112,     0.12212,     0.12312,     0.12412,     0.12513,     0.12613,     0.12713,     0.12813,     0.12913,     0.13013,     0.13113,     0.13213,     0.13313,     0.13413,     0.13514,     0.13614,     0.13714,     0.13814,     0.13914,     0.14014,     0.14114,     0.14214,     0.14314,\n",
       "           0.14414,     0.14515,     0.14615,     0.14715,     0.14815,     0.14915,     0.15015,     0.15115,     0.15215,     0.15315,     0.15415,     0.15516,     0.15616,     0.15716,     0.15816,     0.15916,     0.16016,     0.16116,     0.16216,     0.16316,     0.16416,     0.16517,     0.16617,     0.16717,\n",
       "           0.16817,     0.16917,     0.17017,     0.17117,     0.17217,     0.17317,     0.17417,     0.17518,     0.17618,     0.17718,     0.17818,     0.17918,     0.18018,     0.18118,     0.18218,     0.18318,     0.18418,     0.18519,     0.18619,     0.18719,     0.18819,     0.18919,     0.19019,     0.19119,\n",
       "           0.19219,     0.19319,     0.19419,      0.1952,      0.1962,      0.1972,      0.1982,      0.1992,      0.2002,      0.2012,      0.2022,      0.2032,      0.2042,     0.20521,     0.20621,     0.20721,     0.20821,     0.20921,     0.21021,     0.21121,     0.21221,     0.21321,     0.21421,     0.21522,\n",
       "           0.21622,     0.21722,     0.21822,     0.21922,     0.22022,     0.22122,     0.22222,     0.22322,     0.22422,     0.22523,     0.22623,     0.22723,     0.22823,     0.22923,     0.23023,     0.23123,     0.23223,     0.23323,     0.23423,     0.23524,     0.23624,     0.23724,     0.23824,     0.23924,\n",
       "           0.24024,     0.24124,     0.24224,     0.24324,     0.24424,     0.24525,     0.24625,     0.24725,     0.24825,     0.24925,     0.25025,     0.25125,     0.25225,     0.25325,     0.25425,     0.25526,     0.25626,     0.25726,     0.25826,     0.25926,     0.26026,     0.26126,     0.26226,     0.26326,\n",
       "           0.26426,     0.26527,     0.26627,     0.26727,     0.26827,     0.26927,     0.27027,     0.27127,     0.27227,     0.27327,     0.27427,     0.27528,     0.27628,     0.27728,     0.27828,     0.27928,     0.28028,     0.28128,     0.28228,     0.28328,     0.28428,     0.28529,     0.28629,     0.28729,\n",
       "           0.28829,     0.28929,     0.29029,     0.29129,     0.29229,     0.29329,     0.29429,      0.2953,      0.2963,      0.2973,      0.2983,      0.2993,      0.3003,      0.3013,      0.3023,      0.3033,      0.3043,     0.30531,     0.30631,     0.30731,     0.30831,     0.30931,     0.31031,     0.31131,\n",
       "           0.31231,     0.31331,     0.31431,     0.31532,     0.31632,     0.31732,     0.31832,     0.31932,     0.32032,     0.32132,     0.32232,     0.32332,     0.32432,     0.32533,     0.32633,     0.32733,     0.32833,     0.32933,     0.33033,     0.33133,     0.33233,     0.33333,     0.33433,     0.33534,\n",
       "           0.33634,     0.33734,     0.33834,     0.33934,     0.34034,     0.34134,     0.34234,     0.34334,     0.34434,     0.34535,     0.34635,     0.34735,     0.34835,     0.34935,     0.35035,     0.35135,     0.35235,     0.35335,     0.35435,     0.35536,     0.35636,     0.35736,     0.35836,     0.35936,\n",
       "           0.36036,     0.36136,     0.36236,     0.36336,     0.36436,     0.36537,     0.36637,     0.36737,     0.36837,     0.36937,     0.37037,     0.37137,     0.37237,     0.37337,     0.37437,     0.37538,     0.37638,     0.37738,     0.37838,     0.37938,     0.38038,     0.38138,     0.38238,     0.38338,\n",
       "           0.38438,     0.38539,     0.38639,     0.38739,     0.38839,     0.38939,     0.39039,     0.39139,     0.39239,     0.39339,     0.39439,      0.3954,      0.3964,      0.3974,      0.3984,      0.3994,      0.4004,      0.4014,      0.4024,      0.4034,      0.4044,     0.40541,     0.40641,     0.40741,\n",
       "           0.40841,     0.40941,     0.41041,     0.41141,     0.41241,     0.41341,     0.41441,     0.41542,     0.41642,     0.41742,     0.41842,     0.41942,     0.42042,     0.42142,     0.42242,     0.42342,     0.42442,     0.42543,     0.42643,     0.42743,     0.42843,     0.42943,     0.43043,     0.43143,\n",
       "           0.43243,     0.43343,     0.43443,     0.43544,     0.43644,     0.43744,     0.43844,     0.43944,     0.44044,     0.44144,     0.44244,     0.44344,     0.44444,     0.44545,     0.44645,     0.44745,     0.44845,     0.44945,     0.45045,     0.45145,     0.45245,     0.45345,     0.45445,     0.45546,\n",
       "           0.45646,     0.45746,     0.45846,     0.45946,     0.46046,     0.46146,     0.46246,     0.46346,     0.46446,     0.46547,     0.46647,     0.46747,     0.46847,     0.46947,     0.47047,     0.47147,     0.47247,     0.47347,     0.47447,     0.47548,     0.47648,     0.47748,     0.47848,     0.47948,\n",
       "           0.48048,     0.48148,     0.48248,     0.48348,     0.48448,     0.48549,     0.48649,     0.48749,     0.48849,     0.48949,     0.49049,     0.49149,     0.49249,     0.49349,     0.49449,      0.4955,      0.4965,      0.4975,      0.4985,      0.4995,      0.5005,      0.5015,      0.5025,      0.5035,\n",
       "            0.5045,     0.50551,     0.50651,     0.50751,     0.50851,     0.50951,     0.51051,     0.51151,     0.51251,     0.51351,     0.51451,     0.51552,     0.51652,     0.51752,     0.51852,     0.51952,     0.52052,     0.52152,     0.52252,     0.52352,     0.52452,     0.52553,     0.52653,     0.52753,\n",
       "           0.52853,     0.52953,     0.53053,     0.53153,     0.53253,     0.53353,     0.53453,     0.53554,     0.53654,     0.53754,     0.53854,     0.53954,     0.54054,     0.54154,     0.54254,     0.54354,     0.54454,     0.54555,     0.54655,     0.54755,     0.54855,     0.54955,     0.55055,     0.55155,\n",
       "           0.55255,     0.55355,     0.55455,     0.55556,     0.55656,     0.55756,     0.55856,     0.55956,     0.56056,     0.56156,     0.56256,     0.56356,     0.56456,     0.56557,     0.56657,     0.56757,     0.56857,     0.56957,     0.57057,     0.57157,     0.57257,     0.57357,     0.57457,     0.57558,\n",
       "           0.57658,     0.57758,     0.57858,     0.57958,     0.58058,     0.58158,     0.58258,     0.58358,     0.58458,     0.58559,     0.58659,     0.58759,     0.58859,     0.58959,     0.59059,     0.59159,     0.59259,     0.59359,     0.59459,      0.5956,      0.5966,      0.5976,      0.5986,      0.5996,\n",
       "            0.6006,      0.6016,      0.6026,      0.6036,      0.6046,     0.60561,     0.60661,     0.60761,     0.60861,     0.60961,     0.61061,     0.61161,     0.61261,     0.61361,     0.61461,     0.61562,     0.61662,     0.61762,     0.61862,     0.61962,     0.62062,     0.62162,     0.62262,     0.62362,\n",
       "           0.62462,     0.62563,     0.62663,     0.62763,     0.62863,     0.62963,     0.63063,     0.63163,     0.63263,     0.63363,     0.63463,     0.63564,     0.63664,     0.63764,     0.63864,     0.63964,     0.64064,     0.64164,     0.64264,     0.64364,     0.64464,     0.64565,     0.64665,     0.64765,\n",
       "           0.64865,     0.64965,     0.65065,     0.65165,     0.65265,     0.65365,     0.65465,     0.65566,     0.65666,     0.65766,     0.65866,     0.65966,     0.66066,     0.66166,     0.66266,     0.66366,     0.66466,     0.66567,     0.66667,     0.66767,     0.66867,     0.66967,     0.67067,     0.67167,\n",
       "           0.67267,     0.67367,     0.67467,     0.67568,     0.67668,     0.67768,     0.67868,     0.67968,     0.68068,     0.68168,     0.68268,     0.68368,     0.68468,     0.68569,     0.68669,     0.68769,     0.68869,     0.68969,     0.69069,     0.69169,     0.69269,     0.69369,     0.69469,      0.6957,\n",
       "            0.6967,      0.6977,      0.6987,      0.6997,      0.7007,      0.7017,      0.7027,      0.7037,      0.7047,     0.70571,     0.70671,     0.70771,     0.70871,     0.70971,     0.71071,     0.71171,     0.71271,     0.71371,     0.71471,     0.71572,     0.71672,     0.71772,     0.71872,     0.71972,\n",
       "           0.72072,     0.72172,     0.72272,     0.72372,     0.72472,     0.72573,     0.72673,     0.72773,     0.72873,     0.72973,     0.73073,     0.73173,     0.73273,     0.73373,     0.73473,     0.73574,     0.73674,     0.73774,     0.73874,     0.73974,     0.74074,     0.74174,     0.74274,     0.74374,\n",
       "           0.74474,     0.74575,     0.74675,     0.74775,     0.74875,     0.74975,     0.75075,     0.75175,     0.75275,     0.75375,     0.75475,     0.75576,     0.75676,     0.75776,     0.75876,     0.75976,     0.76076,     0.76176,     0.76276,     0.76376,     0.76476,     0.76577,     0.76677,     0.76777,\n",
       "           0.76877,     0.76977,     0.77077,     0.77177,     0.77277,     0.77377,     0.77477,     0.77578,     0.77678,     0.77778,     0.77878,     0.77978,     0.78078,     0.78178,     0.78278,     0.78378,     0.78478,     0.78579,     0.78679,     0.78779,     0.78879,     0.78979,     0.79079,     0.79179,\n",
       "           0.79279,     0.79379,     0.79479,      0.7958,      0.7968,      0.7978,      0.7988,      0.7998,      0.8008,      0.8018,      0.8028,      0.8038,      0.8048,     0.80581,     0.80681,     0.80781,     0.80881,     0.80981,     0.81081,     0.81181,     0.81281,     0.81381,     0.81481,     0.81582,\n",
       "           0.81682,     0.81782,     0.81882,     0.81982,     0.82082,     0.82182,     0.82282,     0.82382,     0.82482,     0.82583,     0.82683,     0.82783,     0.82883,     0.82983,     0.83083,     0.83183,     0.83283,     0.83383,     0.83483,     0.83584,     0.83684,     0.83784,     0.83884,     0.83984,\n",
       "           0.84084,     0.84184,     0.84284,     0.84384,     0.84484,     0.84585,     0.84685,     0.84785,     0.84885,     0.84985,     0.85085,     0.85185,     0.85285,     0.85385,     0.85485,     0.85586,     0.85686,     0.85786,     0.85886,     0.85986,     0.86086,     0.86186,     0.86286,     0.86386,\n",
       "           0.86486,     0.86587,     0.86687,     0.86787,     0.86887,     0.86987,     0.87087,     0.87187,     0.87287,     0.87387,     0.87487,     0.87588,     0.87688,     0.87788,     0.87888,     0.87988,     0.88088,     0.88188,     0.88288,     0.88388,     0.88488,     0.88589,     0.88689,     0.88789,\n",
       "           0.88889,     0.88989,     0.89089,     0.89189,     0.89289,     0.89389,     0.89489,      0.8959,      0.8969,      0.8979,      0.8989,      0.8999,      0.9009,      0.9019,      0.9029,      0.9039,      0.9049,     0.90591,     0.90691,     0.90791,     0.90891,     0.90991,     0.91091,     0.91191,\n",
       "           0.91291,     0.91391,     0.91491,     0.91592,     0.91692,     0.91792,     0.91892,     0.91992,     0.92092,     0.92192,     0.92292,     0.92392,     0.92492,     0.92593,     0.92693,     0.92793,     0.92893,     0.92993,     0.93093,     0.93193,     0.93293,     0.93393,     0.93493,     0.93594,\n",
       "           0.93694,     0.93794,     0.93894,     0.93994,     0.94094,     0.94194,     0.94294,     0.94394,     0.94494,     0.94595,     0.94695,     0.94795,     0.94895,     0.94995,     0.95095,     0.95195,     0.95295,     0.95395,     0.95495,     0.95596,     0.95696,     0.95796,     0.95896,     0.95996,\n",
       "           0.96096,     0.96196,     0.96296,     0.96396,     0.96496,     0.96597,     0.96697,     0.96797,     0.96897,     0.96997,     0.97097,     0.97197,     0.97297,     0.97397,     0.97497,     0.97598,     0.97698,     0.97798,     0.97898,     0.97998,     0.98098,     0.98198,     0.98298,     0.98398,\n",
       "           0.98498,     0.98599,     0.98699,     0.98799,     0.98899,     0.98999,     0.99099,     0.99199,     0.99299,     0.99399,     0.99499,       0.996,       0.997,       0.998,       0.999,           1]), array([[          1,           1,           1,           1,           1,           1,           1,           1,           1,           1,           1,           1,           1,           1,           1,           1,           1,           1,           1,           1,           1,           1,           1,\n",
       "                  1,           1,           1,           1,           1,           1,           1,           1,           1,           1,           1,           1,           1,           1,           1,           1,           1,           1,           1,           1,           1,           1,           1,\n",
       "                  1,           1,           1,           1,           1,           1,           1,           1,           1,           1,           1,           1,           1,           1,           1,           1,           1,           1,           1,           1,           1,           1,           1,\n",
       "                  1,           1,           1,           1,           1,           1,           1,           1,           1,           1,           1,           1,           1,           1,           1,           1,           1,           1,           1,           1,           1,           1,           1,\n",
       "                  1,           1,           1,           1,           1,           1,           1,           1,           1,           1,           1,           1,           1,           1,           1,           1,           1,           1,           1,           1,           1,           1,           1,\n",
       "                  1,           1,           1,           1,           1,           1,           1,           1,           1,           1,           1,           1,           1,           1,           1,           1,           1,           1,           1,           1,           1,           1,           1,\n",
       "                  1,           1,           1,           1,           1,           1,           1,           1,           1,           1,           1,           1,           1,           1,           1,           1,           1,           1,           1,           1,           1,           1,           1,\n",
       "                  1,           1,           1,           1,           1,           1,           1,           1,           1,           1,           1,           1,           1,           1,           1,           1,           1,           1,           1,           1,           1,           1,           1,\n",
       "                  1,           1,           1,           1,           1,           1,           1,           1,           1,           1,           1,           1,           1,           1,           1,           1,           1,           1,           1,           1,           1,           1,           1,\n",
       "                  1,           1,           1,           1,           1,           1,           1,           1,           1,           1,           1,           1,           1,           1,           1,           1,           1,           1,           1,           1,           1,           1,           1,\n",
       "                  1,           1,           1,           1,           1,           1,           1,           1,           1,           1,           1,           1,           1,           1,           1,           1,           1,           1,           1,           1,           1,           1,           1,\n",
       "                  1,           1,           1,           1,           1,           1,           1,           1,           1,           1,           1,           1,           1,           1,           1,           1,           1,           1,           1,           1,           1,           1,           1,\n",
       "                  1,           1,           1,           1,           1,           1,           1,           1,           1,           1,           1,           1,           1,           1,           1,           1,           1,           1,           1,           1,           1,           1,           1,\n",
       "                  1,           1,           1,           1,           1,           1,           1,           1,           1,           1,           1,           1,           1,           1,           1,           1,           1,           1,           1,           1,           1,           1,           1,\n",
       "                  1,           1,           1,           1,           1,           1,           1,           1,           1,           1,           1,           1,           1,           1,           1,           1,           1,           1,           1,           1,           1,           1,           1,\n",
       "                  1,           1,           1,           1,           1,           1,           1,           1,           1,           1,           1,           1,           1,           1,           1,           1,           1,           1,           1,           1,           1,           1,           1,\n",
       "                  1,           1,           1,           1,           1,           1,           1,           1,           1,           1,           1,           1,           1,           1,           1,           1,           1,           1,           1,           1,           1,           1,           1,\n",
       "                  1,           1,           1,           1,           1,           1,           1,           1,           1,           1,           1,           1,           1,           1,           1,           1,           1,           1,           1,           1,           1,           1,           1,\n",
       "                  1,           1,           1,           1,           1,           1,           1,           1,           1,           1,           1,           1,           1,           1,           1,           1,           1,           1,           1,           1,           1,           1,           1,\n",
       "                  1,           1,           1,           1,           1,           1,           1,           1,           1,           1,           1,           1,           1,           1,           1,           1,           1,           1,           1,           1,           1,           1,           1,\n",
       "                  1,           1,           1,           1,           1,           1,           1,           1,           1,           1,           1,           1,           1,           1,           1,           1,           1,           1,           1,           1,           1,           1,           1,\n",
       "                  1,           1,           1,           1,           1,           1,           1,           1,           1,           1,           1,           1,           1,           1,           1,           1,           1,           1,           1,           1,           1,           1,           1,\n",
       "                  1,           1,           1,           1,           1,           1,           1,           1,           1,           1,           1,           1,           1,           1,           1,           1,           1,           1,           1,           1,           1,           1,           1,\n",
       "                  1,           1,           1,           1,           1,           1,           1,           1,           1,           1,           1,           1,           1,           1,           1,           1,           1,           1,           1,           1,           1,           1,           1,\n",
       "                  1,           1,           1,           1,           1,           1,           1,           1,           1,           1,           1,           1,           1,           1,           1,           1,           1,           1,           1,           1,           1,           1,           1,\n",
       "                  1,           1,           1,           1,           1,           1,           1,           1,           1,           1,           1,           1,           1,           1,           1,           1,           1,           1,           1,           1,           1,           1,           1,\n",
       "                  1,           1,           1,           1,           1,           1,           1,           1,           1,           1,           1,           1,           1,           1,           1,           1,           1,           1,           1,           1,           1,           1,           1,\n",
       "                  1,           1,           1,           1,           1,           1,           1,           1,           1,           1,           1,           1,           1,           1,           1,           1,           1,           1,           1,           1,           1,           1,           1,\n",
       "                  1,           1,           1,           1,           1,           1,           1,           1,           1,           1,           1,           1,           1,           1,           1,           1,           1,           1,           1,           1,           1,           1,           1,\n",
       "                  1,           1,           1,           1,           1,           1,           1,           1,           1,           1,           1,           1,           1,           1,           1,           1,           1,           1,           1,           1,           1,           1,           1,\n",
       "                  1,           1,           1,           1,           1,           1,           1,           1,           1,           1,           1,           1,           1,           1,           1,           1,           1,           1,           1,           1,           1,           1,           1,\n",
       "                  1,           1,           1,           1,           1,           1,           1,           1,           1,           1,           1,           1,           1,           1,           1,           1,           1,           1,           1,           1,           1,           1,           1,\n",
       "                  1,           1,           1,           1,           1,           1,           1,           1,           1,           1,           1,           1,           1,           1,           1,           1,           1,           1,           1,           1,           1,           1,           1,\n",
       "                  1,           1,           1,           1,           1,           1,           1,           1,           1,           1,           1,           1,           1,           1,           1,           1,           1,           1,           1,           1,           1,           1,           1,\n",
       "                  1,           1,           1,           1,           1,           1,           1,           1,           1,           1,           1,           1,           1,           1,           1,           1,           1,           1,           1,           1,           1,           1,           1,\n",
       "                  1,           1,           1,           1,           1,           1,           1,           1,           1,           1,           1,           1,           1,           1,           1,           1,           1,           1,           1,           1,           1,           1,           1,\n",
       "                  1,           1,           1,           1,           1,           1,           1,           1,           1,           1,           1,           1,           1,           1,           1,           1,           1,           1,           1,           1,           1,           1,           1,\n",
       "                  1,           1,           1,           1,           1,           1,           1,           1,           1,           1,           1,           1,           1,           1,           1,           1,           1,           1,           1,           1,           1,           1,           1,\n",
       "                  1,           1,           1,           1,           1,           1,           1,           1,           1,           1,           1,           1,           1,           1,           1,           1,           1,           1,           1,           1,           1,           1,           1,\n",
       "                  1,           1,           1,           1,           1,           1,           1,           1,           1,           1,           1,           1,           1,           1,           1,           1,           1,           1,           1,           1,           1,           1,           1,\n",
       "                  1,           1,           1,           1,           1,           1,           1,           1,           1,           1,           1,           1,           1,           1,           1,           1,           1,           1,           1,           1,           1,           1,           1,\n",
       "                  1,           1,           1,           1,           1,           1,           1,           1,           1,           1,           1,           1,           1,           1,           1,           1,           1,           1,           1,           1,           1,           1,           1,\n",
       "                  1,           1,           1,           1,           1,           1,           1,           1,           1,           1,           1,           1,           1,           1,           1,           1,           1,           1,           1,           1,           1,           1,           1,\n",
       "                  1,           1,           1,           1,           1,           1,           1,           1,           1,           1,           0]]), 'Recall', 'Precision'], [array([          0,    0.001001,    0.002002,    0.003003,    0.004004,    0.005005,    0.006006,    0.007007,    0.008008,    0.009009,     0.01001,    0.011011,    0.012012,    0.013013,    0.014014,    0.015015,    0.016016,    0.017017,    0.018018,    0.019019,     0.02002,    0.021021,    0.022022,    0.023023,\n",
       "          0.024024,    0.025025,    0.026026,    0.027027,    0.028028,    0.029029,     0.03003,    0.031031,    0.032032,    0.033033,    0.034034,    0.035035,    0.036036,    0.037037,    0.038038,    0.039039,     0.04004,    0.041041,    0.042042,    0.043043,    0.044044,    0.045045,    0.046046,    0.047047,\n",
       "          0.048048,    0.049049,     0.05005,    0.051051,    0.052052,    0.053053,    0.054054,    0.055055,    0.056056,    0.057057,    0.058058,    0.059059,     0.06006,    0.061061,    0.062062,    0.063063,    0.064064,    0.065065,    0.066066,    0.067067,    0.068068,    0.069069,     0.07007,    0.071071,\n",
       "          0.072072,    0.073073,    0.074074,    0.075075,    0.076076,    0.077077,    0.078078,    0.079079,     0.08008,    0.081081,    0.082082,    0.083083,    0.084084,    0.085085,    0.086086,    0.087087,    0.088088,    0.089089,     0.09009,    0.091091,    0.092092,    0.093093,    0.094094,    0.095095,\n",
       "          0.096096,    0.097097,    0.098098,    0.099099,      0.1001,      0.1011,      0.1021,      0.1031,      0.1041,     0.10511,     0.10611,     0.10711,     0.10811,     0.10911,     0.11011,     0.11111,     0.11211,     0.11311,     0.11411,     0.11512,     0.11612,     0.11712,     0.11812,     0.11912,\n",
       "           0.12012,     0.12112,     0.12212,     0.12312,     0.12412,     0.12513,     0.12613,     0.12713,     0.12813,     0.12913,     0.13013,     0.13113,     0.13213,     0.13313,     0.13413,     0.13514,     0.13614,     0.13714,     0.13814,     0.13914,     0.14014,     0.14114,     0.14214,     0.14314,\n",
       "           0.14414,     0.14515,     0.14615,     0.14715,     0.14815,     0.14915,     0.15015,     0.15115,     0.15215,     0.15315,     0.15415,     0.15516,     0.15616,     0.15716,     0.15816,     0.15916,     0.16016,     0.16116,     0.16216,     0.16316,     0.16416,     0.16517,     0.16617,     0.16717,\n",
       "           0.16817,     0.16917,     0.17017,     0.17117,     0.17217,     0.17317,     0.17417,     0.17518,     0.17618,     0.17718,     0.17818,     0.17918,     0.18018,     0.18118,     0.18218,     0.18318,     0.18418,     0.18519,     0.18619,     0.18719,     0.18819,     0.18919,     0.19019,     0.19119,\n",
       "           0.19219,     0.19319,     0.19419,      0.1952,      0.1962,      0.1972,      0.1982,      0.1992,      0.2002,      0.2012,      0.2022,      0.2032,      0.2042,     0.20521,     0.20621,     0.20721,     0.20821,     0.20921,     0.21021,     0.21121,     0.21221,     0.21321,     0.21421,     0.21522,\n",
       "           0.21622,     0.21722,     0.21822,     0.21922,     0.22022,     0.22122,     0.22222,     0.22322,     0.22422,     0.22523,     0.22623,     0.22723,     0.22823,     0.22923,     0.23023,     0.23123,     0.23223,     0.23323,     0.23423,     0.23524,     0.23624,     0.23724,     0.23824,     0.23924,\n",
       "           0.24024,     0.24124,     0.24224,     0.24324,     0.24424,     0.24525,     0.24625,     0.24725,     0.24825,     0.24925,     0.25025,     0.25125,     0.25225,     0.25325,     0.25425,     0.25526,     0.25626,     0.25726,     0.25826,     0.25926,     0.26026,     0.26126,     0.26226,     0.26326,\n",
       "           0.26426,     0.26527,     0.26627,     0.26727,     0.26827,     0.26927,     0.27027,     0.27127,     0.27227,     0.27327,     0.27427,     0.27528,     0.27628,     0.27728,     0.27828,     0.27928,     0.28028,     0.28128,     0.28228,     0.28328,     0.28428,     0.28529,     0.28629,     0.28729,\n",
       "           0.28829,     0.28929,     0.29029,     0.29129,     0.29229,     0.29329,     0.29429,      0.2953,      0.2963,      0.2973,      0.2983,      0.2993,      0.3003,      0.3013,      0.3023,      0.3033,      0.3043,     0.30531,     0.30631,     0.30731,     0.30831,     0.30931,     0.31031,     0.31131,\n",
       "           0.31231,     0.31331,     0.31431,     0.31532,     0.31632,     0.31732,     0.31832,     0.31932,     0.32032,     0.32132,     0.32232,     0.32332,     0.32432,     0.32533,     0.32633,     0.32733,     0.32833,     0.32933,     0.33033,     0.33133,     0.33233,     0.33333,     0.33433,     0.33534,\n",
       "           0.33634,     0.33734,     0.33834,     0.33934,     0.34034,     0.34134,     0.34234,     0.34334,     0.34434,     0.34535,     0.34635,     0.34735,     0.34835,     0.34935,     0.35035,     0.35135,     0.35235,     0.35335,     0.35435,     0.35536,     0.35636,     0.35736,     0.35836,     0.35936,\n",
       "           0.36036,     0.36136,     0.36236,     0.36336,     0.36436,     0.36537,     0.36637,     0.36737,     0.36837,     0.36937,     0.37037,     0.37137,     0.37237,     0.37337,     0.37437,     0.37538,     0.37638,     0.37738,     0.37838,     0.37938,     0.38038,     0.38138,     0.38238,     0.38338,\n",
       "           0.38438,     0.38539,     0.38639,     0.38739,     0.38839,     0.38939,     0.39039,     0.39139,     0.39239,     0.39339,     0.39439,      0.3954,      0.3964,      0.3974,      0.3984,      0.3994,      0.4004,      0.4014,      0.4024,      0.4034,      0.4044,     0.40541,     0.40641,     0.40741,\n",
       "           0.40841,     0.40941,     0.41041,     0.41141,     0.41241,     0.41341,     0.41441,     0.41542,     0.41642,     0.41742,     0.41842,     0.41942,     0.42042,     0.42142,     0.42242,     0.42342,     0.42442,     0.42543,     0.42643,     0.42743,     0.42843,     0.42943,     0.43043,     0.43143,\n",
       "           0.43243,     0.43343,     0.43443,     0.43544,     0.43644,     0.43744,     0.43844,     0.43944,     0.44044,     0.44144,     0.44244,     0.44344,     0.44444,     0.44545,     0.44645,     0.44745,     0.44845,     0.44945,     0.45045,     0.45145,     0.45245,     0.45345,     0.45445,     0.45546,\n",
       "           0.45646,     0.45746,     0.45846,     0.45946,     0.46046,     0.46146,     0.46246,     0.46346,     0.46446,     0.46547,     0.46647,     0.46747,     0.46847,     0.46947,     0.47047,     0.47147,     0.47247,     0.47347,     0.47447,     0.47548,     0.47648,     0.47748,     0.47848,     0.47948,\n",
       "           0.48048,     0.48148,     0.48248,     0.48348,     0.48448,     0.48549,     0.48649,     0.48749,     0.48849,     0.48949,     0.49049,     0.49149,     0.49249,     0.49349,     0.49449,      0.4955,      0.4965,      0.4975,      0.4985,      0.4995,      0.5005,      0.5015,      0.5025,      0.5035,\n",
       "            0.5045,     0.50551,     0.50651,     0.50751,     0.50851,     0.50951,     0.51051,     0.51151,     0.51251,     0.51351,     0.51451,     0.51552,     0.51652,     0.51752,     0.51852,     0.51952,     0.52052,     0.52152,     0.52252,     0.52352,     0.52452,     0.52553,     0.52653,     0.52753,\n",
       "           0.52853,     0.52953,     0.53053,     0.53153,     0.53253,     0.53353,     0.53453,     0.53554,     0.53654,     0.53754,     0.53854,     0.53954,     0.54054,     0.54154,     0.54254,     0.54354,     0.54454,     0.54555,     0.54655,     0.54755,     0.54855,     0.54955,     0.55055,     0.55155,\n",
       "           0.55255,     0.55355,     0.55455,     0.55556,     0.55656,     0.55756,     0.55856,     0.55956,     0.56056,     0.56156,     0.56256,     0.56356,     0.56456,     0.56557,     0.56657,     0.56757,     0.56857,     0.56957,     0.57057,     0.57157,     0.57257,     0.57357,     0.57457,     0.57558,\n",
       "           0.57658,     0.57758,     0.57858,     0.57958,     0.58058,     0.58158,     0.58258,     0.58358,     0.58458,     0.58559,     0.58659,     0.58759,     0.58859,     0.58959,     0.59059,     0.59159,     0.59259,     0.59359,     0.59459,      0.5956,      0.5966,      0.5976,      0.5986,      0.5996,\n",
       "            0.6006,      0.6016,      0.6026,      0.6036,      0.6046,     0.60561,     0.60661,     0.60761,     0.60861,     0.60961,     0.61061,     0.61161,     0.61261,     0.61361,     0.61461,     0.61562,     0.61662,     0.61762,     0.61862,     0.61962,     0.62062,     0.62162,     0.62262,     0.62362,\n",
       "           0.62462,     0.62563,     0.62663,     0.62763,     0.62863,     0.62963,     0.63063,     0.63163,     0.63263,     0.63363,     0.63463,     0.63564,     0.63664,     0.63764,     0.63864,     0.63964,     0.64064,     0.64164,     0.64264,     0.64364,     0.64464,     0.64565,     0.64665,     0.64765,\n",
       "           0.64865,     0.64965,     0.65065,     0.65165,     0.65265,     0.65365,     0.65465,     0.65566,     0.65666,     0.65766,     0.65866,     0.65966,     0.66066,     0.66166,     0.66266,     0.66366,     0.66466,     0.66567,     0.66667,     0.66767,     0.66867,     0.66967,     0.67067,     0.67167,\n",
       "           0.67267,     0.67367,     0.67467,     0.67568,     0.67668,     0.67768,     0.67868,     0.67968,     0.68068,     0.68168,     0.68268,     0.68368,     0.68468,     0.68569,     0.68669,     0.68769,     0.68869,     0.68969,     0.69069,     0.69169,     0.69269,     0.69369,     0.69469,      0.6957,\n",
       "            0.6967,      0.6977,      0.6987,      0.6997,      0.7007,      0.7017,      0.7027,      0.7037,      0.7047,     0.70571,     0.70671,     0.70771,     0.70871,     0.70971,     0.71071,     0.71171,     0.71271,     0.71371,     0.71471,     0.71572,     0.71672,     0.71772,     0.71872,     0.71972,\n",
       "           0.72072,     0.72172,     0.72272,     0.72372,     0.72472,     0.72573,     0.72673,     0.72773,     0.72873,     0.72973,     0.73073,     0.73173,     0.73273,     0.73373,     0.73473,     0.73574,     0.73674,     0.73774,     0.73874,     0.73974,     0.74074,     0.74174,     0.74274,     0.74374,\n",
       "           0.74474,     0.74575,     0.74675,     0.74775,     0.74875,     0.74975,     0.75075,     0.75175,     0.75275,     0.75375,     0.75475,     0.75576,     0.75676,     0.75776,     0.75876,     0.75976,     0.76076,     0.76176,     0.76276,     0.76376,     0.76476,     0.76577,     0.76677,     0.76777,\n",
       "           0.76877,     0.76977,     0.77077,     0.77177,     0.77277,     0.77377,     0.77477,     0.77578,     0.77678,     0.77778,     0.77878,     0.77978,     0.78078,     0.78178,     0.78278,     0.78378,     0.78478,     0.78579,     0.78679,     0.78779,     0.78879,     0.78979,     0.79079,     0.79179,\n",
       "           0.79279,     0.79379,     0.79479,      0.7958,      0.7968,      0.7978,      0.7988,      0.7998,      0.8008,      0.8018,      0.8028,      0.8038,      0.8048,     0.80581,     0.80681,     0.80781,     0.80881,     0.80981,     0.81081,     0.81181,     0.81281,     0.81381,     0.81481,     0.81582,\n",
       "           0.81682,     0.81782,     0.81882,     0.81982,     0.82082,     0.82182,     0.82282,     0.82382,     0.82482,     0.82583,     0.82683,     0.82783,     0.82883,     0.82983,     0.83083,     0.83183,     0.83283,     0.83383,     0.83483,     0.83584,     0.83684,     0.83784,     0.83884,     0.83984,\n",
       "           0.84084,     0.84184,     0.84284,     0.84384,     0.84484,     0.84585,     0.84685,     0.84785,     0.84885,     0.84985,     0.85085,     0.85185,     0.85285,     0.85385,     0.85485,     0.85586,     0.85686,     0.85786,     0.85886,     0.85986,     0.86086,     0.86186,     0.86286,     0.86386,\n",
       "           0.86486,     0.86587,     0.86687,     0.86787,     0.86887,     0.86987,     0.87087,     0.87187,     0.87287,     0.87387,     0.87487,     0.87588,     0.87688,     0.87788,     0.87888,     0.87988,     0.88088,     0.88188,     0.88288,     0.88388,     0.88488,     0.88589,     0.88689,     0.88789,\n",
       "           0.88889,     0.88989,     0.89089,     0.89189,     0.89289,     0.89389,     0.89489,      0.8959,      0.8969,      0.8979,      0.8989,      0.8999,      0.9009,      0.9019,      0.9029,      0.9039,      0.9049,     0.90591,     0.90691,     0.90791,     0.90891,     0.90991,     0.91091,     0.91191,\n",
       "           0.91291,     0.91391,     0.91491,     0.91592,     0.91692,     0.91792,     0.91892,     0.91992,     0.92092,     0.92192,     0.92292,     0.92392,     0.92492,     0.92593,     0.92693,     0.92793,     0.92893,     0.92993,     0.93093,     0.93193,     0.93293,     0.93393,     0.93493,     0.93594,\n",
       "           0.93694,     0.93794,     0.93894,     0.93994,     0.94094,     0.94194,     0.94294,     0.94394,     0.94494,     0.94595,     0.94695,     0.94795,     0.94895,     0.94995,     0.95095,     0.95195,     0.95295,     0.95395,     0.95495,     0.95596,     0.95696,     0.95796,     0.95896,     0.95996,\n",
       "           0.96096,     0.96196,     0.96296,     0.96396,     0.96496,     0.96597,     0.96697,     0.96797,     0.96897,     0.96997,     0.97097,     0.97197,     0.97297,     0.97397,     0.97497,     0.97598,     0.97698,     0.97798,     0.97898,     0.97998,     0.98098,     0.98198,     0.98298,     0.98398,\n",
       "           0.98498,     0.98599,     0.98699,     0.98799,     0.98899,     0.98999,     0.99099,     0.99199,     0.99299,     0.99399,     0.99499,       0.996,       0.997,       0.998,       0.999,           1]), array([[   0.021924,    0.021989,     0.23904,     0.53996,      0.7777,     0.86766,     0.90598,     0.91834,     0.93809,     0.94959,     0.95848,     0.96676,     0.97558,     0.97844,     0.98127,     0.98408,     0.98687,     0.98766,     0.98768,     0.98769,     0.98771,     0.98772,     0.98774,\n",
       "            0.98775,     0.98776,     0.98778,     0.98779,     0.98781,     0.98782,     0.98784,     0.98785,     0.98786,     0.98788,     0.98789,     0.98791,     0.98792,     0.98794,     0.98795,     0.98796,     0.98798,     0.98799,     0.98801,     0.98802,     0.98804,     0.98805,     0.98806,\n",
       "            0.98808,     0.98809,     0.98811,     0.98812,     0.98814,     0.98815,     0.98816,     0.98818,     0.98819,     0.98821,     0.98822,     0.98824,     0.98825,     0.98826,     0.98828,     0.98829,     0.98831,     0.98832,     0.98834,     0.98835,     0.98836,     0.98838,     0.98839,\n",
       "            0.98841,     0.98842,     0.98844,     0.98845,     0.98846,     0.98848,     0.98849,     0.98851,     0.98852,     0.98854,     0.98855,     0.98856,     0.98858,     0.98859,     0.98861,     0.98862,     0.98864,     0.98865,     0.98866,     0.98868,     0.98869,     0.98871,     0.98872,\n",
       "            0.98874,     0.98875,     0.98876,     0.98878,     0.98879,     0.98881,     0.98882,     0.98883,     0.98885,     0.98886,     0.98888,     0.98889,     0.98891,     0.98892,     0.98893,     0.98895,     0.98896,     0.98898,     0.98899,     0.98901,     0.98902,     0.98903,     0.98905,\n",
       "            0.98906,     0.98908,     0.98909,     0.98911,     0.98912,     0.98913,     0.98915,     0.98916,     0.98918,     0.98919,     0.98921,     0.98922,     0.98923,     0.98925,     0.98926,     0.98928,     0.98929,     0.98931,     0.98932,     0.98933,     0.98935,     0.98936,     0.98938,\n",
       "            0.98939,      0.9894,     0.98942,     0.98943,     0.98945,     0.98946,     0.98948,     0.98949,      0.9895,     0.98952,     0.98953,     0.98955,     0.98956,     0.98958,     0.98959,      0.9896,     0.98962,     0.98963,     0.98965,     0.98966,     0.98968,     0.98969,      0.9897,\n",
       "            0.98972,     0.98973,     0.98975,     0.98976,     0.98977,     0.98979,      0.9898,     0.98982,     0.98983,     0.98985,     0.98986,     0.98987,     0.98989,      0.9899,     0.98992,     0.98993,     0.98995,     0.98996,     0.98997,     0.98999,        0.99,     0.99002,     0.99003,\n",
       "            0.99005,     0.99006,     0.99007,     0.99009,      0.9901,     0.99012,     0.99013,     0.99014,     0.99016,     0.99017,     0.99019,      0.9902,     0.99022,     0.99023,     0.99024,     0.99026,     0.99027,     0.99029,      0.9903,     0.99032,     0.99033,     0.99034,     0.99036,\n",
       "            0.99037,     0.99039,      0.9904,     0.99041,     0.99043,     0.99044,     0.99046,     0.99047,     0.99049,      0.9905,     0.99051,     0.99053,     0.99054,     0.99056,     0.99057,     0.99059,      0.9906,     0.99061,     0.99063,     0.99064,     0.99066,     0.99067,     0.99068,\n",
       "             0.9907,     0.99071,     0.99073,     0.99074,     0.99076,     0.99077,     0.99078,      0.9908,     0.99081,     0.99083,     0.99084,     0.99086,     0.99087,     0.99088,      0.9909,     0.99091,     0.99093,     0.99094,     0.99095,     0.99097,     0.99098,       0.991,     0.99101,\n",
       "            0.99103,     0.99104,     0.99105,     0.99107,     0.99108,      0.9911,     0.99111,     0.99113,     0.99114,     0.99115,     0.99117,     0.99118,      0.9912,     0.99121,     0.99122,     0.99124,     0.99125,     0.99127,     0.99128,      0.9913,     0.99131,     0.99132,     0.99134,\n",
       "            0.99135,     0.99137,     0.99138,     0.99139,     0.99141,     0.99142,     0.99144,     0.99145,     0.99147,     0.99148,     0.99149,     0.99151,     0.99152,     0.99154,     0.99155,     0.99156,     0.99158,     0.99159,     0.99161,     0.99162,     0.99164,     0.99165,     0.99166,\n",
       "            0.99168,     0.99169,     0.99171,     0.99172,     0.99173,     0.99175,     0.99176,     0.99178,     0.99179,     0.99181,     0.99182,     0.99183,     0.99185,     0.99186,     0.99188,     0.99189,      0.9919,     0.99192,     0.99193,     0.99195,     0.99196,     0.99198,     0.99199,\n",
       "              0.992,     0.99202,     0.99203,     0.99205,     0.99206,     0.99207,     0.99209,      0.9921,     0.99212,     0.99213,     0.99215,     0.99216,     0.99217,     0.99219,      0.9922,     0.99222,     0.99223,     0.99224,     0.99226,     0.99227,     0.99229,      0.9923,     0.99232,\n",
       "            0.99233,     0.99234,     0.99236,     0.99237,     0.99239,      0.9924,     0.99241,     0.99243,     0.99244,     0.99246,     0.99247,     0.99249,      0.9925,     0.99251,     0.99253,     0.99254,     0.99256,     0.99257,     0.99258,      0.9926,     0.99261,     0.99263,     0.99264,\n",
       "            0.99266,     0.99267,     0.99268,      0.9927,     0.99271,     0.99273,     0.99274,     0.99275,     0.99277,     0.99278,      0.9928,     0.99281,     0.99283,     0.99284,     0.99285,     0.99287,     0.99288,      0.9929,     0.99291,     0.99292,     0.99294,     0.99295,     0.99297,\n",
       "            0.99298,     0.99299,     0.99301,     0.99302,     0.99304,     0.99305,     0.99307,     0.99308,     0.99309,     0.99311,     0.99312,     0.99314,     0.99315,     0.99316,     0.99318,     0.99319,     0.99321,     0.99322,     0.99324,     0.99325,     0.99326,     0.99328,     0.99329,\n",
       "            0.99331,     0.99332,     0.99333,     0.99335,     0.99336,     0.99338,     0.99339,      0.9934,     0.99342,     0.99343,     0.99345,     0.99346,     0.99348,     0.99349,      0.9935,     0.99352,     0.99353,     0.99355,     0.99356,     0.99357,     0.99359,      0.9936,     0.99362,\n",
       "            0.99363,     0.99364,     0.99366,     0.99367,     0.99369,      0.9937,     0.99372,     0.99373,     0.99374,     0.99376,     0.99377,     0.99379,      0.9938,     0.99381,     0.99383,     0.99384,     0.99386,     0.99387,     0.99388,      0.9939,     0.99391,     0.99393,     0.99394,\n",
       "            0.99396,     0.99397,     0.99398,       0.994,     0.99401,     0.99403,     0.99404,     0.99405,     0.99407,     0.99408,      0.9941,     0.99411,     0.99412,     0.99414,     0.99415,     0.99417,     0.99418,      0.9942,     0.99421,     0.99422,     0.99424,     0.99425,     0.99427,\n",
       "            0.99428,     0.99429,     0.99431,     0.99432,     0.99434,     0.99435,     0.99436,     0.99438,     0.99439,     0.99441,     0.99442,     0.99443,     0.99445,     0.99446,     0.99448,     0.99449,     0.99451,     0.99452,     0.99453,     0.99455,     0.99456,     0.99458,     0.99459,\n",
       "             0.9946,     0.99462,     0.99463,     0.99465,     0.99466,     0.99467,     0.99469,      0.9947,     0.99472,     0.99473,     0.99475,     0.99476,     0.99477,     0.99479,      0.9948,     0.99482,     0.99483,     0.99484,     0.99486,     0.99487,     0.99489,      0.9949,     0.99491,\n",
       "            0.99493,     0.99494,     0.99496,     0.99497,     0.99498,       0.995,     0.99501,     0.99503,     0.99504,     0.99505,     0.99507,     0.99508,      0.9951,     0.99511,     0.99513,     0.99514,     0.99515,     0.99517,     0.99518,      0.9952,     0.99521,     0.99522,     0.99524,\n",
       "            0.99525,     0.99527,     0.99528,     0.99529,     0.99531,     0.99532,     0.99534,     0.99535,     0.99536,     0.99538,     0.99539,     0.99541,     0.99542,     0.99543,     0.99545,     0.99546,     0.99548,     0.99549,     0.99551,     0.99552,     0.99553,     0.99555,     0.99556,\n",
       "            0.99558,     0.99559,      0.9956,     0.99562,     0.99563,     0.99565,     0.99566,     0.99567,     0.99569,      0.9957,     0.99572,     0.99573,     0.99574,     0.99576,     0.99577,     0.99579,      0.9958,     0.99581,     0.99583,     0.99584,     0.99586,     0.99587,     0.99589,\n",
       "             0.9959,     0.99591,     0.99593,     0.99594,     0.99596,     0.99597,     0.99598,       0.996,     0.99601,     0.99603,     0.99604,     0.99605,     0.99607,     0.99608,      0.9961,     0.99611,     0.99612,     0.99614,     0.99615,     0.99617,     0.99618,     0.99619,     0.99621,\n",
       "            0.99622,     0.99624,     0.99625,     0.99626,     0.99628,     0.99629,     0.99631,     0.99632,     0.99633,     0.99635,     0.99636,     0.99638,     0.99639,      0.9964,     0.99642,     0.99643,     0.99645,     0.99646,     0.99648,     0.99649,      0.9965,     0.99652,     0.99653,\n",
       "            0.99655,     0.99656,     0.99657,     0.99659,      0.9966,     0.99662,     0.99663,     0.99664,     0.99666,     0.99667,     0.99669,      0.9967,     0.99671,     0.99673,     0.99674,     0.99676,     0.99677,     0.99678,      0.9968,     0.99681,     0.99683,     0.99684,     0.99685,\n",
       "            0.99687,     0.99688,      0.9969,     0.99691,     0.99692,     0.99694,     0.99695,     0.99697,     0.99698,     0.99699,     0.99701,     0.99702,     0.99704,     0.99705,     0.99706,     0.99708,     0.99709,     0.99711,     0.99712,     0.99713,     0.99715,     0.99716,     0.99718,\n",
       "            0.99719,      0.9972,     0.99722,     0.99723,     0.99725,     0.99726,     0.99727,     0.99729,      0.9973,     0.99732,     0.99733,     0.99734,     0.99736,     0.99737,     0.99739,      0.9974,     0.99742,     0.99743,     0.99744,     0.99746,     0.99747,     0.99749,      0.9975,\n",
       "            0.99751,     0.99753,     0.99754,     0.99756,     0.99757,     0.99758,      0.9976,     0.99761,     0.99763,     0.99764,     0.99765,     0.99767,     0.99768,      0.9977,     0.99771,     0.99772,     0.99774,     0.99775,     0.99777,     0.99778,     0.99779,     0.99781,     0.99782,\n",
       "            0.99784,     0.99785,     0.99786,     0.99788,     0.99789,     0.99791,     0.99792,     0.99793,     0.99795,     0.99796,     0.99798,     0.99799,       0.998,     0.99802,     0.99803,     0.99805,     0.99806,     0.99807,     0.99809,      0.9981,     0.99812,     0.99813,     0.99814,\n",
       "            0.99816,     0.99817,     0.99819,      0.9982,     0.99821,     0.99823,     0.99824,     0.99826,     0.99827,     0.99828,      0.9983,     0.99831,     0.99833,     0.99834,     0.99835,     0.99837,     0.99838,      0.9984,     0.99841,     0.99842,     0.99844,     0.99845,     0.99847,\n",
       "            0.99848,     0.99849,     0.99851,     0.99852,     0.99853,     0.99855,     0.99856,     0.99858,     0.99859,      0.9986,     0.99862,     0.99863,     0.99865,     0.99866,     0.99867,     0.99869,      0.9987,     0.99872,     0.99873,     0.99874,     0.99876,     0.99877,     0.99879,\n",
       "             0.9988,     0.99881,     0.99883,     0.99884,     0.99886,     0.99887,     0.99888,      0.9989,     0.99891,     0.99893,     0.99894,     0.99895,     0.99897,     0.99898,       0.999,     0.99901,     0.99902,     0.99904,     0.99905,     0.99907,     0.99908,     0.99909,     0.99911,\n",
       "            0.99912,     0.99914,     0.99915,     0.99916,     0.99918,     0.99919,     0.99921,     0.99922,     0.99923,     0.99925,     0.99926,     0.99928,     0.99929,      0.9993,     0.99932,     0.99933,     0.99935,     0.99936,     0.99937,     0.99939,      0.9994,     0.99942,     0.99943,\n",
       "            0.99944,     0.99946,     0.99947,     0.99948,      0.9995,     0.99951,     0.99953,     0.99954,     0.99955,     0.99957,     0.99958,      0.9996,     0.99961,     0.99962,     0.99964,     0.99965,     0.99967,     0.99968,     0.99969,     0.99971,     0.99972,     0.99974,     0.99975,\n",
       "            0.99976,     0.99978,     0.99979,     0.99981,     0.99982,     0.99983,     0.99985,     0.99986,     0.99988,     0.99989,      0.9999,     0.99992,     0.99993,     0.99995,     0.99996,     0.99997,     0.99999,     0.99963,     0.99502,     0.99037,     0.97528,     0.97371,     0.97303,\n",
       "            0.97236,     0.97169,     0.97101,     0.97034,     0.96966,     0.96899,     0.96831,     0.96763,     0.96695,     0.96627,     0.96559,      0.9649,     0.96422,     0.96354,     0.96285,     0.96216,     0.96148,     0.95931,     0.95448,     0.94962,     0.94039,     0.93252,     0.93074,\n",
       "            0.92896,     0.92718,     0.92539,     0.92359,     0.92179,     0.91998,     0.91055,      0.8875,     0.87775,     0.87171,     0.86889,     0.86605,     0.86319,     0.86033,     0.85744,      0.8217,     0.80469,     0.79904,     0.79332,     0.77117,     0.75719,     0.70958,     0.68708,\n",
       "             0.6815,     0.67587,     0.67019,     0.62704,      0.5898,     0.53851,     0.51368,     0.50388,     0.49395,     0.43223,     0.38918,     0.36293,     0.34999,     0.33684,      0.3295,     0.32425,     0.31898,     0.31367,     0.30833,     0.30295,     0.29579,     0.25576,     0.19773,\n",
       "            0.16386,     0.10534,    0.080934,     0.06407,           0,           0,           0,           0,           0,           0,           0,           0,           0,           0,           0,           0,           0,           0,           0,           0,           0,           0,           0,\n",
       "                  0,           0,           0,           0,           0,           0,           0,           0,           0,           0,           0]]), 'Confidence', 'F1'], [array([          0,    0.001001,    0.002002,    0.003003,    0.004004,    0.005005,    0.006006,    0.007007,    0.008008,    0.009009,     0.01001,    0.011011,    0.012012,    0.013013,    0.014014,    0.015015,    0.016016,    0.017017,    0.018018,    0.019019,     0.02002,    0.021021,    0.022022,    0.023023,\n",
       "          0.024024,    0.025025,    0.026026,    0.027027,    0.028028,    0.029029,     0.03003,    0.031031,    0.032032,    0.033033,    0.034034,    0.035035,    0.036036,    0.037037,    0.038038,    0.039039,     0.04004,    0.041041,    0.042042,    0.043043,    0.044044,    0.045045,    0.046046,    0.047047,\n",
       "          0.048048,    0.049049,     0.05005,    0.051051,    0.052052,    0.053053,    0.054054,    0.055055,    0.056056,    0.057057,    0.058058,    0.059059,     0.06006,    0.061061,    0.062062,    0.063063,    0.064064,    0.065065,    0.066066,    0.067067,    0.068068,    0.069069,     0.07007,    0.071071,\n",
       "          0.072072,    0.073073,    0.074074,    0.075075,    0.076076,    0.077077,    0.078078,    0.079079,     0.08008,    0.081081,    0.082082,    0.083083,    0.084084,    0.085085,    0.086086,    0.087087,    0.088088,    0.089089,     0.09009,    0.091091,    0.092092,    0.093093,    0.094094,    0.095095,\n",
       "          0.096096,    0.097097,    0.098098,    0.099099,      0.1001,      0.1011,      0.1021,      0.1031,      0.1041,     0.10511,     0.10611,     0.10711,     0.10811,     0.10911,     0.11011,     0.11111,     0.11211,     0.11311,     0.11411,     0.11512,     0.11612,     0.11712,     0.11812,     0.11912,\n",
       "           0.12012,     0.12112,     0.12212,     0.12312,     0.12412,     0.12513,     0.12613,     0.12713,     0.12813,     0.12913,     0.13013,     0.13113,     0.13213,     0.13313,     0.13413,     0.13514,     0.13614,     0.13714,     0.13814,     0.13914,     0.14014,     0.14114,     0.14214,     0.14314,\n",
       "           0.14414,     0.14515,     0.14615,     0.14715,     0.14815,     0.14915,     0.15015,     0.15115,     0.15215,     0.15315,     0.15415,     0.15516,     0.15616,     0.15716,     0.15816,     0.15916,     0.16016,     0.16116,     0.16216,     0.16316,     0.16416,     0.16517,     0.16617,     0.16717,\n",
       "           0.16817,     0.16917,     0.17017,     0.17117,     0.17217,     0.17317,     0.17417,     0.17518,     0.17618,     0.17718,     0.17818,     0.17918,     0.18018,     0.18118,     0.18218,     0.18318,     0.18418,     0.18519,     0.18619,     0.18719,     0.18819,     0.18919,     0.19019,     0.19119,\n",
       "           0.19219,     0.19319,     0.19419,      0.1952,      0.1962,      0.1972,      0.1982,      0.1992,      0.2002,      0.2012,      0.2022,      0.2032,      0.2042,     0.20521,     0.20621,     0.20721,     0.20821,     0.20921,     0.21021,     0.21121,     0.21221,     0.21321,     0.21421,     0.21522,\n",
       "           0.21622,     0.21722,     0.21822,     0.21922,     0.22022,     0.22122,     0.22222,     0.22322,     0.22422,     0.22523,     0.22623,     0.22723,     0.22823,     0.22923,     0.23023,     0.23123,     0.23223,     0.23323,     0.23423,     0.23524,     0.23624,     0.23724,     0.23824,     0.23924,\n",
       "           0.24024,     0.24124,     0.24224,     0.24324,     0.24424,     0.24525,     0.24625,     0.24725,     0.24825,     0.24925,     0.25025,     0.25125,     0.25225,     0.25325,     0.25425,     0.25526,     0.25626,     0.25726,     0.25826,     0.25926,     0.26026,     0.26126,     0.26226,     0.26326,\n",
       "           0.26426,     0.26527,     0.26627,     0.26727,     0.26827,     0.26927,     0.27027,     0.27127,     0.27227,     0.27327,     0.27427,     0.27528,     0.27628,     0.27728,     0.27828,     0.27928,     0.28028,     0.28128,     0.28228,     0.28328,     0.28428,     0.28529,     0.28629,     0.28729,\n",
       "           0.28829,     0.28929,     0.29029,     0.29129,     0.29229,     0.29329,     0.29429,      0.2953,      0.2963,      0.2973,      0.2983,      0.2993,      0.3003,      0.3013,      0.3023,      0.3033,      0.3043,     0.30531,     0.30631,     0.30731,     0.30831,     0.30931,     0.31031,     0.31131,\n",
       "           0.31231,     0.31331,     0.31431,     0.31532,     0.31632,     0.31732,     0.31832,     0.31932,     0.32032,     0.32132,     0.32232,     0.32332,     0.32432,     0.32533,     0.32633,     0.32733,     0.32833,     0.32933,     0.33033,     0.33133,     0.33233,     0.33333,     0.33433,     0.33534,\n",
       "           0.33634,     0.33734,     0.33834,     0.33934,     0.34034,     0.34134,     0.34234,     0.34334,     0.34434,     0.34535,     0.34635,     0.34735,     0.34835,     0.34935,     0.35035,     0.35135,     0.35235,     0.35335,     0.35435,     0.35536,     0.35636,     0.35736,     0.35836,     0.35936,\n",
       "           0.36036,     0.36136,     0.36236,     0.36336,     0.36436,     0.36537,     0.36637,     0.36737,     0.36837,     0.36937,     0.37037,     0.37137,     0.37237,     0.37337,     0.37437,     0.37538,     0.37638,     0.37738,     0.37838,     0.37938,     0.38038,     0.38138,     0.38238,     0.38338,\n",
       "           0.38438,     0.38539,     0.38639,     0.38739,     0.38839,     0.38939,     0.39039,     0.39139,     0.39239,     0.39339,     0.39439,      0.3954,      0.3964,      0.3974,      0.3984,      0.3994,      0.4004,      0.4014,      0.4024,      0.4034,      0.4044,     0.40541,     0.40641,     0.40741,\n",
       "           0.40841,     0.40941,     0.41041,     0.41141,     0.41241,     0.41341,     0.41441,     0.41542,     0.41642,     0.41742,     0.41842,     0.41942,     0.42042,     0.42142,     0.42242,     0.42342,     0.42442,     0.42543,     0.42643,     0.42743,     0.42843,     0.42943,     0.43043,     0.43143,\n",
       "           0.43243,     0.43343,     0.43443,     0.43544,     0.43644,     0.43744,     0.43844,     0.43944,     0.44044,     0.44144,     0.44244,     0.44344,     0.44444,     0.44545,     0.44645,     0.44745,     0.44845,     0.44945,     0.45045,     0.45145,     0.45245,     0.45345,     0.45445,     0.45546,\n",
       "           0.45646,     0.45746,     0.45846,     0.45946,     0.46046,     0.46146,     0.46246,     0.46346,     0.46446,     0.46547,     0.46647,     0.46747,     0.46847,     0.46947,     0.47047,     0.47147,     0.47247,     0.47347,     0.47447,     0.47548,     0.47648,     0.47748,     0.47848,     0.47948,\n",
       "           0.48048,     0.48148,     0.48248,     0.48348,     0.48448,     0.48549,     0.48649,     0.48749,     0.48849,     0.48949,     0.49049,     0.49149,     0.49249,     0.49349,     0.49449,      0.4955,      0.4965,      0.4975,      0.4985,      0.4995,      0.5005,      0.5015,      0.5025,      0.5035,\n",
       "            0.5045,     0.50551,     0.50651,     0.50751,     0.50851,     0.50951,     0.51051,     0.51151,     0.51251,     0.51351,     0.51451,     0.51552,     0.51652,     0.51752,     0.51852,     0.51952,     0.52052,     0.52152,     0.52252,     0.52352,     0.52452,     0.52553,     0.52653,     0.52753,\n",
       "           0.52853,     0.52953,     0.53053,     0.53153,     0.53253,     0.53353,     0.53453,     0.53554,     0.53654,     0.53754,     0.53854,     0.53954,     0.54054,     0.54154,     0.54254,     0.54354,     0.54454,     0.54555,     0.54655,     0.54755,     0.54855,     0.54955,     0.55055,     0.55155,\n",
       "           0.55255,     0.55355,     0.55455,     0.55556,     0.55656,     0.55756,     0.55856,     0.55956,     0.56056,     0.56156,     0.56256,     0.56356,     0.56456,     0.56557,     0.56657,     0.56757,     0.56857,     0.56957,     0.57057,     0.57157,     0.57257,     0.57357,     0.57457,     0.57558,\n",
       "           0.57658,     0.57758,     0.57858,     0.57958,     0.58058,     0.58158,     0.58258,     0.58358,     0.58458,     0.58559,     0.58659,     0.58759,     0.58859,     0.58959,     0.59059,     0.59159,     0.59259,     0.59359,     0.59459,      0.5956,      0.5966,      0.5976,      0.5986,      0.5996,\n",
       "            0.6006,      0.6016,      0.6026,      0.6036,      0.6046,     0.60561,     0.60661,     0.60761,     0.60861,     0.60961,     0.61061,     0.61161,     0.61261,     0.61361,     0.61461,     0.61562,     0.61662,     0.61762,     0.61862,     0.61962,     0.62062,     0.62162,     0.62262,     0.62362,\n",
       "           0.62462,     0.62563,     0.62663,     0.62763,     0.62863,     0.62963,     0.63063,     0.63163,     0.63263,     0.63363,     0.63463,     0.63564,     0.63664,     0.63764,     0.63864,     0.63964,     0.64064,     0.64164,     0.64264,     0.64364,     0.64464,     0.64565,     0.64665,     0.64765,\n",
       "           0.64865,     0.64965,     0.65065,     0.65165,     0.65265,     0.65365,     0.65465,     0.65566,     0.65666,     0.65766,     0.65866,     0.65966,     0.66066,     0.66166,     0.66266,     0.66366,     0.66466,     0.66567,     0.66667,     0.66767,     0.66867,     0.66967,     0.67067,     0.67167,\n",
       "           0.67267,     0.67367,     0.67467,     0.67568,     0.67668,     0.67768,     0.67868,     0.67968,     0.68068,     0.68168,     0.68268,     0.68368,     0.68468,     0.68569,     0.68669,     0.68769,     0.68869,     0.68969,     0.69069,     0.69169,     0.69269,     0.69369,     0.69469,      0.6957,\n",
       "            0.6967,      0.6977,      0.6987,      0.6997,      0.7007,      0.7017,      0.7027,      0.7037,      0.7047,     0.70571,     0.70671,     0.70771,     0.70871,     0.70971,     0.71071,     0.71171,     0.71271,     0.71371,     0.71471,     0.71572,     0.71672,     0.71772,     0.71872,     0.71972,\n",
       "           0.72072,     0.72172,     0.72272,     0.72372,     0.72472,     0.72573,     0.72673,     0.72773,     0.72873,     0.72973,     0.73073,     0.73173,     0.73273,     0.73373,     0.73473,     0.73574,     0.73674,     0.73774,     0.73874,     0.73974,     0.74074,     0.74174,     0.74274,     0.74374,\n",
       "           0.74474,     0.74575,     0.74675,     0.74775,     0.74875,     0.74975,     0.75075,     0.75175,     0.75275,     0.75375,     0.75475,     0.75576,     0.75676,     0.75776,     0.75876,     0.75976,     0.76076,     0.76176,     0.76276,     0.76376,     0.76476,     0.76577,     0.76677,     0.76777,\n",
       "           0.76877,     0.76977,     0.77077,     0.77177,     0.77277,     0.77377,     0.77477,     0.77578,     0.77678,     0.77778,     0.77878,     0.77978,     0.78078,     0.78178,     0.78278,     0.78378,     0.78478,     0.78579,     0.78679,     0.78779,     0.78879,     0.78979,     0.79079,     0.79179,\n",
       "           0.79279,     0.79379,     0.79479,      0.7958,      0.7968,      0.7978,      0.7988,      0.7998,      0.8008,      0.8018,      0.8028,      0.8038,      0.8048,     0.80581,     0.80681,     0.80781,     0.80881,     0.80981,     0.81081,     0.81181,     0.81281,     0.81381,     0.81481,     0.81582,\n",
       "           0.81682,     0.81782,     0.81882,     0.81982,     0.82082,     0.82182,     0.82282,     0.82382,     0.82482,     0.82583,     0.82683,     0.82783,     0.82883,     0.82983,     0.83083,     0.83183,     0.83283,     0.83383,     0.83483,     0.83584,     0.83684,     0.83784,     0.83884,     0.83984,\n",
       "           0.84084,     0.84184,     0.84284,     0.84384,     0.84484,     0.84585,     0.84685,     0.84785,     0.84885,     0.84985,     0.85085,     0.85185,     0.85285,     0.85385,     0.85485,     0.85586,     0.85686,     0.85786,     0.85886,     0.85986,     0.86086,     0.86186,     0.86286,     0.86386,\n",
       "           0.86486,     0.86587,     0.86687,     0.86787,     0.86887,     0.86987,     0.87087,     0.87187,     0.87287,     0.87387,     0.87487,     0.87588,     0.87688,     0.87788,     0.87888,     0.87988,     0.88088,     0.88188,     0.88288,     0.88388,     0.88488,     0.88589,     0.88689,     0.88789,\n",
       "           0.88889,     0.88989,     0.89089,     0.89189,     0.89289,     0.89389,     0.89489,      0.8959,      0.8969,      0.8979,      0.8989,      0.8999,      0.9009,      0.9019,      0.9029,      0.9039,      0.9049,     0.90591,     0.90691,     0.90791,     0.90891,     0.90991,     0.91091,     0.91191,\n",
       "           0.91291,     0.91391,     0.91491,     0.91592,     0.91692,     0.91792,     0.91892,     0.91992,     0.92092,     0.92192,     0.92292,     0.92392,     0.92492,     0.92593,     0.92693,     0.92793,     0.92893,     0.92993,     0.93093,     0.93193,     0.93293,     0.93393,     0.93493,     0.93594,\n",
       "           0.93694,     0.93794,     0.93894,     0.93994,     0.94094,     0.94194,     0.94294,     0.94394,     0.94494,     0.94595,     0.94695,     0.94795,     0.94895,     0.94995,     0.95095,     0.95195,     0.95295,     0.95395,     0.95495,     0.95596,     0.95696,     0.95796,     0.95896,     0.95996,\n",
       "           0.96096,     0.96196,     0.96296,     0.96396,     0.96496,     0.96597,     0.96697,     0.96797,     0.96897,     0.96997,     0.97097,     0.97197,     0.97297,     0.97397,     0.97497,     0.97598,     0.97698,     0.97798,     0.97898,     0.97998,     0.98098,     0.98198,     0.98298,     0.98398,\n",
       "           0.98498,     0.98599,     0.98699,     0.98799,     0.98899,     0.98999,     0.99099,     0.99199,     0.99299,     0.99399,     0.99499,       0.996,       0.997,       0.998,       0.999,           1]), array([[   0.011083,    0.011117,     0.13574,     0.36983,     0.63626,     0.76625,     0.82811,     0.84901,     0.88341,     0.90401,     0.92028,     0.93565,     0.95232,     0.95779,     0.96322,     0.96866,     0.97409,     0.97563,     0.97566,     0.97569,     0.97571,     0.97574,     0.97577,\n",
       "             0.9758,     0.97583,     0.97585,     0.97588,     0.97591,     0.97594,     0.97596,     0.97599,     0.97602,     0.97605,     0.97608,      0.9761,     0.97613,     0.97616,     0.97619,     0.97622,     0.97624,     0.97627,      0.9763,     0.97633,     0.97635,     0.97638,     0.97641,\n",
       "            0.97644,     0.97647,     0.97649,     0.97652,     0.97655,     0.97658,     0.97661,     0.97663,     0.97666,     0.97669,     0.97672,     0.97675,     0.97677,      0.9768,     0.97683,     0.97686,     0.97688,     0.97691,     0.97694,     0.97697,       0.977,     0.97702,     0.97705,\n",
       "            0.97708,     0.97711,     0.97714,     0.97716,     0.97719,     0.97722,     0.97725,     0.97728,      0.9773,     0.97733,     0.97736,     0.97739,     0.97741,     0.97744,     0.97747,      0.9775,     0.97753,     0.97755,     0.97758,     0.97761,     0.97764,     0.97767,     0.97769,\n",
       "            0.97772,     0.97775,     0.97778,      0.9778,     0.97783,     0.97786,     0.97789,     0.97792,     0.97794,     0.97797,       0.978,     0.97803,     0.97806,     0.97808,     0.97811,     0.97814,     0.97817,      0.9782,     0.97822,     0.97825,     0.97828,     0.97831,     0.97833,\n",
       "            0.97836,     0.97839,     0.97842,     0.97845,     0.97847,      0.9785,     0.97853,     0.97856,     0.97859,     0.97861,     0.97864,     0.97867,      0.9787,     0.97873,     0.97875,     0.97878,     0.97881,     0.97884,     0.97886,     0.97889,     0.97892,     0.97895,     0.97898,\n",
       "              0.979,     0.97903,     0.97906,     0.97909,     0.97912,     0.97914,     0.97917,      0.9792,     0.97923,     0.97926,     0.97928,     0.97931,     0.97934,     0.97937,     0.97939,     0.97942,     0.97945,     0.97948,     0.97951,     0.97953,     0.97956,     0.97959,     0.97962,\n",
       "            0.97965,     0.97967,      0.9797,     0.97973,     0.97976,     0.97978,     0.97981,     0.97984,     0.97987,      0.9799,     0.97992,     0.97995,     0.97998,     0.98001,     0.98004,     0.98006,     0.98009,     0.98012,     0.98015,     0.98018,      0.9802,     0.98023,     0.98026,\n",
       "            0.98029,     0.98031,     0.98034,     0.98037,      0.9804,     0.98043,     0.98045,     0.98048,     0.98051,     0.98054,     0.98057,     0.98059,     0.98062,     0.98065,     0.98068,     0.98071,     0.98073,     0.98076,     0.98079,     0.98082,     0.98084,     0.98087,      0.9809,\n",
       "            0.98093,     0.98096,     0.98098,     0.98101,     0.98104,     0.98107,      0.9811,     0.98112,     0.98115,     0.98118,     0.98121,     0.98123,     0.98126,     0.98129,     0.98132,     0.98135,     0.98137,      0.9814,     0.98143,     0.98146,     0.98149,     0.98151,     0.98154,\n",
       "            0.98157,      0.9816,     0.98163,     0.98165,     0.98168,     0.98171,     0.98174,     0.98176,     0.98179,     0.98182,     0.98185,     0.98188,      0.9819,     0.98193,     0.98196,     0.98199,     0.98202,     0.98204,     0.98207,      0.9821,     0.98213,     0.98216,     0.98218,\n",
       "            0.98221,     0.98224,     0.98227,     0.98229,     0.98232,     0.98235,     0.98238,     0.98241,     0.98243,     0.98246,     0.98249,     0.98252,     0.98255,     0.98257,      0.9826,     0.98263,     0.98266,     0.98269,     0.98271,     0.98274,     0.98277,      0.9828,     0.98282,\n",
       "            0.98285,     0.98288,     0.98291,     0.98294,     0.98296,     0.98299,     0.98302,     0.98305,     0.98308,      0.9831,     0.98313,     0.98316,     0.98319,     0.98321,     0.98324,     0.98327,      0.9833,     0.98333,     0.98335,     0.98338,     0.98341,     0.98344,     0.98347,\n",
       "            0.98349,     0.98352,     0.98355,     0.98358,     0.98361,     0.98363,     0.98366,     0.98369,     0.98372,     0.98374,     0.98377,      0.9838,     0.98383,     0.98386,     0.98388,     0.98391,     0.98394,     0.98397,       0.984,     0.98402,     0.98405,     0.98408,     0.98411,\n",
       "            0.98414,     0.98416,     0.98419,     0.98422,     0.98425,     0.98427,      0.9843,     0.98433,     0.98436,     0.98439,     0.98441,     0.98444,     0.98447,      0.9845,     0.98453,     0.98455,     0.98458,     0.98461,     0.98464,     0.98466,     0.98469,     0.98472,     0.98475,\n",
       "            0.98478,      0.9848,     0.98483,     0.98486,     0.98489,     0.98492,     0.98494,     0.98497,       0.985,     0.98503,     0.98506,     0.98508,     0.98511,     0.98514,     0.98517,     0.98519,     0.98522,     0.98525,     0.98528,     0.98531,     0.98533,     0.98536,     0.98539,\n",
       "            0.98542,     0.98545,     0.98547,      0.9855,     0.98553,     0.98556,     0.98559,     0.98561,     0.98564,     0.98567,      0.9857,     0.98572,     0.98575,     0.98578,     0.98581,     0.98584,     0.98586,     0.98589,     0.98592,     0.98595,     0.98598,       0.986,     0.98603,\n",
       "            0.98606,     0.98609,     0.98611,     0.98614,     0.98617,      0.9862,     0.98623,     0.98625,     0.98628,     0.98631,     0.98634,     0.98637,     0.98639,     0.98642,     0.98645,     0.98648,     0.98651,     0.98653,     0.98656,     0.98659,     0.98662,     0.98664,     0.98667,\n",
       "             0.9867,     0.98673,     0.98676,     0.98678,     0.98681,     0.98684,     0.98687,      0.9869,     0.98692,     0.98695,     0.98698,     0.98701,     0.98704,     0.98706,     0.98709,     0.98712,     0.98715,     0.98717,      0.9872,     0.98723,     0.98726,     0.98729,     0.98731,\n",
       "            0.98734,     0.98737,      0.9874,     0.98743,     0.98745,     0.98748,     0.98751,     0.98754,     0.98757,     0.98759,     0.98762,     0.98765,     0.98768,      0.9877,     0.98773,     0.98776,     0.98779,     0.98782,     0.98784,     0.98787,      0.9879,     0.98793,     0.98796,\n",
       "            0.98798,     0.98801,     0.98804,     0.98807,     0.98809,     0.98812,     0.98815,     0.98818,     0.98821,     0.98823,     0.98826,     0.98829,     0.98832,     0.98835,     0.98837,      0.9884,     0.98843,     0.98846,     0.98849,     0.98851,     0.98854,     0.98857,      0.9886,\n",
       "            0.98862,     0.98865,     0.98868,     0.98871,     0.98874,     0.98876,     0.98879,     0.98882,     0.98885,     0.98888,      0.9889,     0.98893,     0.98896,     0.98899,     0.98902,     0.98904,     0.98907,      0.9891,     0.98913,     0.98915,     0.98918,     0.98921,     0.98924,\n",
       "            0.98927,     0.98929,     0.98932,     0.98935,     0.98938,     0.98941,     0.98943,     0.98946,     0.98949,     0.98952,     0.98954,     0.98957,      0.9896,     0.98963,     0.98966,     0.98968,     0.98971,     0.98974,     0.98977,      0.9898,     0.98982,     0.98985,     0.98988,\n",
       "            0.98991,     0.98994,     0.98996,     0.98999,     0.99002,     0.99005,     0.99007,      0.9901,     0.99013,     0.99016,     0.99019,     0.99021,     0.99024,     0.99027,      0.9903,     0.99033,     0.99035,     0.99038,     0.99041,     0.99044,     0.99047,     0.99049,     0.99052,\n",
       "            0.99055,     0.99058,      0.9906,     0.99063,     0.99066,     0.99069,     0.99072,     0.99074,     0.99077,      0.9908,     0.99083,     0.99086,     0.99088,     0.99091,     0.99094,     0.99097,       0.991,     0.99102,     0.99105,     0.99108,     0.99111,     0.99113,     0.99116,\n",
       "            0.99119,     0.99122,     0.99125,     0.99127,      0.9913,     0.99133,     0.99136,     0.99139,     0.99141,     0.99144,     0.99147,      0.9915,     0.99152,     0.99155,     0.99158,     0.99161,     0.99164,     0.99166,     0.99169,     0.99172,     0.99175,     0.99178,      0.9918,\n",
       "            0.99183,     0.99186,     0.99189,     0.99192,     0.99194,     0.99197,       0.992,     0.99203,     0.99205,     0.99208,     0.99211,     0.99214,     0.99217,     0.99219,     0.99222,     0.99225,     0.99228,     0.99231,     0.99233,     0.99236,     0.99239,     0.99242,     0.99245,\n",
       "            0.99247,      0.9925,     0.99253,     0.99256,     0.99258,     0.99261,     0.99264,     0.99267,      0.9927,     0.99272,     0.99275,     0.99278,     0.99281,     0.99284,     0.99286,     0.99289,     0.99292,     0.99295,     0.99297,       0.993,     0.99303,     0.99306,     0.99309,\n",
       "            0.99311,     0.99314,     0.99317,      0.9932,     0.99323,     0.99325,     0.99328,     0.99331,     0.99334,     0.99337,     0.99339,     0.99342,     0.99345,     0.99348,      0.9935,     0.99353,     0.99356,     0.99359,     0.99362,     0.99364,     0.99367,      0.9937,     0.99373,\n",
       "            0.99376,     0.99378,     0.99381,     0.99384,     0.99387,      0.9939,     0.99392,     0.99395,     0.99398,     0.99401,     0.99403,     0.99406,     0.99409,     0.99412,     0.99415,     0.99417,      0.9942,     0.99423,     0.99426,     0.99429,     0.99431,     0.99434,     0.99437,\n",
       "             0.9944,     0.99443,     0.99445,     0.99448,     0.99451,     0.99454,     0.99456,     0.99459,     0.99462,     0.99465,     0.99468,      0.9947,     0.99473,     0.99476,     0.99479,     0.99482,     0.99484,     0.99487,      0.9949,     0.99493,     0.99495,     0.99498,     0.99501,\n",
       "            0.99504,     0.99507,     0.99509,     0.99512,     0.99515,     0.99518,     0.99521,     0.99523,     0.99526,     0.99529,     0.99532,     0.99535,     0.99537,      0.9954,     0.99543,     0.99546,     0.99548,     0.99551,     0.99554,     0.99557,      0.9956,     0.99562,     0.99565,\n",
       "            0.99568,     0.99571,     0.99574,     0.99576,     0.99579,     0.99582,     0.99585,     0.99588,      0.9959,     0.99593,     0.99596,     0.99599,     0.99601,     0.99604,     0.99607,      0.9961,     0.99613,     0.99615,     0.99618,     0.99621,     0.99624,     0.99627,     0.99629,\n",
       "            0.99632,     0.99635,     0.99638,      0.9964,     0.99643,     0.99646,     0.99649,     0.99652,     0.99654,     0.99657,      0.9966,     0.99663,     0.99666,     0.99668,     0.99671,     0.99674,     0.99677,      0.9968,     0.99682,     0.99685,     0.99688,     0.99691,     0.99693,\n",
       "            0.99696,     0.99699,     0.99702,     0.99705,     0.99707,      0.9971,     0.99713,     0.99716,     0.99719,     0.99721,     0.99724,     0.99727,      0.9973,     0.99733,     0.99735,     0.99738,     0.99741,     0.99744,     0.99746,     0.99749,     0.99752,     0.99755,     0.99758,\n",
       "             0.9976,     0.99763,     0.99766,     0.99769,     0.99772,     0.99774,     0.99777,      0.9978,     0.99783,     0.99786,     0.99788,     0.99791,     0.99794,     0.99797,     0.99799,     0.99802,     0.99805,     0.99808,     0.99811,     0.99813,     0.99816,     0.99819,     0.99822,\n",
       "            0.99825,     0.99827,      0.9983,     0.99833,     0.99836,     0.99838,     0.99841,     0.99844,     0.99847,      0.9985,     0.99852,     0.99855,     0.99858,     0.99861,     0.99864,     0.99866,     0.99869,     0.99872,     0.99875,     0.99878,      0.9988,     0.99883,     0.99886,\n",
       "            0.99889,     0.99891,     0.99894,     0.99897,       0.999,     0.99903,     0.99905,     0.99908,     0.99911,     0.99914,     0.99917,     0.99919,     0.99922,     0.99925,     0.99928,     0.99931,     0.99933,     0.99936,     0.99939,     0.99942,     0.99944,     0.99947,      0.9995,\n",
       "            0.99953,     0.99956,     0.99958,     0.99961,     0.99964,     0.99967,      0.9997,     0.99972,     0.99975,     0.99978,     0.99981,     0.99983,     0.99986,     0.99989,     0.99992,     0.99995,     0.99997,           1,           1,           1,           1,           1,           1,\n",
       "                  1,           1,           1,           1,           1,           1,           1,           1,           1,           1,           1,           1,           1,           1,           1,           1,           1,           1,           1,           1,           1,           1,           1,\n",
       "                  1,           1,           1,           1,           1,           1,           1,           1,           1,           1,           1,           1,           1,           1,           1,           1,           1,           1,           1,           1,           1,           1,           1,\n",
       "                  1,           1,           1,           1,           1,           1,           1,           1,           1,           1,           1,           1,           1,           1,           1,           1,           1,           1,           1,           1,           1,           1,           1,\n",
       "                  1,           1,           1,           1,           1,           1,           1,           1,           1,           1,           1,           1,           1,           1,           1,           1,           1,           1,           1,           1,           1,           1,           1,\n",
       "                  1,           1,           1,           1,           1,           1,           1,           1,           1,           1,           1]]), 'Confidence', 'Precision'], [array([          0,    0.001001,    0.002002,    0.003003,    0.004004,    0.005005,    0.006006,    0.007007,    0.008008,    0.009009,     0.01001,    0.011011,    0.012012,    0.013013,    0.014014,    0.015015,    0.016016,    0.017017,    0.018018,    0.019019,     0.02002,    0.021021,    0.022022,    0.023023,\n",
       "          0.024024,    0.025025,    0.026026,    0.027027,    0.028028,    0.029029,     0.03003,    0.031031,    0.032032,    0.033033,    0.034034,    0.035035,    0.036036,    0.037037,    0.038038,    0.039039,     0.04004,    0.041041,    0.042042,    0.043043,    0.044044,    0.045045,    0.046046,    0.047047,\n",
       "          0.048048,    0.049049,     0.05005,    0.051051,    0.052052,    0.053053,    0.054054,    0.055055,    0.056056,    0.057057,    0.058058,    0.059059,     0.06006,    0.061061,    0.062062,    0.063063,    0.064064,    0.065065,    0.066066,    0.067067,    0.068068,    0.069069,     0.07007,    0.071071,\n",
       "          0.072072,    0.073073,    0.074074,    0.075075,    0.076076,    0.077077,    0.078078,    0.079079,     0.08008,    0.081081,    0.082082,    0.083083,    0.084084,    0.085085,    0.086086,    0.087087,    0.088088,    0.089089,     0.09009,    0.091091,    0.092092,    0.093093,    0.094094,    0.095095,\n",
       "          0.096096,    0.097097,    0.098098,    0.099099,      0.1001,      0.1011,      0.1021,      0.1031,      0.1041,     0.10511,     0.10611,     0.10711,     0.10811,     0.10911,     0.11011,     0.11111,     0.11211,     0.11311,     0.11411,     0.11512,     0.11612,     0.11712,     0.11812,     0.11912,\n",
       "           0.12012,     0.12112,     0.12212,     0.12312,     0.12412,     0.12513,     0.12613,     0.12713,     0.12813,     0.12913,     0.13013,     0.13113,     0.13213,     0.13313,     0.13413,     0.13514,     0.13614,     0.13714,     0.13814,     0.13914,     0.14014,     0.14114,     0.14214,     0.14314,\n",
       "           0.14414,     0.14515,     0.14615,     0.14715,     0.14815,     0.14915,     0.15015,     0.15115,     0.15215,     0.15315,     0.15415,     0.15516,     0.15616,     0.15716,     0.15816,     0.15916,     0.16016,     0.16116,     0.16216,     0.16316,     0.16416,     0.16517,     0.16617,     0.16717,\n",
       "           0.16817,     0.16917,     0.17017,     0.17117,     0.17217,     0.17317,     0.17417,     0.17518,     0.17618,     0.17718,     0.17818,     0.17918,     0.18018,     0.18118,     0.18218,     0.18318,     0.18418,     0.18519,     0.18619,     0.18719,     0.18819,     0.18919,     0.19019,     0.19119,\n",
       "           0.19219,     0.19319,     0.19419,      0.1952,      0.1962,      0.1972,      0.1982,      0.1992,      0.2002,      0.2012,      0.2022,      0.2032,      0.2042,     0.20521,     0.20621,     0.20721,     0.20821,     0.20921,     0.21021,     0.21121,     0.21221,     0.21321,     0.21421,     0.21522,\n",
       "           0.21622,     0.21722,     0.21822,     0.21922,     0.22022,     0.22122,     0.22222,     0.22322,     0.22422,     0.22523,     0.22623,     0.22723,     0.22823,     0.22923,     0.23023,     0.23123,     0.23223,     0.23323,     0.23423,     0.23524,     0.23624,     0.23724,     0.23824,     0.23924,\n",
       "           0.24024,     0.24124,     0.24224,     0.24324,     0.24424,     0.24525,     0.24625,     0.24725,     0.24825,     0.24925,     0.25025,     0.25125,     0.25225,     0.25325,     0.25425,     0.25526,     0.25626,     0.25726,     0.25826,     0.25926,     0.26026,     0.26126,     0.26226,     0.26326,\n",
       "           0.26426,     0.26527,     0.26627,     0.26727,     0.26827,     0.26927,     0.27027,     0.27127,     0.27227,     0.27327,     0.27427,     0.27528,     0.27628,     0.27728,     0.27828,     0.27928,     0.28028,     0.28128,     0.28228,     0.28328,     0.28428,     0.28529,     0.28629,     0.28729,\n",
       "           0.28829,     0.28929,     0.29029,     0.29129,     0.29229,     0.29329,     0.29429,      0.2953,      0.2963,      0.2973,      0.2983,      0.2993,      0.3003,      0.3013,      0.3023,      0.3033,      0.3043,     0.30531,     0.30631,     0.30731,     0.30831,     0.30931,     0.31031,     0.31131,\n",
       "           0.31231,     0.31331,     0.31431,     0.31532,     0.31632,     0.31732,     0.31832,     0.31932,     0.32032,     0.32132,     0.32232,     0.32332,     0.32432,     0.32533,     0.32633,     0.32733,     0.32833,     0.32933,     0.33033,     0.33133,     0.33233,     0.33333,     0.33433,     0.33534,\n",
       "           0.33634,     0.33734,     0.33834,     0.33934,     0.34034,     0.34134,     0.34234,     0.34334,     0.34434,     0.34535,     0.34635,     0.34735,     0.34835,     0.34935,     0.35035,     0.35135,     0.35235,     0.35335,     0.35435,     0.35536,     0.35636,     0.35736,     0.35836,     0.35936,\n",
       "           0.36036,     0.36136,     0.36236,     0.36336,     0.36436,     0.36537,     0.36637,     0.36737,     0.36837,     0.36937,     0.37037,     0.37137,     0.37237,     0.37337,     0.37437,     0.37538,     0.37638,     0.37738,     0.37838,     0.37938,     0.38038,     0.38138,     0.38238,     0.38338,\n",
       "           0.38438,     0.38539,     0.38639,     0.38739,     0.38839,     0.38939,     0.39039,     0.39139,     0.39239,     0.39339,     0.39439,      0.3954,      0.3964,      0.3974,      0.3984,      0.3994,      0.4004,      0.4014,      0.4024,      0.4034,      0.4044,     0.40541,     0.40641,     0.40741,\n",
       "           0.40841,     0.40941,     0.41041,     0.41141,     0.41241,     0.41341,     0.41441,     0.41542,     0.41642,     0.41742,     0.41842,     0.41942,     0.42042,     0.42142,     0.42242,     0.42342,     0.42442,     0.42543,     0.42643,     0.42743,     0.42843,     0.42943,     0.43043,     0.43143,\n",
       "           0.43243,     0.43343,     0.43443,     0.43544,     0.43644,     0.43744,     0.43844,     0.43944,     0.44044,     0.44144,     0.44244,     0.44344,     0.44444,     0.44545,     0.44645,     0.44745,     0.44845,     0.44945,     0.45045,     0.45145,     0.45245,     0.45345,     0.45445,     0.45546,\n",
       "           0.45646,     0.45746,     0.45846,     0.45946,     0.46046,     0.46146,     0.46246,     0.46346,     0.46446,     0.46547,     0.46647,     0.46747,     0.46847,     0.46947,     0.47047,     0.47147,     0.47247,     0.47347,     0.47447,     0.47548,     0.47648,     0.47748,     0.47848,     0.47948,\n",
       "           0.48048,     0.48148,     0.48248,     0.48348,     0.48448,     0.48549,     0.48649,     0.48749,     0.48849,     0.48949,     0.49049,     0.49149,     0.49249,     0.49349,     0.49449,      0.4955,      0.4965,      0.4975,      0.4985,      0.4995,      0.5005,      0.5015,      0.5025,      0.5035,\n",
       "            0.5045,     0.50551,     0.50651,     0.50751,     0.50851,     0.50951,     0.51051,     0.51151,     0.51251,     0.51351,     0.51451,     0.51552,     0.51652,     0.51752,     0.51852,     0.51952,     0.52052,     0.52152,     0.52252,     0.52352,     0.52452,     0.52553,     0.52653,     0.52753,\n",
       "           0.52853,     0.52953,     0.53053,     0.53153,     0.53253,     0.53353,     0.53453,     0.53554,     0.53654,     0.53754,     0.53854,     0.53954,     0.54054,     0.54154,     0.54254,     0.54354,     0.54454,     0.54555,     0.54655,     0.54755,     0.54855,     0.54955,     0.55055,     0.55155,\n",
       "           0.55255,     0.55355,     0.55455,     0.55556,     0.55656,     0.55756,     0.55856,     0.55956,     0.56056,     0.56156,     0.56256,     0.56356,     0.56456,     0.56557,     0.56657,     0.56757,     0.56857,     0.56957,     0.57057,     0.57157,     0.57257,     0.57357,     0.57457,     0.57558,\n",
       "           0.57658,     0.57758,     0.57858,     0.57958,     0.58058,     0.58158,     0.58258,     0.58358,     0.58458,     0.58559,     0.58659,     0.58759,     0.58859,     0.58959,     0.59059,     0.59159,     0.59259,     0.59359,     0.59459,      0.5956,      0.5966,      0.5976,      0.5986,      0.5996,\n",
       "            0.6006,      0.6016,      0.6026,      0.6036,      0.6046,     0.60561,     0.60661,     0.60761,     0.60861,     0.60961,     0.61061,     0.61161,     0.61261,     0.61361,     0.61461,     0.61562,     0.61662,     0.61762,     0.61862,     0.61962,     0.62062,     0.62162,     0.62262,     0.62362,\n",
       "           0.62462,     0.62563,     0.62663,     0.62763,     0.62863,     0.62963,     0.63063,     0.63163,     0.63263,     0.63363,     0.63463,     0.63564,     0.63664,     0.63764,     0.63864,     0.63964,     0.64064,     0.64164,     0.64264,     0.64364,     0.64464,     0.64565,     0.64665,     0.64765,\n",
       "           0.64865,     0.64965,     0.65065,     0.65165,     0.65265,     0.65365,     0.65465,     0.65566,     0.65666,     0.65766,     0.65866,     0.65966,     0.66066,     0.66166,     0.66266,     0.66366,     0.66466,     0.66567,     0.66667,     0.66767,     0.66867,     0.66967,     0.67067,     0.67167,\n",
       "           0.67267,     0.67367,     0.67467,     0.67568,     0.67668,     0.67768,     0.67868,     0.67968,     0.68068,     0.68168,     0.68268,     0.68368,     0.68468,     0.68569,     0.68669,     0.68769,     0.68869,     0.68969,     0.69069,     0.69169,     0.69269,     0.69369,     0.69469,      0.6957,\n",
       "            0.6967,      0.6977,      0.6987,      0.6997,      0.7007,      0.7017,      0.7027,      0.7037,      0.7047,     0.70571,     0.70671,     0.70771,     0.70871,     0.70971,     0.71071,     0.71171,     0.71271,     0.71371,     0.71471,     0.71572,     0.71672,     0.71772,     0.71872,     0.71972,\n",
       "           0.72072,     0.72172,     0.72272,     0.72372,     0.72472,     0.72573,     0.72673,     0.72773,     0.72873,     0.72973,     0.73073,     0.73173,     0.73273,     0.73373,     0.73473,     0.73574,     0.73674,     0.73774,     0.73874,     0.73974,     0.74074,     0.74174,     0.74274,     0.74374,\n",
       "           0.74474,     0.74575,     0.74675,     0.74775,     0.74875,     0.74975,     0.75075,     0.75175,     0.75275,     0.75375,     0.75475,     0.75576,     0.75676,     0.75776,     0.75876,     0.75976,     0.76076,     0.76176,     0.76276,     0.76376,     0.76476,     0.76577,     0.76677,     0.76777,\n",
       "           0.76877,     0.76977,     0.77077,     0.77177,     0.77277,     0.77377,     0.77477,     0.77578,     0.77678,     0.77778,     0.77878,     0.77978,     0.78078,     0.78178,     0.78278,     0.78378,     0.78478,     0.78579,     0.78679,     0.78779,     0.78879,     0.78979,     0.79079,     0.79179,\n",
       "           0.79279,     0.79379,     0.79479,      0.7958,      0.7968,      0.7978,      0.7988,      0.7998,      0.8008,      0.8018,      0.8028,      0.8038,      0.8048,     0.80581,     0.80681,     0.80781,     0.80881,     0.80981,     0.81081,     0.81181,     0.81281,     0.81381,     0.81481,     0.81582,\n",
       "           0.81682,     0.81782,     0.81882,     0.81982,     0.82082,     0.82182,     0.82282,     0.82382,     0.82482,     0.82583,     0.82683,     0.82783,     0.82883,     0.82983,     0.83083,     0.83183,     0.83283,     0.83383,     0.83483,     0.83584,     0.83684,     0.83784,     0.83884,     0.83984,\n",
       "           0.84084,     0.84184,     0.84284,     0.84384,     0.84484,     0.84585,     0.84685,     0.84785,     0.84885,     0.84985,     0.85085,     0.85185,     0.85285,     0.85385,     0.85485,     0.85586,     0.85686,     0.85786,     0.85886,     0.85986,     0.86086,     0.86186,     0.86286,     0.86386,\n",
       "           0.86486,     0.86587,     0.86687,     0.86787,     0.86887,     0.86987,     0.87087,     0.87187,     0.87287,     0.87387,     0.87487,     0.87588,     0.87688,     0.87788,     0.87888,     0.87988,     0.88088,     0.88188,     0.88288,     0.88388,     0.88488,     0.88589,     0.88689,     0.88789,\n",
       "           0.88889,     0.88989,     0.89089,     0.89189,     0.89289,     0.89389,     0.89489,      0.8959,      0.8969,      0.8979,      0.8989,      0.8999,      0.9009,      0.9019,      0.9029,      0.9039,      0.9049,     0.90591,     0.90691,     0.90791,     0.90891,     0.90991,     0.91091,     0.91191,\n",
       "           0.91291,     0.91391,     0.91491,     0.91592,     0.91692,     0.91792,     0.91892,     0.91992,     0.92092,     0.92192,     0.92292,     0.92392,     0.92492,     0.92593,     0.92693,     0.92793,     0.92893,     0.92993,     0.93093,     0.93193,     0.93293,     0.93393,     0.93493,     0.93594,\n",
       "           0.93694,     0.93794,     0.93894,     0.93994,     0.94094,     0.94194,     0.94294,     0.94394,     0.94494,     0.94595,     0.94695,     0.94795,     0.94895,     0.94995,     0.95095,     0.95195,     0.95295,     0.95395,     0.95495,     0.95596,     0.95696,     0.95796,     0.95896,     0.95996,\n",
       "           0.96096,     0.96196,     0.96296,     0.96396,     0.96496,     0.96597,     0.96697,     0.96797,     0.96897,     0.96997,     0.97097,     0.97197,     0.97297,     0.97397,     0.97497,     0.97598,     0.97698,     0.97798,     0.97898,     0.97998,     0.98098,     0.98198,     0.98298,     0.98398,\n",
       "           0.98498,     0.98599,     0.98699,     0.98799,     0.98899,     0.98999,     0.99099,     0.99199,     0.99299,     0.99399,     0.99499,       0.996,       0.997,       0.998,       0.999,           1]), array([[          1,           1,           1,           1,           1,           1,           1,           1,           1,           1,           1,           1,           1,           1,           1,           1,           1,           1,           1,           1,           1,           1,           1,\n",
       "                  1,           1,           1,           1,           1,           1,           1,           1,           1,           1,           1,           1,           1,           1,           1,           1,           1,           1,           1,           1,           1,           1,           1,\n",
       "                  1,           1,           1,           1,           1,           1,           1,           1,           1,           1,           1,           1,           1,           1,           1,           1,           1,           1,           1,           1,           1,           1,           1,\n",
       "                  1,           1,           1,           1,           1,           1,           1,           1,           1,           1,           1,           1,           1,           1,           1,           1,           1,           1,           1,           1,           1,           1,           1,\n",
       "                  1,           1,           1,           1,           1,           1,           1,           1,           1,           1,           1,           1,           1,           1,           1,           1,           1,           1,           1,           1,           1,           1,           1,\n",
       "                  1,           1,           1,           1,           1,           1,           1,           1,           1,           1,           1,           1,           1,           1,           1,           1,           1,           1,           1,           1,           1,           1,           1,\n",
       "                  1,           1,           1,           1,           1,           1,           1,           1,           1,           1,           1,           1,           1,           1,           1,           1,           1,           1,           1,           1,           1,           1,           1,\n",
       "                  1,           1,           1,           1,           1,           1,           1,           1,           1,           1,           1,           1,           1,           1,           1,           1,           1,           1,           1,           1,           1,           1,           1,\n",
       "                  1,           1,           1,           1,           1,           1,           1,           1,           1,           1,           1,           1,           1,           1,           1,           1,           1,           1,           1,           1,           1,           1,           1,\n",
       "                  1,           1,           1,           1,           1,           1,           1,           1,           1,           1,           1,           1,           1,           1,           1,           1,           1,           1,           1,           1,           1,           1,           1,\n",
       "                  1,           1,           1,           1,           1,           1,           1,           1,           1,           1,           1,           1,           1,           1,           1,           1,           1,           1,           1,           1,           1,           1,           1,\n",
       "                  1,           1,           1,           1,           1,           1,           1,           1,           1,           1,           1,           1,           1,           1,           1,           1,           1,           1,           1,           1,           1,           1,           1,\n",
       "                  1,           1,           1,           1,           1,           1,           1,           1,           1,           1,           1,           1,           1,           1,           1,           1,           1,           1,           1,           1,           1,           1,           1,\n",
       "                  1,           1,           1,           1,           1,           1,           1,           1,           1,           1,           1,           1,           1,           1,           1,           1,           1,           1,           1,           1,           1,           1,           1,\n",
       "                  1,           1,           1,           1,           1,           1,           1,           1,           1,           1,           1,           1,           1,           1,           1,           1,           1,           1,           1,           1,           1,           1,           1,\n",
       "                  1,           1,           1,           1,           1,           1,           1,           1,           1,           1,           1,           1,           1,           1,           1,           1,           1,           1,           1,           1,           1,           1,           1,\n",
       "                  1,           1,           1,           1,           1,           1,           1,           1,           1,           1,           1,           1,           1,           1,           1,           1,           1,           1,           1,           1,           1,           1,           1,\n",
       "                  1,           1,           1,           1,           1,           1,           1,           1,           1,           1,           1,           1,           1,           1,           1,           1,           1,           1,           1,           1,           1,           1,           1,\n",
       "                  1,           1,           1,           1,           1,           1,           1,           1,           1,           1,           1,           1,           1,           1,           1,           1,           1,           1,           1,           1,           1,           1,           1,\n",
       "                  1,           1,           1,           1,           1,           1,           1,           1,           1,           1,           1,           1,           1,           1,           1,           1,           1,           1,           1,           1,           1,           1,           1,\n",
       "                  1,           1,           1,           1,           1,           1,           1,           1,           1,           1,           1,           1,           1,           1,           1,           1,           1,           1,           1,           1,           1,           1,           1,\n",
       "                  1,           1,           1,           1,           1,           1,           1,           1,           1,           1,           1,           1,           1,           1,           1,           1,           1,           1,           1,           1,           1,           1,           1,\n",
       "                  1,           1,           1,           1,           1,           1,           1,           1,           1,           1,           1,           1,           1,           1,           1,           1,           1,           1,           1,           1,           1,           1,           1,\n",
       "                  1,           1,           1,           1,           1,           1,           1,           1,           1,           1,           1,           1,           1,           1,           1,           1,           1,           1,           1,           1,           1,           1,           1,\n",
       "                  1,           1,           1,           1,           1,           1,           1,           1,           1,           1,           1,           1,           1,           1,           1,           1,           1,           1,           1,           1,           1,           1,           1,\n",
       "                  1,           1,           1,           1,           1,           1,           1,           1,           1,           1,           1,           1,           1,           1,           1,           1,           1,           1,           1,           1,           1,           1,           1,\n",
       "                  1,           1,           1,           1,           1,           1,           1,           1,           1,           1,           1,           1,           1,           1,           1,           1,           1,           1,           1,           1,           1,           1,           1,\n",
       "                  1,           1,           1,           1,           1,           1,           1,           1,           1,           1,           1,           1,           1,           1,           1,           1,           1,           1,           1,           1,           1,           1,           1,\n",
       "                  1,           1,           1,           1,           1,           1,           1,           1,           1,           1,           1,           1,           1,           1,           1,           1,           1,           1,           1,           1,           1,           1,           1,\n",
       "                  1,           1,           1,           1,           1,           1,           1,           1,           1,           1,           1,           1,           1,           1,           1,           1,           1,           1,           1,           1,           1,           1,           1,\n",
       "                  1,           1,           1,           1,           1,           1,           1,           1,           1,           1,           1,           1,           1,           1,           1,           1,           1,           1,           1,           1,           1,           1,           1,\n",
       "                  1,           1,           1,           1,           1,           1,           1,           1,           1,           1,           1,           1,           1,           1,           1,           1,           1,           1,           1,           1,           1,           1,           1,\n",
       "                  1,           1,           1,           1,           1,           1,           1,           1,           1,           1,           1,           1,           1,           1,           1,           1,           1,           1,           1,           1,           1,           1,           1,\n",
       "                  1,           1,           1,           1,           1,           1,           1,           1,           1,           1,           1,           1,           1,           1,           1,           1,           1,           1,           1,           1,           1,           1,           1,\n",
       "                  1,           1,           1,           1,           1,           1,           1,           1,           1,           1,           1,           1,           1,           1,           1,           1,           1,           1,           1,           1,           1,           1,           1,\n",
       "                  1,           1,           1,           1,           1,           1,           1,           1,           1,           1,           1,           1,           1,           1,           1,           1,           1,           1,           1,           1,           1,           1,           1,\n",
       "                  1,           1,           1,           1,           1,           1,           1,           1,           1,           1,           1,           1,           1,           1,           1,           1,           1,           1,           1,           1,           1,           1,           1,\n",
       "                  1,           1,           1,           1,           1,           1,           1,           1,           1,           1,           1,           1,           1,           1,           1,           1,           1,           1,           1,           1,           1,           1,           1,\n",
       "                  1,           1,           1,           1,           1,           1,           1,           1,           1,           1,           1,           1,           1,           1,           1,           1,           1,     0.99925,     0.99009,     0.98092,     0.95176,     0.94876,     0.94748,\n",
       "            0.94621,     0.94494,     0.94366,     0.94239,     0.94111,     0.93984,     0.93856,     0.93729,     0.93601,     0.93474,     0.93346,     0.93219,     0.93091,     0.92964,     0.92836,     0.92709,     0.92581,     0.92179,     0.91293,     0.90407,     0.88748,     0.87357,     0.87046,\n",
       "            0.86735,     0.86424,     0.86114,     0.85803,     0.85492,     0.85181,      0.8358,     0.79775,     0.78213,      0.7726,     0.76817,     0.76374,     0.75932,     0.75489,     0.75046,     0.69737,     0.67321,     0.66533,     0.65744,     0.62756,     0.60926,     0.54989,     0.52332,\n",
       "            0.51687,     0.51042,     0.50397,      0.4567,     0.41824,     0.36847,     0.34561,     0.33679,     0.32797,      0.2757,      0.2416,      0.2217,     0.21211,     0.20253,     0.19724,      0.1935,     0.18975,     0.18601,     0.18226,     0.17852,     0.17356,     0.14663,     0.10971,\n",
       "            0.08924,    0.055597,    0.042174,    0.033095,           0,           0,           0,           0,           0,           0,           0,           0,           0,           0,           0,           0,           0,           0,           0,           0,           0,           0,           0,\n",
       "                  0,           0,           0,           0,           0,           0,           0,           0,           0,           0,           0]]), 'Confidence', 'Recall']]\n",
       "fitness: 0.9811630129222398\n",
       "keys: ['metrics/precision(B)', 'metrics/recall(B)', 'metrics/mAP50(B)', 'metrics/mAP50-95(B)']\n",
       "maps: array([    0.97963])\n",
       "names: {0: 'Medicine'}\n",
       "plot: True\n",
       "results_dict: {'metrics/precision(B)': 0.9986079714085679, 'metrics/recall(B)': 1.0, 'metrics/mAP50(B)': 0.995, 'metrics/mAP50-95(B)': 0.9796255699135997, 'fitness': 0.9811630129222398}\n",
       "save_dir: PosixPath('runs/detect/yolov8_custom2')\n",
       "speed: {'preprocess': 1.469498872756958, 'inference': 160.49939393997192, 'loss': 7.748603820800781e-05, 'postprocess': 0.2880513668060303}\n",
       "task: 'detect'"
      ]
     },
     "execution_count": 6,
     "metadata": {},
     "output_type": "execute_result"
    }
   ],
   "source": [
    "model.val()"
   ]
  },
  {
   "cell_type": "code",
   "execution_count": 15,
   "metadata": {},
   "outputs": [
    {
     "name": "stdout",
     "output_type": "stream",
     "text": [
      "\n",
      "image 1/140 /Users/apurvpandey/Documents/Ai4spro/Try_1/dataset/train/images/huawei-cn-1-_jpg.rf.39e88efebb555f4f20dac82b74ea59e1.jpg: 640x640 1 Medicine, 206.2ms\n",
      "image 2/140 /Users/apurvpandey/Documents/Ai4spro/Try_1/dataset/train/images/huawei-cn-100-_jpg.rf.5e7906ff7533272c54c6b090fef52091.jpg: 640x640 1 Medicine, 84.0ms\n",
      "image 3/140 /Users/apurvpandey/Documents/Ai4spro/Try_1/dataset/train/images/huawei-cn-101-_jpg.rf.7de25c1cbf175a253305b99528e4e0df.jpg: 640x640 1 Medicine, 77.1ms\n",
      "image 4/140 /Users/apurvpandey/Documents/Ai4spro/Try_1/dataset/train/images/huawei-cn-102-_jpg.rf.8ba792c69c075c34d8c99521849be409.jpg: 640x640 1 Medicine, 82.3ms\n",
      "image 5/140 /Users/apurvpandey/Documents/Ai4spro/Try_1/dataset/train/images/huawei-cn-103-_jpg.rf.64c833eb3b99855d1ed7905a106790b2.jpg: 640x640 1 Medicine, 68.4ms\n",
      "image 6/140 /Users/apurvpandey/Documents/Ai4spro/Try_1/dataset/train/images/huawei-cn-104-_jpg.rf.3908cdfb6acf693850e3a203bc67a78f.jpg: 640x640 1 Medicine, 68.5ms\n",
      "image 7/140 /Users/apurvpandey/Documents/Ai4spro/Try_1/dataset/train/images/huawei-cn-105-_jpg.rf.0f59ce0dff78540906ddda18285837cd.jpg: 640x640 1 Medicine, 61.9ms\n",
      "image 8/140 /Users/apurvpandey/Documents/Ai4spro/Try_1/dataset/train/images/huawei-cn-107-_jpg.rf.000e92e44ace91c8bccf15678ccf21f4.jpg: 640x640 1 Medicine, 61.8ms\n",
      "image 9/140 /Users/apurvpandey/Documents/Ai4spro/Try_1/dataset/train/images/huawei-cn-108-_jpg.rf.4b103380a943c1726f71c27ed6f71f8c.jpg: 640x640 1 Medicine, 63.9ms\n",
      "image 10/140 /Users/apurvpandey/Documents/Ai4spro/Try_1/dataset/train/images/huawei-cn-11-_jpg.rf.dfa972b479a5aac00ac15a42c79f80d9.jpg: 640x640 1 Medicine, 63.1ms\n",
      "image 11/140 /Users/apurvpandey/Documents/Ai4spro/Try_1/dataset/train/images/huawei-cn-110-_jpg.rf.20cb800ddc50dce5fc89214fadb7ff88.jpg: 640x640 1 Medicine, 63.4ms\n",
      "image 12/140 /Users/apurvpandey/Documents/Ai4spro/Try_1/dataset/train/images/huawei-cn-111-_jpg.rf.03a94733d8c865b819c32d08338b68dd.jpg: 640x640 1 Medicine, 63.3ms\n",
      "image 13/140 /Users/apurvpandey/Documents/Ai4spro/Try_1/dataset/train/images/huawei-cn-112-_jpg.rf.ae17088a45ef480b7e3507fe438d7a26.jpg: 640x640 1 Medicine, 65.8ms\n",
      "image 14/140 /Users/apurvpandey/Documents/Ai4spro/Try_1/dataset/train/images/huawei-cn-113-_jpg.rf.19780d7ed5d7bdcbf6fd0c47324ac53b.jpg: 640x640 1 Medicine, 60.2ms\n",
      "image 15/140 /Users/apurvpandey/Documents/Ai4spro/Try_1/dataset/train/images/huawei-cn-114-_jpg.rf.ba47fa84c3aa01214971f3557aeaefff.jpg: 640x640 1 Medicine, 65.2ms\n",
      "image 16/140 /Users/apurvpandey/Documents/Ai4spro/Try_1/dataset/train/images/huawei-cn-115-_jpg.rf.21f59ab59f45a19b54b5145f537f340c.jpg: 640x640 1 Medicine, 63.2ms\n",
      "image 17/140 /Users/apurvpandey/Documents/Ai4spro/Try_1/dataset/train/images/huawei-cn-117-_jpg.rf.70cc7c78b43eac4ce9111ff1685ddf80.jpg: 640x640 1 Medicine, 63.0ms\n",
      "image 18/140 /Users/apurvpandey/Documents/Ai4spro/Try_1/dataset/train/images/huawei-cn-118-_jpg.rf.7db6564ef2e57a043c92cba24cb991cc.jpg: 640x640 1 Medicine, 65.5ms\n",
      "image 19/140 /Users/apurvpandey/Documents/Ai4spro/Try_1/dataset/train/images/huawei-cn-119-_jpg.rf.bd023a44ab0995627d7ed0a99d590768.jpg: 640x640 1 Medicine, 63.9ms\n",
      "image 20/140 /Users/apurvpandey/Documents/Ai4spro/Try_1/dataset/train/images/huawei-cn-12-_jpg.rf.7c2fded1960e8014ecbe831ca0b34271.jpg: 640x640 1 Medicine, 62.9ms\n",
      "image 21/140 /Users/apurvpandey/Documents/Ai4spro/Try_1/dataset/train/images/huawei-cn-120-_jpg.rf.adebbf6c808649a04863e282d686fb90.jpg: 640x640 1 Medicine, 63.4ms\n",
      "image 22/140 /Users/apurvpandey/Documents/Ai4spro/Try_1/dataset/train/images/huawei-cn-123-_jpg.rf.e2c819427aa4850ccf135a4329f816dc.jpg: 640x640 1 Medicine, 62.9ms\n",
      "image 23/140 /Users/apurvpandey/Documents/Ai4spro/Try_1/dataset/train/images/huawei-cn-124-_jpg.rf.0e96b0df753a62100688f8b08d3144f4.jpg: 640x640 1 Medicine, 62.9ms\n",
      "image 24/140 /Users/apurvpandey/Documents/Ai4spro/Try_1/dataset/train/images/huawei-cn-126-_jpg.rf.58cdaac4c2e708728eaa09378e4f2c72.jpg: 640x640 1 Medicine, 62.2ms\n",
      "image 25/140 /Users/apurvpandey/Documents/Ai4spro/Try_1/dataset/train/images/huawei-cn-127-_jpg.rf.645ee8e73a4c90ccfc5a94942d59cef4.jpg: 640x640 1 Medicine, 63.2ms\n",
      "image 26/140 /Users/apurvpandey/Documents/Ai4spro/Try_1/dataset/train/images/huawei-cn-128-_jpg.rf.af3fda3b0bace8bb14f5e3e41dba4d06.jpg: 640x640 1 Medicine, 65.2ms\n",
      "image 27/140 /Users/apurvpandey/Documents/Ai4spro/Try_1/dataset/train/images/huawei-cn-13-_jpg.rf.d155ce01454047beeac1c9af61722151.jpg: 640x640 1 Medicine, 64.0ms\n",
      "image 28/140 /Users/apurvpandey/Documents/Ai4spro/Try_1/dataset/train/images/huawei-cn-130-_jpg.rf.f356df06bb9eea7dbb915eba10f29bae.jpg: 640x640 1 Medicine, 61.4ms\n",
      "image 29/140 /Users/apurvpandey/Documents/Ai4spro/Try_1/dataset/train/images/huawei-cn-135-_jpg.rf.9ae71442d90e65fcb1255377abd8105d.jpg: 640x640 1 Medicine, 66.3ms\n",
      "image 30/140 /Users/apurvpandey/Documents/Ai4spro/Try_1/dataset/train/images/huawei-cn-136-_jpg.rf.87a4a6b1ef8b48055cbc8186085427f5.jpg: 640x640 1 Medicine, 65.7ms\n",
      "image 31/140 /Users/apurvpandey/Documents/Ai4spro/Try_1/dataset/train/images/huawei-cn-137-_jpg.rf.a23faf82d5ab5026fc75baa7e31a868c.jpg: 640x640 1 Medicine, 65.2ms\n",
      "image 32/140 /Users/apurvpandey/Documents/Ai4spro/Try_1/dataset/train/images/huawei-cn-138-_jpg.rf.8ea3cf1fa80d5f69361099bd46c54c3a.jpg: 640x640 1 Medicine, 65.1ms\n",
      "image 33/140 /Users/apurvpandey/Documents/Ai4spro/Try_1/dataset/train/images/huawei-cn-140-_jpg.rf.57634c0a8b8de89c7843cf37efa815ef.jpg: 640x640 1 Medicine, 76.1ms\n",
      "image 34/140 /Users/apurvpandey/Documents/Ai4spro/Try_1/dataset/train/images/huawei-cn-142-_jpg.rf.618be54c7d50475f70ad0fa8fab24682.jpg: 640x640 1 Medicine, 73.5ms\n",
      "image 35/140 /Users/apurvpandey/Documents/Ai4spro/Try_1/dataset/train/images/huawei-cn-144-_jpg.rf.b4ef296804dfb57f6a0dcac3f04a8d5e.jpg: 640x640 1 Medicine, 70.7ms\n",
      "image 36/140 /Users/apurvpandey/Documents/Ai4spro/Try_1/dataset/train/images/huawei-cn-146-_jpg.rf.3e8a1ea46c8094ea7fe055af771e05ae.jpg: 640x640 1 Medicine, 76.9ms\n",
      "image 37/140 /Users/apurvpandey/Documents/Ai4spro/Try_1/dataset/train/images/huawei-cn-147-_jpg.rf.ef6eaf33381609b2ecf7a83e4b7dc21b.jpg: 640x640 1 Medicine, 71.4ms\n",
      "image 38/140 /Users/apurvpandey/Documents/Ai4spro/Try_1/dataset/train/images/huawei-cn-148-_jpg.rf.3060d14067636d21474f346d17f5e8ad.jpg: 640x640 1 Medicine, 69.8ms\n",
      "image 39/140 /Users/apurvpandey/Documents/Ai4spro/Try_1/dataset/train/images/huawei-cn-15-_jpg.rf.a3f3eb95e8e2c1755bc035294ac5122e.jpg: 640x640 1 Medicine, 61.6ms\n",
      "image 40/140 /Users/apurvpandey/Documents/Ai4spro/Try_1/dataset/train/images/huawei-cn-150-_jpg.rf.f274e2ac15a300c6435a97d528cfa6c6.jpg: 640x640 1 Medicine, 60.4ms\n",
      "image 41/140 /Users/apurvpandey/Documents/Ai4spro/Try_1/dataset/train/images/huawei-cn-151-_jpg.rf.f4193b4f4f293d5ea3719bbbef69b86e.jpg: 640x640 1 Medicine, 61.8ms\n",
      "image 42/140 /Users/apurvpandey/Documents/Ai4spro/Try_1/dataset/train/images/huawei-cn-153-_jpg.rf.dcd07daef5e102701ee7d5eeca94cf0b.jpg: 640x640 1 Medicine, 61.2ms\n",
      "image 43/140 /Users/apurvpandey/Documents/Ai4spro/Try_1/dataset/train/images/huawei-cn-154-_jpg.rf.5830315c441937b269a05f508d5cf5e5.jpg: 640x640 1 Medicine, 59.5ms\n",
      "image 44/140 /Users/apurvpandey/Documents/Ai4spro/Try_1/dataset/train/images/huawei-cn-155-_jpg.rf.a2f41fb6ac231561a8dbb809c22877af.jpg: 640x640 1 Medicine, 59.3ms\n",
      "image 45/140 /Users/apurvpandey/Documents/Ai4spro/Try_1/dataset/train/images/huawei-cn-16-_jpg.rf.f3beb860aec7a5ff7454fb2b90d44337.jpg: 640x640 1 Medicine, 63.3ms\n",
      "image 46/140 /Users/apurvpandey/Documents/Ai4spro/Try_1/dataset/train/images/huawei-cn-160-_jpg.rf.173c029dffe1c48ef1dd86005aee0ab5.jpg: 640x640 1 Medicine, 68.6ms\n",
      "image 47/140 /Users/apurvpandey/Documents/Ai4spro/Try_1/dataset/train/images/huawei-cn-162-_jpg.rf.f6a29c44dc561b8403268f55395e0c05.jpg: 640x640 1 Medicine, 62.3ms\n",
      "image 48/140 /Users/apurvpandey/Documents/Ai4spro/Try_1/dataset/train/images/huawei-cn-18-_jpg.rf.d5d5deb63bdcada7009e7f3e525e6204.jpg: 640x640 1 Medicine, 63.1ms\n",
      "image 49/140 /Users/apurvpandey/Documents/Ai4spro/Try_1/dataset/train/images/huawei-cn-19-_jpg.rf.86cfd4c021db66ccde8d944b14e7cce0.jpg: 640x640 1 Medicine, 65.2ms\n",
      "image 50/140 /Users/apurvpandey/Documents/Ai4spro/Try_1/dataset/train/images/huawei-cn-20-_jpg.rf.07816659274751d6cb214ca7a84f9c42.jpg: 640x640 1 Medicine, 61.9ms\n",
      "image 51/140 /Users/apurvpandey/Documents/Ai4spro/Try_1/dataset/train/images/huawei-cn-21-_jpg.rf.cd9e9330e429dea9412cd7134c1ed53a.jpg: 640x640 1 Medicine, 63.6ms\n",
      "image 52/140 /Users/apurvpandey/Documents/Ai4spro/Try_1/dataset/train/images/huawei-cn-22-_jpg.rf.2af91ef56351715e34d7d7fcb18a19f3.jpg: 640x640 1 Medicine, 61.3ms\n",
      "image 53/140 /Users/apurvpandey/Documents/Ai4spro/Try_1/dataset/train/images/huawei-cn-24-_jpg.rf.fcc34d5f42d284d676b0c6796fa4917c.jpg: 640x640 1 Medicine, 60.7ms\n",
      "image 54/140 /Users/apurvpandey/Documents/Ai4spro/Try_1/dataset/train/images/huawei-cn-25-_jpg.rf.500102a32c57f73c232d59b68b72ce00.jpg: 640x640 1 Medicine, 58.7ms\n",
      "image 55/140 /Users/apurvpandey/Documents/Ai4spro/Try_1/dataset/train/images/huawei-cn-26-_jpg.rf.df87c8f5414fd2ef85a32d14f2670463.jpg: 640x640 1 Medicine, 57.5ms\n",
      "image 56/140 /Users/apurvpandey/Documents/Ai4spro/Try_1/dataset/train/images/huawei-cn-28-_jpg.rf.d9c24c593c4217c62a08127cbf5c4404.jpg: 640x640 1 Medicine, 61.2ms\n",
      "image 57/140 /Users/apurvpandey/Documents/Ai4spro/Try_1/dataset/train/images/huawei-cn-29-_jpg.rf.9bcba4534818248dfc91319373d220ce.jpg: 640x640 1 Medicine, 60.8ms\n",
      "image 58/140 /Users/apurvpandey/Documents/Ai4spro/Try_1/dataset/train/images/huawei-cn-3-_jpg.rf.72d1cb886d15d5b94b30db9235bd8369.jpg: 640x640 1 Medicine, 59.3ms\n",
      "image 59/140 /Users/apurvpandey/Documents/Ai4spro/Try_1/dataset/train/images/huawei-cn-30-_jpg.rf.d8c1e9baa3f2826016150503d8cc9f00.jpg: 640x640 1 Medicine, 58.6ms\n",
      "image 60/140 /Users/apurvpandey/Documents/Ai4spro/Try_1/dataset/train/images/huawei-cn-31-_jpg.rf.d92888f95c6e291534d8c3eb4b00dc25.jpg: 640x640 1 Medicine, 60.2ms\n",
      "image 61/140 /Users/apurvpandey/Documents/Ai4spro/Try_1/dataset/train/images/huawei-cn-32-_jpg.rf.8cc997ec1427305f9ba4a3b05df81d99.jpg: 640x640 1 Medicine, 64.1ms\n",
      "image 62/140 /Users/apurvpandey/Documents/Ai4spro/Try_1/dataset/train/images/huawei-cn-35-_jpg.rf.aa4892184976835ecdcafaa70fb2238e.jpg: 640x640 1 Medicine, 56.3ms\n",
      "image 63/140 /Users/apurvpandey/Documents/Ai4spro/Try_1/dataset/train/images/huawei-cn-37-_jpg.rf.9ffc252eb65ceffac1b9658eb4a484fd.jpg: 640x640 1 Medicine, 60.5ms\n",
      "image 64/140 /Users/apurvpandey/Documents/Ai4spro/Try_1/dataset/train/images/huawei-cn-39-_jpg.rf.73c726002e4f8ad23ef1f8a299059ffd.jpg: 640x640 1 Medicine, 58.4ms\n",
      "image 65/140 /Users/apurvpandey/Documents/Ai4spro/Try_1/dataset/train/images/huawei-cn-40-_jpg.rf.6f33f0a06e34a8bcaab4762474cbe81e.jpg: 640x640 1 Medicine, 61.6ms\n",
      "image 66/140 /Users/apurvpandey/Documents/Ai4spro/Try_1/dataset/train/images/huawei-cn-41-_jpg.rf.9b89ddbf49669fc42431efaeea55e5b2.jpg: 640x640 1 Medicine, 63.5ms\n",
      "image 67/140 /Users/apurvpandey/Documents/Ai4spro/Try_1/dataset/train/images/huawei-cn-45-_jpg.rf.a7109423cc6bbf1f188503d229a4edc1.jpg: 640x640 1 Medicine, 58.7ms\n",
      "image 68/140 /Users/apurvpandey/Documents/Ai4spro/Try_1/dataset/train/images/huawei-cn-46-_jpg.rf.764ace1693ffe1aee7e4dc5dfb552886.jpg: 640x640 1 Medicine, 58.2ms\n",
      "image 69/140 /Users/apurvpandey/Documents/Ai4spro/Try_1/dataset/train/images/huawei-cn-47-_jpg.rf.6acab0083dbb79daec9e0ff3ce9e7838.jpg: 640x640 1 Medicine, 63.2ms\n",
      "image 70/140 /Users/apurvpandey/Documents/Ai4spro/Try_1/dataset/train/images/huawei-cn-5-_jpg.rf.dd35a6b46ee0547b5b073aeac695a97f.jpg: 640x640 1 Medicine, 62.1ms\n",
      "image 71/140 /Users/apurvpandey/Documents/Ai4spro/Try_1/dataset/train/images/huawei-cn-50-_jpg.rf.0dfde31f40f13d6b46a13481b53ff5d1.jpg: 640x640 1 Medicine, 59.7ms\n",
      "image 72/140 /Users/apurvpandey/Documents/Ai4spro/Try_1/dataset/train/images/huawei-cn-51-_jpg.rf.46886b9a32c17f079563d0d571c7dbb0.jpg: 640x640 1 Medicine, 61.3ms\n",
      "image 73/140 /Users/apurvpandey/Documents/Ai4spro/Try_1/dataset/train/images/huawei-cn-52-_jpg.rf.1ab1c898107a169f7f764121ab60ecbc.jpg: 640x640 1 Medicine, 59.7ms\n",
      "image 74/140 /Users/apurvpandey/Documents/Ai4spro/Try_1/dataset/train/images/huawei-cn-53-_jpg.rf.11c860385cbf42db5fac563588a41d4b.jpg: 640x640 1 Medicine, 61.0ms\n",
      "image 75/140 /Users/apurvpandey/Documents/Ai4spro/Try_1/dataset/train/images/huawei-cn-54-_jpg.rf.0445ff87d2735c7e2658d81db8bc743f.jpg: 640x640 1 Medicine, 59.6ms\n",
      "image 76/140 /Users/apurvpandey/Documents/Ai4spro/Try_1/dataset/train/images/huawei-cn-56-_jpg.rf.a4af7c98f963356df6daf59b800e2fb3.jpg: 640x640 1 Medicine, 59.8ms\n",
      "image 77/140 /Users/apurvpandey/Documents/Ai4spro/Try_1/dataset/train/images/huawei-cn-57-_jpg.rf.ffcad7d0d8afecc139ebed5350443d9a.jpg: 640x640 1 Medicine, 60.1ms\n",
      "image 78/140 /Users/apurvpandey/Documents/Ai4spro/Try_1/dataset/train/images/huawei-cn-58-_jpg.rf.da0c2770bf5f844f71b32b8d0a0d90ad.jpg: 640x640 1 Medicine, 61.0ms\n",
      "image 79/140 /Users/apurvpandey/Documents/Ai4spro/Try_1/dataset/train/images/huawei-cn-59-_jpg.rf.4d02650b9e9fba4ad51f72bdcc0c17ad.jpg: 640x640 1 Medicine, 59.5ms\n",
      "image 80/140 /Users/apurvpandey/Documents/Ai4spro/Try_1/dataset/train/images/huawei-cn-6-_jpg.rf.386c3c5ece8605a5876273c9302bb931.jpg: 640x640 1 Medicine, 60.6ms\n",
      "image 81/140 /Users/apurvpandey/Documents/Ai4spro/Try_1/dataset/train/images/huawei-cn-60-_jpg.rf.a76b933a28343826555c6bf261a6eee3.jpg: 640x640 1 Medicine, 61.2ms\n",
      "image 82/140 /Users/apurvpandey/Documents/Ai4spro/Try_1/dataset/train/images/huawei-cn-61-_jpg.rf.9ce217899a239c303c9c2381d20129f8.jpg: 640x640 1 Medicine, 59.7ms\n",
      "image 83/140 /Users/apurvpandey/Documents/Ai4spro/Try_1/dataset/train/images/huawei-cn-62-_jpg.rf.971e91acb4b5a6803e4f6a5102401b71.jpg: 640x640 1 Medicine, 60.9ms\n",
      "image 84/140 /Users/apurvpandey/Documents/Ai4spro/Try_1/dataset/train/images/huawei-cn-63-_jpg.rf.a48753bbb49f3240e2eb4b94ef9d0259.jpg: 640x640 1 Medicine, 62.2ms\n",
      "image 85/140 /Users/apurvpandey/Documents/Ai4spro/Try_1/dataset/train/images/huawei-cn-64-_jpg.rf.3915694c2ba7ce002431f07766664902.jpg: 640x640 1 Medicine, 62.2ms\n",
      "image 86/140 /Users/apurvpandey/Documents/Ai4spro/Try_1/dataset/train/images/huawei-cn-65-_jpg.rf.06371afbbb4d9ab5d720539ff8e52a1f.jpg: 640x640 1 Medicine, 64.4ms\n",
      "image 87/140 /Users/apurvpandey/Documents/Ai4spro/Try_1/dataset/train/images/huawei-cn-67-_jpg.rf.2504830556fb99cc8eccd9d05a3deea6.jpg: 640x640 1 Medicine, 62.9ms\n",
      "image 88/140 /Users/apurvpandey/Documents/Ai4spro/Try_1/dataset/train/images/huawei-cn-68-_jpg.rf.b06015100711553b51ae098707bfc91a.jpg: 640x640 1 Medicine, 63.4ms\n",
      "image 89/140 /Users/apurvpandey/Documents/Ai4spro/Try_1/dataset/train/images/huawei-cn-70-_jpg.rf.a04e47ffc53a98067653b54e12dbb4c9.jpg: 640x640 1 Medicine, 61.8ms\n",
      "image 90/140 /Users/apurvpandey/Documents/Ai4spro/Try_1/dataset/train/images/huawei-cn-73-_jpg.rf.d3a56a80d1884faeda19486f8a7172a0.jpg: 640x640 1 Medicine, 62.5ms\n",
      "image 91/140 /Users/apurvpandey/Documents/Ai4spro/Try_1/dataset/train/images/huawei-cn-75-_jpg.rf.0b737b9b9c822364671be57062f0d1f1.jpg: 640x640 1 Medicine, 61.0ms\n",
      "image 92/140 /Users/apurvpandey/Documents/Ai4spro/Try_1/dataset/train/images/huawei-cn-76-_jpg.rf.ce48baad7067982afb1c4c3ff3d25029.jpg: 640x640 1 Medicine, 62.1ms\n",
      "image 93/140 /Users/apurvpandey/Documents/Ai4spro/Try_1/dataset/train/images/huawei-cn-8-_jpg.rf.0b946fb641a352d71e99e64aff3d9b1c.jpg: 640x640 1 Medicine, 66.2ms\n",
      "image 94/140 /Users/apurvpandey/Documents/Ai4spro/Try_1/dataset/train/images/huawei-cn-81-_jpg.rf.b0623ab3d9a196e260b86ec384adef87.jpg: 640x640 1 Medicine, 60.0ms\n",
      "image 95/140 /Users/apurvpandey/Documents/Ai4spro/Try_1/dataset/train/images/huawei-cn-83-_jpg.rf.bf9ec9ff1e6f40301c054a0f5a2caa09.jpg: 640x640 1 Medicine, 59.6ms\n",
      "image 96/140 /Users/apurvpandey/Documents/Ai4spro/Try_1/dataset/train/images/huawei-cn-84-_jpg.rf.1dfe41a3c5fdcbf5d36556354b4d9bed.jpg: 640x640 1 Medicine, 58.0ms\n",
      "image 97/140 /Users/apurvpandey/Documents/Ai4spro/Try_1/dataset/train/images/huawei-cn-85-_jpg.rf.9203eb59a13eef7fe0eb073f905ec704.jpg: 640x640 1 Medicine, 60.1ms\n",
      "image 98/140 /Users/apurvpandey/Documents/Ai4spro/Try_1/dataset/train/images/huawei-cn-86-_jpg.rf.2ef170163fd23966190f21e8ac58eaea.jpg: 640x640 1 Medicine, 60.6ms\n",
      "image 99/140 /Users/apurvpandey/Documents/Ai4spro/Try_1/dataset/train/images/huawei-cn-87-_jpg.rf.bab95eb7ae34f749757eb51c808a41aa.jpg: 640x640 1 Medicine, 60.9ms\n",
      "image 100/140 /Users/apurvpandey/Documents/Ai4spro/Try_1/dataset/train/images/huawei-cn-88-_jpg.rf.1e76f3c1726a9dd7752d2f6b26b3e810.jpg: 640x640 1 Medicine, 59.5ms\n",
      "image 101/140 /Users/apurvpandey/Documents/Ai4spro/Try_1/dataset/train/images/huawei-cn-89-_jpg.rf.eaebfd49fcf372aca39a1516e2f70e44.jpg: 640x640 1 Medicine, 90.7ms\n",
      "image 102/140 /Users/apurvpandey/Documents/Ai4spro/Try_1/dataset/train/images/huawei-cn-9-_jpg.rf.ce5fdb68631bf00b38a5a37eef1a01d5.jpg: 640x640 1 Medicine, 58.5ms\n",
      "image 103/140 /Users/apurvpandey/Documents/Ai4spro/Try_1/dataset/train/images/huawei-cn-90-_jpg.rf.918c93bafefbc7e58c5e5066448601a5.jpg: 640x640 1 Medicine, 59.0ms\n",
      "image 104/140 /Users/apurvpandey/Documents/Ai4spro/Try_1/dataset/train/images/huawei-cn-91-_jpg.rf.adfdbd9dc2ce9ffaa187b86f1f32ac90.jpg: 640x640 1 Medicine, 59.0ms\n",
      "image 105/140 /Users/apurvpandey/Documents/Ai4spro/Try_1/dataset/train/images/huawei-cn-95-_jpg.rf.f0f1b70cf8e3dd278f66580c44b14b42.jpg: 640x640 1 Medicine, 67.5ms\n",
      "image 106/140 /Users/apurvpandey/Documents/Ai4spro/Try_1/dataset/train/images/huawei-cn-96-_jpg.rf.a55d15ac2e9463b681af468dfcf1ae20.jpg: 640x640 1 Medicine, 57.7ms\n",
      "image 107/140 /Users/apurvpandey/Documents/Ai4spro/Try_1/dataset/train/images/huawei-cn-97-_jpg.rf.d5aace130b1161b44b70fc379cb92d2d.jpg: 640x640 1 Medicine, 59.5ms\n",
      "image 108/140 /Users/apurvpandey/Documents/Ai4spro/Try_1/dataset/train/images/huawei-cn-99-_jpg.rf.ac40c6e957481a47ce7f39637426b965.jpg: 640x640 1 Medicine, 56.8ms\n",
      "image 109/140 /Users/apurvpandey/Documents/Ai4spro/Try_1/dataset/train/images/huawei-p30-11-_jpg.rf.b0c126d85630e30bda8cb2731e8e0f4a.jpg: 640x640 1 Medicine, 59.3ms\n",
      "image 110/140 /Users/apurvpandey/Documents/Ai4spro/Try_1/dataset/train/images/huawei-p30-13-_jpg.rf.c73496403424d001ed2823857a4a2323.jpg: 640x640 1 Medicine, 60.4ms\n",
      "image 111/140 /Users/apurvpandey/Documents/Ai4spro/Try_1/dataset/train/images/huawei-p30-15-_jpg.rf.10ca3ffc414465125151dd9b627f0413.jpg: 640x640 1 Medicine, 59.3ms\n",
      "image 112/140 /Users/apurvpandey/Documents/Ai4spro/Try_1/dataset/train/images/huawei-p30-16-_jpg.rf.7ca455bc682c33e3ddf5c55cc62850e7.jpg: 640x640 1 Medicine, 62.7ms\n",
      "image 113/140 /Users/apurvpandey/Documents/Ai4spro/Try_1/dataset/train/images/huawei-p30-18-_jpg.rf.a45305b5b25fe7400c0e9dab7410e7d5.jpg: 640x640 1 Medicine, 59.3ms\n",
      "image 114/140 /Users/apurvpandey/Documents/Ai4spro/Try_1/dataset/train/images/huawei-p30-2-_jpg.rf.a84ea200782ccfa67ad21dddd27ca5d9.jpg: 640x640 1 Medicine, 60.2ms\n",
      "image 115/140 /Users/apurvpandey/Documents/Ai4spro/Try_1/dataset/train/images/huawei-p30-21-_jpg.rf.3bb70d874df72ee468ac2d8a5e71cf62.jpg: 640x640 1 Medicine, 61.8ms\n",
      "image 116/140 /Users/apurvpandey/Documents/Ai4spro/Try_1/dataset/train/images/huawei-p30-22-_jpg.rf.a6b9370627e05be49a0409f32df5db0b.jpg: 640x640 1 Medicine, 60.1ms\n",
      "image 117/140 /Users/apurvpandey/Documents/Ai4spro/Try_1/dataset/train/images/huawei-p30-23-_jpg.rf.a1422ff21b17daac92f912f2a464cc7a.jpg: 640x640 1 Medicine, 59.8ms\n",
      "image 118/140 /Users/apurvpandey/Documents/Ai4spro/Try_1/dataset/train/images/huawei-p30-24-_jpg.rf.c9f13ae7b71ad284f46474726d9cadd0.jpg: 640x640 1 Medicine, 59.5ms\n",
      "image 119/140 /Users/apurvpandey/Documents/Ai4spro/Try_1/dataset/train/images/huawei-p30-26-_jpg.rf.16501ecd5c6b7271687f20fc5392e8c8.jpg: 640x640 1 Medicine, 58.6ms\n",
      "image 120/140 /Users/apurvpandey/Documents/Ai4spro/Try_1/dataset/train/images/huawei-p30-28-_jpg.rf.56a47e07183e34009017356db69ee5c2.jpg: 640x640 1 Medicine, 65.9ms\n",
      "image 121/140 /Users/apurvpandey/Documents/Ai4spro/Try_1/dataset/train/images/huawei-p30-3-_jpg.rf.7a60c06b660052203f23a7a39efe3612.jpg: 640x640 1 Medicine, 58.1ms\n",
      "image 122/140 /Users/apurvpandey/Documents/Ai4spro/Try_1/dataset/train/images/huawei-p30-30-_jpg.rf.b3c86f980cb1e7f580b161d3874743b0.jpg: 640x640 1 Medicine, 56.8ms\n",
      "image 123/140 /Users/apurvpandey/Documents/Ai4spro/Try_1/dataset/train/images/huawei-p30-31-_jpg.rf.4fd3fae5f2f05ab3999a814d2d1b2e8b.jpg: 640x640 2 Medicines, 58.6ms\n",
      "image 124/140 /Users/apurvpandey/Documents/Ai4spro/Try_1/dataset/train/images/huawei-p30-34-_jpg.rf.1c648ec7d419e952bf961f87434c3a92.jpg: 640x640 1 Medicine, 59.8ms\n",
      "image 125/140 /Users/apurvpandey/Documents/Ai4spro/Try_1/dataset/train/images/huawei-p30-35-_jpg.rf.e8cff44e003ad1768dd2515415f26795.jpg: 640x640 1 Medicine, 58.9ms\n",
      "image 126/140 /Users/apurvpandey/Documents/Ai4spro/Try_1/dataset/train/images/huawei-p30-37-_jpg.rf.22db9c3cc2a3145c2638c9b40ac12242.jpg: 640x640 1 Medicine, 60.3ms\n",
      "image 127/140 /Users/apurvpandey/Documents/Ai4spro/Try_1/dataset/train/images/huawei-p30-38-_jpg.rf.6efdb71aac35edb39e9df9e417a72415.jpg: 640x640 1 Medicine, 59.6ms\n",
      "image 128/140 /Users/apurvpandey/Documents/Ai4spro/Try_1/dataset/train/images/huawei-p30-40-_jpg.rf.6981434d264a28f30c5936f52c1b185e.jpg: 640x640 1 Medicine, 60.6ms\n",
      "image 129/140 /Users/apurvpandey/Documents/Ai4spro/Try_1/dataset/train/images/huawei-p30-41-_jpg.rf.1ac50493314766d2ca23e7882da58720.jpg: 640x640 1 Medicine, 59.6ms\n",
      "image 130/140 /Users/apurvpandey/Documents/Ai4spro/Try_1/dataset/train/images/huawei-p30-42-_jpg.rf.2c49098c07b448bd64a2193a30cc1bd0.jpg: 640x640 1 Medicine, 57.5ms\n",
      "image 131/140 /Users/apurvpandey/Documents/Ai4spro/Try_1/dataset/train/images/huawei-p30-43-_jpg.rf.5f8bf21d4afe843287d66ae1c6fba64a.jpg: 640x640 1 Medicine, 60.3ms\n",
      "image 132/140 /Users/apurvpandey/Documents/Ai4spro/Try_1/dataset/train/images/huawei-p30-44-_jpg.rf.5e67e5500e993c04354e6195e3a4f2a7.jpg: 640x640 1 Medicine, 60.8ms\n",
      "image 133/140 /Users/apurvpandey/Documents/Ai4spro/Try_1/dataset/train/images/huawei-p30-45-_jpg.rf.135e7e7f023a86d7e0bc985ce695e949.jpg: 640x640 1 Medicine, 59.8ms\n",
      "image 134/140 /Users/apurvpandey/Documents/Ai4spro/Try_1/dataset/train/images/huawei-p30-48-_jpg.rf.6818dcb4e2bb4eab3ade95e9b3618cbb.jpg: 640x640 1 Medicine, 59.8ms\n",
      "image 135/140 /Users/apurvpandey/Documents/Ai4spro/Try_1/dataset/train/images/huawei-p30-49-_jpg.rf.13a8a06cdf9c2faf6ea52c6334e23ea4.jpg: 640x640 1 Medicine, 58.9ms\n",
      "image 136/140 /Users/apurvpandey/Documents/Ai4spro/Try_1/dataset/train/images/huawei-p30-5-_jpg.rf.7b4ca415cd39a61e8eea168292d83000.jpg: 640x640 1 Medicine, 57.6ms\n",
      "image 137/140 /Users/apurvpandey/Documents/Ai4spro/Try_1/dataset/train/images/huawei-p30-51-_jpg.rf.33ff8dfae63a36000dec3993ce4efa6d.jpg: 640x640 1 Medicine, 59.8ms\n",
      "image 138/140 /Users/apurvpandey/Documents/Ai4spro/Try_1/dataset/train/images/huawei-p30-6-_jpg.rf.41c3485a73faafaa87cdd86ebbe5a059.jpg: 640x640 1 Medicine, 60.8ms\n",
      "image 139/140 /Users/apurvpandey/Documents/Ai4spro/Try_1/dataset/train/images/huawei-p30-8-_jpg.rf.2bcc99c3922e4fcb854c4b28c35a7897.jpg: 640x640 1 Medicine, 58.1ms\n",
      "image 140/140 /Users/apurvpandey/Documents/Ai4spro/Try_1/dataset/train/images/huawei-p30-9-_jpg.rf.8fa23491369f775513d9268d8cd55110.jpg: 640x640 1 Medicine, 62.6ms\n",
      "Speed: 1.2ms preprocess, 63.5ms inference, 0.5ms postprocess per image at shape (1, 3, 640, 640)\n"
     ]
    }
   ],
   "source": [
    "results = model.predict(source='/Users/apurvpandey/Documents/Ai4spro/Try_1/dataset/train/images')"
   ]
  },
  {
   "cell_type": "code",
   "execution_count": 16,
   "metadata": {},
   "outputs": [],
   "source": [
    "for result in results:\n",
    "    result.show()"
   ]
  },
  {
   "cell_type": "code",
   "execution_count": null,
   "metadata": {},
   "outputs": [],
   "source": []
  }
 ],
 "metadata": {
  "kernelspec": {
   "display_name": ".venv",
   "language": "python",
   "name": "python3"
  },
  "language_info": {
   "codemirror_mode": {
    "name": "ipython",
    "version": 3
   },
   "file_extension": ".py",
   "mimetype": "text/x-python",
   "name": "python",
   "nbconvert_exporter": "python",
   "pygments_lexer": "ipython3",
   "version": "3.9.13"
  }
 },
 "nbformat": 4,
 "nbformat_minor": 2
}
